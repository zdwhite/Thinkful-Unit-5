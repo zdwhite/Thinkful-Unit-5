{
  "nbformat": 4,
  "nbformat_minor": 0,
  "metadata": {
    "colab": {
      "name": "Challenge: What test to use",
      "version": "0.3.2",
      "provenance": [],
      "include_colab_link": true
    },
    "kernelspec": {
      "name": "python3",
      "display_name": "Python 3"
    }
  },
  "cells": [
    {
      "cell_type": "markdown",
      "metadata": {
        "id": "view-in-github",
        "colab_type": "text"
      },
      "source": [
        "<a href=\"https://colab.research.google.com/github/zdwhite/Thinkful-Unit-5/blob/master/Challenge_What_test_to_use.ipynb\" target=\"_parent\"><img src=\"https://colab.research.google.com/assets/colab-badge.svg\" alt=\"Open In Colab\"/></a>"
      ]
    },
    {
      "cell_type": "markdown",
      "metadata": {
        "id": "s0fNrJo6HXwg",
        "colab_type": "text"
      },
      "source": [
        "# Challenge: What test to use\n",
        "\n",
        "Using selected questions from the 2012 and 2014 editions of the [European Social Survey](http://www.europeansocialsurvey.org/data/round-index.html), address the following questions. Keep track of your code and results in a Jupyter notebook or other source that you can share with your mentor. For each question, explain why you chose the approach you did.\n",
        "\n",
        "Here is the [data file](https://raw.githubusercontent.com/Thinkful-Ed/data-201-resources/master/ESS_practice_data/ESSdata_Thinkful.csv). And here is the [codebook](https://thinkful-ed.github.io/data-201-resources/ESS_practice_data/ESS_codebook.html), with information about the variable coding and content.\n",
        "\n",
        "In this dataset, the same participants answered questions in 2012 and again 2014.\n",
        "\n",
        "\n",
        "\n"
      ]
    },
    {
      "cell_type": "code",
      "metadata": {
        "id": "5VSmUj0pIL1l",
        "colab_type": "code",
        "colab": {}
      },
      "source": [
        "import pandas as pd\n",
        "import numpy as np\n",
        "from scipy import stats \n",
        "\n",
        "import matplotlib.pyplot as plt\n",
        "import seaborn as sns\n",
        "\n",
        "\n",
        "## importing data\n",
        "\n",
        "df = pd.read_csv('https://raw.githubusercontent.com/Thinkful-Ed/data-201-resources/master/ESS_practice_data/ESSdata_Thinkful.csv')\n",
        "\n",
        "# change some encoding for graphics later\n",
        "df['year']=np.where(df['year']==6,2012,2014)\n",
        "df['gndr']=np.where(df['gndr']==1,'Male','Female')\n",
        "\n",
        "df['partner']  = np.where(df['partner']==1,'Lives with Partner','Does not')\n",
        "\n",
        "df.dropna(inplace=True)"
      ],
      "execution_count": 0,
      "outputs": []
    },
    {
      "cell_type": "code",
      "metadata": {
        "id": "nNPxi5-c02NJ",
        "colab_type": "code",
        "colab": {}
      },
      "source": [
        "df = pd.read_csv('https://raw.githubusercontent.com/Thinkful-Ed/data-201-resources/master/ESS_practice_data/ESSdata_Thinkful.csv')\n",
        "#df.dropna(inplace=True)"
      ],
      "execution_count": 0,
      "outputs": []
    },
    {
      "cell_type": "code",
      "metadata": {
        "id": "0U3ArBu4OUq3",
        "colab_type": "code",
        "outputId": "2b3419ae-c4f7-45de-91af-da1070199000",
        "colab": {
          "base_uri": "https://localhost:8080/",
          "height": 319
        }
      },
      "source": [
        "df.info()"
      ],
      "execution_count": 61,
      "outputs": [
        {
          "output_type": "stream",
          "text": [
            "<class 'pandas.core.frame.DataFrame'>\n",
            "RangeIndex: 8594 entries, 0 to 8593\n",
            "Data columns (total 13 columns):\n",
            "cntry      8594 non-null object\n",
            "idno       8594 non-null float64\n",
            "year       8594 non-null int64\n",
            "tvtot      8586 non-null float64\n",
            "ppltrst    8580 non-null float64\n",
            "pplfair    8555 non-null float64\n",
            "pplhlp     8569 non-null float64\n",
            "happy      8563 non-null float64\n",
            "sclmeet    8579 non-null float64\n",
            "sclact     8500 non-null float64\n",
            "gndr       8584 non-null float64\n",
            "agea       8355 non-null float64\n",
            "partner    8577 non-null float64\n",
            "dtypes: float64(11), int64(1), object(1)\n",
            "memory usage: 872.9+ KB\n"
          ],
          "name": "stdout"
        }
      ]
    },
    {
      "cell_type": "code",
      "metadata": {
        "id": "zXhM54UHO3hu",
        "colab_type": "code",
        "outputId": "32f32266-c469-4146-b683-b80100ccbff8",
        "colab": {
          "base_uri": "https://localhost:8080/",
          "height": 252
        }
      },
      "source": [
        "df.isnull().sum()"
      ],
      "execution_count": 3,
      "outputs": [
        {
          "output_type": "execute_result",
          "data": {
            "text/plain": [
              "cntry      0\n",
              "idno       0\n",
              "year       0\n",
              "tvtot      0\n",
              "ppltrst    0\n",
              "pplfair    0\n",
              "pplhlp     0\n",
              "happy      0\n",
              "sclmeet    0\n",
              "sclact     0\n",
              "gndr       0\n",
              "agea       0\n",
              "partner    0\n",
              "dtype: int64"
            ]
          },
          "metadata": {
            "tags": []
          },
          "execution_count": 3
        }
      ]
    },
    {
      "cell_type": "markdown",
      "metadata": {
        "id": "vKkSvjccHr3p",
        "colab_type": "text"
      },
      "source": [
        "## Did people become less trusting from 2012 to 2014? Compute results for each country in the sample.\n",
        "\n",
        "**ppltrst**: Most people can be trusted or you can't be too careful\n",
        "\n",
        "Survey Question:\n",
        "\n",
        "All rounds: Using this card, generally speaking, would you say that most people can be trusted, or that you can't be too careful in dealing with people? Please tell me on a score of 0 to 10, where 0 means you can't be too careful and 10 means that most people can be trusted."
      ]
    },
    {
      "cell_type": "code",
      "metadata": {
        "id": "SizyVQJ8HSKj",
        "colab_type": "code",
        "colab": {}
      },
      "source": [
        "dd = pd.melt(df,id_vars=['cntry','year'],value_vars=['ppltrst'],value_name='Trust index')\n"
      ],
      "execution_count": 0,
      "outputs": []
    },
    {
      "cell_type": "code",
      "metadata": {
        "id": "t2IP7b05X_bo",
        "colab_type": "code",
        "outputId": "48baa2ed-7f14-47a7-be78-daea9131f7ad",
        "colab": {
          "base_uri": "https://localhost:8080/",
          "height": 402
        }
      },
      "source": [
        "df_year_cntry = df.groupby(['cntry','year'])['ppltrst'].describe().reset_index()\n",
        "\n",
        "df_year_cntry"
      ],
      "execution_count": 59,
      "outputs": [
        {
          "output_type": "execute_result",
          "data": {
            "text/html": [
              "<div>\n",
              "<style scoped>\n",
              "    .dataframe tbody tr th:only-of-type {\n",
              "        vertical-align: middle;\n",
              "    }\n",
              "\n",
              "    .dataframe tbody tr th {\n",
              "        vertical-align: top;\n",
              "    }\n",
              "\n",
              "    .dataframe thead th {\n",
              "        text-align: right;\n",
              "    }\n",
              "</style>\n",
              "<table border=\"1\" class=\"dataframe\">\n",
              "  <thead>\n",
              "    <tr style=\"text-align: right;\">\n",
              "      <th></th>\n",
              "      <th>cntry</th>\n",
              "      <th>year</th>\n",
              "      <th>count</th>\n",
              "      <th>mean</th>\n",
              "      <th>std</th>\n",
              "      <th>min</th>\n",
              "      <th>25%</th>\n",
              "      <th>50%</th>\n",
              "      <th>75%</th>\n",
              "      <th>max</th>\n",
              "    </tr>\n",
              "  </thead>\n",
              "  <tbody>\n",
              "    <tr>\n",
              "      <th>0</th>\n",
              "      <td>CH</td>\n",
              "      <td>6</td>\n",
              "      <td>732.0</td>\n",
              "      <td>5.685792</td>\n",
              "      <td>2.102611</td>\n",
              "      <td>0.0</td>\n",
              "      <td>4.00</td>\n",
              "      <td>6.0</td>\n",
              "      <td>7.00</td>\n",
              "      <td>10.0</td>\n",
              "    </tr>\n",
              "    <tr>\n",
              "      <th>1</th>\n",
              "      <td>CH</td>\n",
              "      <td>7</td>\n",
              "      <td>743.0</td>\n",
              "      <td>5.764468</td>\n",
              "      <td>2.119026</td>\n",
              "      <td>0.0</td>\n",
              "      <td>5.00</td>\n",
              "      <td>6.0</td>\n",
              "      <td>7.00</td>\n",
              "      <td>10.0</td>\n",
              "    </tr>\n",
              "    <tr>\n",
              "      <th>2</th>\n",
              "      <td>CZ</td>\n",
              "      <td>6</td>\n",
              "      <td>601.0</td>\n",
              "      <td>4.402662</td>\n",
              "      <td>2.402969</td>\n",
              "      <td>0.0</td>\n",
              "      <td>3.00</td>\n",
              "      <td>4.0</td>\n",
              "      <td>6.00</td>\n",
              "      <td>10.0</td>\n",
              "    </tr>\n",
              "    <tr>\n",
              "      <th>3</th>\n",
              "      <td>CZ</td>\n",
              "      <td>7</td>\n",
              "      <td>606.0</td>\n",
              "      <td>4.356436</td>\n",
              "      <td>2.309524</td>\n",
              "      <td>0.0</td>\n",
              "      <td>3.00</td>\n",
              "      <td>5.0</td>\n",
              "      <td>6.00</td>\n",
              "      <td>10.0</td>\n",
              "    </tr>\n",
              "    <tr>\n",
              "      <th>4</th>\n",
              "      <td>DE</td>\n",
              "      <td>6</td>\n",
              "      <td>13.0</td>\n",
              "      <td>5.076923</td>\n",
              "      <td>1.497862</td>\n",
              "      <td>3.0</td>\n",
              "      <td>4.00</td>\n",
              "      <td>5.0</td>\n",
              "      <td>5.00</td>\n",
              "      <td>8.0</td>\n",
              "    </tr>\n",
              "    <tr>\n",
              "      <th>5</th>\n",
              "      <td>DE</td>\n",
              "      <td>7</td>\n",
              "      <td>14.0</td>\n",
              "      <td>5.357143</td>\n",
              "      <td>2.530039</td>\n",
              "      <td>2.0</td>\n",
              "      <td>3.25</td>\n",
              "      <td>5.5</td>\n",
              "      <td>7.00</td>\n",
              "      <td>10.0</td>\n",
              "    </tr>\n",
              "    <tr>\n",
              "      <th>6</th>\n",
              "      <td>ES</td>\n",
              "      <td>6</td>\n",
              "      <td>1158.0</td>\n",
              "      <td>5.127807</td>\n",
              "      <td>2.161797</td>\n",
              "      <td>0.0</td>\n",
              "      <td>4.00</td>\n",
              "      <td>5.0</td>\n",
              "      <td>7.00</td>\n",
              "      <td>10.0</td>\n",
              "    </tr>\n",
              "    <tr>\n",
              "      <th>7</th>\n",
              "      <td>ES</td>\n",
              "      <td>7</td>\n",
              "      <td>1134.0</td>\n",
              "      <td>4.940035</td>\n",
              "      <td>2.117869</td>\n",
              "      <td>0.0</td>\n",
              "      <td>3.00</td>\n",
              "      <td>5.0</td>\n",
              "      <td>6.75</td>\n",
              "      <td>10.0</td>\n",
              "    </tr>\n",
              "    <tr>\n",
              "      <th>8</th>\n",
              "      <td>NO</td>\n",
              "      <td>6</td>\n",
              "      <td>708.0</td>\n",
              "      <td>6.648305</td>\n",
              "      <td>1.755745</td>\n",
              "      <td>0.0</td>\n",
              "      <td>5.00</td>\n",
              "      <td>7.0</td>\n",
              "      <td>8.00</td>\n",
              "      <td>10.0</td>\n",
              "    </tr>\n",
              "    <tr>\n",
              "      <th>9</th>\n",
              "      <td>NO</td>\n",
              "      <td>7</td>\n",
              "      <td>712.0</td>\n",
              "      <td>6.599719</td>\n",
              "      <td>1.819924</td>\n",
              "      <td>0.0</td>\n",
              "      <td>5.00</td>\n",
              "      <td>7.0</td>\n",
              "      <td>8.00</td>\n",
              "      <td>10.0</td>\n",
              "    </tr>\n",
              "    <tr>\n",
              "      <th>10</th>\n",
              "      <td>SE</td>\n",
              "      <td>6</td>\n",
              "      <td>859.0</td>\n",
              "      <td>6.043073</td>\n",
              "      <td>2.028758</td>\n",
              "      <td>0.0</td>\n",
              "      <td>5.00</td>\n",
              "      <td>7.0</td>\n",
              "      <td>8.00</td>\n",
              "      <td>10.0</td>\n",
              "    </tr>\n",
              "    <tr>\n",
              "      <th>11</th>\n",
              "      <td>SE</td>\n",
              "      <td>7</td>\n",
              "      <td>867.0</td>\n",
              "      <td>6.239908</td>\n",
              "      <td>2.005794</td>\n",
              "      <td>0.0</td>\n",
              "      <td>5.00</td>\n",
              "      <td>7.0</td>\n",
              "      <td>8.00</td>\n",
              "      <td>10.0</td>\n",
              "    </tr>\n",
              "  </tbody>\n",
              "</table>\n",
              "</div>"
            ],
            "text/plain": [
              "   cntry  year   count      mean       std  min   25%  50%   75%   max\n",
              "0     CH     6   732.0  5.685792  2.102611  0.0  4.00  6.0  7.00  10.0\n",
              "1     CH     7   743.0  5.764468  2.119026  0.0  5.00  6.0  7.00  10.0\n",
              "2     CZ     6   601.0  4.402662  2.402969  0.0  3.00  4.0  6.00  10.0\n",
              "3     CZ     7   606.0  4.356436  2.309524  0.0  3.00  5.0  6.00  10.0\n",
              "4     DE     6    13.0  5.076923  1.497862  3.0  4.00  5.0  5.00   8.0\n",
              "5     DE     7    14.0  5.357143  2.530039  2.0  3.25  5.5  7.00  10.0\n",
              "6     ES     6  1158.0  5.127807  2.161797  0.0  4.00  5.0  7.00  10.0\n",
              "7     ES     7  1134.0  4.940035  2.117869  0.0  3.00  5.0  6.75  10.0\n",
              "8     NO     6   708.0  6.648305  1.755745  0.0  5.00  7.0  8.00  10.0\n",
              "9     NO     7   712.0  6.599719  1.819924  0.0  5.00  7.0  8.00  10.0\n",
              "10    SE     6   859.0  6.043073  2.028758  0.0  5.00  7.0  8.00  10.0\n",
              "11    SE     7   867.0  6.239908  2.005794  0.0  5.00  7.0  8.00  10.0"
            ]
          },
          "metadata": {
            "tags": []
          },
          "execution_count": 59
        }
      ]
    },
    {
      "cell_type": "markdown",
      "metadata": {
        "id": "USvbzsvnruY3",
        "colab_type": "text"
      },
      "source": [
        "## Check for Outliers"
      ]
    },
    {
      "cell_type": "code",
      "metadata": {
        "id": "CGaY3AQ2Tqo4",
        "colab_type": "code",
        "outputId": "4af54fa9-aea9-47bb-a412-da385f8d9643",
        "colab": {
          "base_uri": "https://localhost:8080/",
          "height": 308
        }
      },
      "source": [
        "sns.set()\n",
        "g = sns.boxplot(y='cntry',x='Trust index',data=dd,orient ='h',hue='year')\n",
        "\n",
        "g.legend(loc='center right', bbox_to_anchor=(1.25, 0.5), ncol=1)"
      ],
      "execution_count": 7,
      "outputs": [
        {
          "output_type": "execute_result",
          "data": {
            "text/plain": [
              "<matplotlib.legend.Legend at 0x7fb3d7047710>"
            ]
          },
          "metadata": {
            "tags": []
          },
          "execution_count": 7
        },
        {
          "output_type": "display_data",
          "data": {
            "image/png": "[encoded data removed]",
            "text/plain": [
              "<Figure size 432x288 with 1 Axes>"
            ]
          },
          "metadata": {
            "tags": []
          }
        }
      ]
    },
    {
      "cell_type": "markdown",
      "metadata": {
        "id": "0Ku_CBVAz6v3",
        "colab_type": "text"
      },
      "source": [
        "Looking by country we can observe that outliers exist in six of the twelve sets."
      ]
    },
    {
      "cell_type": "markdown",
      "metadata": {
        "id": "XXkhTMTEryWU",
        "colab_type": "text"
      },
      "source": [
        "## Check for Normality"
      ]
    },
    {
      "cell_type": "code",
      "metadata": {
        "id": "FE3-xLoyrswH",
        "colab_type": "code",
        "colab": {}
      },
      "source": [
        "def shapiro(df):\n",
        "  cntry_list = df['cntry'].unique()\n",
        "  results = []\n",
        "  for x in cntry_list:\n",
        "    pop_1 = df.loc[(df['cntry']==x) & (df['year']==2012),['ppltrst']]\n",
        "    pop_2 = df.loc[(df['cntry']==x) & (df['year']==2014),['ppltrst']]\n",
        "    normal_1 = stats.shapiro(pop_1)\n",
        "    normal_2 = stats.shapiro(pop_2)\n",
        "    results.extend([normal_1,normal_2,x])\n",
        "  return results"
      ],
      "execution_count": 0,
      "outputs": []
    },
    {
      "cell_type": "code",
      "metadata": {
        "id": "LAsYYLzJstFi",
        "colab_type": "code",
        "colab": {
          "base_uri": "https://localhost:8080/",
          "height": 319
        },
        "outputId": "803c06ea-6b72-4d75-dc2c-4520d06d6416"
      },
      "source": [
        "shapiro(df)"
      ],
      "execution_count": 41,
      "outputs": [
        {
          "output_type": "execute_result",
          "data": {
            "text/plain": [
              "[(0.9517108201980591, 9.511383786695374e-15),\n",
              " (0.9547930955886841, 2.4654701498145852e-14),\n",
              " 'CH',\n",
              " (0.9679821133613586, 3.389247771323767e-10),\n",
              " (0.9714686870574951, 1.2018976924821345e-09),\n",
              " 'CZ',\n",
              " (0.8929166197776794, 0.10693283379077911),\n",
              " (0.9425466060638428, 0.4519253373146057),\n",
              " 'DE',\n",
              " (0.9493078589439392, 1.4677391976503768e-19),\n",
              " (0.9661633968353271, 1.2871629133506595e-15),\n",
              " 'ES',\n",
              " (0.9208088517189026, 7.932947968682749e-19),\n",
              " (0.9293321967124939, 7.98394313645876e-18),\n",
              " 'NO',\n",
              " (0.9367397427558899, 1.2586250953636158e-18),\n",
              " (0.9376322627067566, 1.3852298444033788e-18),\n",
              " 'SE']"
            ]
          },
          "metadata": {
            "tags": []
          },
          "execution_count": 41
        }
      ]
    },
    {
      "cell_type": "markdown",
      "metadata": {
        "id": "GZxHmz5KrnJ_",
        "colab_type": "text"
      },
      "source": [
        "Intrrupting the results above suggest that checking for normality on data that is essentially categorical is a bad idea as groups with low samples size such as Germany appear to be more normal looking than other countries with higher sample sizes such as Spain, this effect is shown in the QQ plots below. \n",
        "\n",
        "This rules our using any type of paired T-Tests as they rely on normality and the same sample size for each group which we don't have.\n",
        "\n"
      ]
    },
    {
      "cell_type": "code",
      "metadata": {
        "id": "kjuWo5Tcu6XF",
        "colab_type": "code",
        "colab": {
          "base_uri": "https://localhost:8080/",
          "height": 585
        },
        "outputId": "94164f91-0b34-4b11-ed5a-977ab81edd55"
      },
      "source": [
        "DE = df.loc[(df['cntry']=='DE') & (df['year']==2014),['ppltrst']]['ppltrst']\n",
        "ES = df.loc[(df['cntry']=='ES') & (df['year']==2014),['ppltrst']]['ppltrst']\n",
        "stats.probplot(DE, plot= plt)\n",
        "plt.title('Germany')\n",
        "\n",
        "plt.show() \n",
        "stats.probplot(ES, plot= plt)\n",
        "plt.title('Spain')\n",
        "\n",
        "plt.show() "
      ],
      "execution_count": 54,
      "outputs": [
        {
          "output_type": "display_data",
          "data": {
            "image/png": "[encoded data removed]",
            "text/plain": [
              "<Figure size 432x288 with 1 Axes>"
            ]
          },
          "metadata": {
            "tags": []
          }
        },
        {
          "output_type": "display_data",
          "data": {
            "image/png": "[encoded data removed]",
            "text/plain": [
              "<Figure size 432x288 with 1 Axes>"
            ]
          },
          "metadata": {
            "tags": []
          }
        }
      ]
    },
    {
      "cell_type": "code",
      "metadata": {
        "id": "RUPjsquymeQN",
        "colab_type": "code",
        "colab": {}
      },
      "source": [
        "# Country wise pair t-test\n",
        "\n",
        "\n",
        "\n",
        "def t_test(df):\n",
        "  cntry_list = df['cntry'].unique()\n",
        "  results = []\n",
        "  for x in cntry_list:\n",
        "    pop_1 = df.loc[(df['cntry']==x) & (df['year']==2012),['ppltrst']]\n",
        "    pop_2 = df.loc[(df['cntry']==x) & (df['year']==2014),['ppltrst']]\n",
        "    paired_t_test = stats.ttest_rel(pop_1,pop_2)\n",
        "    results.append(paired_t_test,x)\n",
        "  return results\n",
        "  "
      ],
      "execution_count": 0,
      "outputs": []
    },
    {
      "cell_type": "code",
      "metadata": {
        "id": "MXG7dDtYm1y1",
        "colab_type": "code",
        "colab": {
          "base_uri": "https://localhost:8080/",
          "height": 302
        },
        "outputId": "3a6fd92d-3b84-4025-fff7-30ec4d963366"
      },
      "source": [
        "#make list of countries seperate data from df first by country then slice by year and run t test\n",
        "\n",
        "#blah= t_test(df)\n",
        "#blah\n",
        "\n",
        "pop_1 = df.loc[(df['cntry']=='CH') & (df['year']==2012),['ppltrst']]\n",
        "pop_2 = df.loc[(df['cntry']=='CH') & (df['year']==2014),['ppltrst']]\n",
        "#stats.ttest_rel(pop_1,pop_2)\n",
        "\n",
        "pop_1.describe(),pop_2.describe()"
      ],
      "execution_count": 34,
      "outputs": [
        {
          "output_type": "execute_result",
          "data": {
            "text/plain": [
              "(          ppltrst\n",
              " count  732.000000\n",
              " mean     5.685792\n",
              " std      2.102611\n",
              " min      0.000000\n",
              " 25%      4.000000\n",
              " 50%      6.000000\n",
              " 75%      7.000000\n",
              " max     10.000000,           ppltrst\n",
              " count  743.000000\n",
              " mean     5.764468\n",
              " std      2.119026\n",
              " min      0.000000\n",
              " 25%      5.000000\n",
              " 50%      6.000000\n",
              " 75%      7.000000\n",
              " max     10.000000)"
            ]
          },
          "metadata": {
            "tags": []
          },
          "execution_count": 34
        }
      ]
    },
    {
      "cell_type": "markdown",
      "metadata": {
        "colab_type": "text",
        "id": "0cBqCdijH1XT"
      },
      "source": [
        "\n",
        "\n",
        "\n",
        "\n",
        "\n",
        "## Did people become happier from 2012 to 2014? Compute results for each country in the sample.\n",
        "\n"
      ]
    },
    {
      "cell_type": "code",
      "metadata": {
        "colab_type": "code",
        "id": "FjwCmQvzH18D",
        "colab": {}
      },
      "source": [
        "\n",
        "dd_happy = pd.melt(df,id_vars=['cntry','year'],value_vars=['happy'],value_name='happy')"
      ],
      "execution_count": 0,
      "outputs": []
    },
    {
      "cell_type": "code",
      "metadata": {
        "id": "8FU8dCBgg86y",
        "colab_type": "code",
        "outputId": "c39406da-2217-4a72-fcd0-1f147b5a46f2",
        "colab": {
          "base_uri": "https://localhost:8080/",
          "height": 308
        }
      },
      "source": [
        "sns.set()\n",
        "g = sns.boxplot(y='cntry',x='happy',data=dd_happy,orient ='h',hue='year')\n",
        "\n",
        "g.legend(loc='center right', bbox_to_anchor=(1.25, 0.5), ncol=1)"
      ],
      "execution_count": 0,
      "outputs": [
        {
          "output_type": "execute_result",
          "data": {
            "text/plain": [
              "<matplotlib.legend.Legend at 0x7fa538a3f5f8>"
            ]
          },
          "metadata": {
            "tags": []
          },
          "execution_count": 113
        },
        {
          "output_type": "display_data",
          "data": {
            "image/png": "[encoded data removed]",
            "text/plain": [
              "<Figure size 432x288 with 1 Axes>"
            ]
          },
          "metadata": {
            "tags": []
          }
        }
      ]
    },
    {
      "cell_type": "markdown",
      "metadata": {
        "colab_type": "text",
        "id": "tRBJy9tmH18D"
      },
      "source": [
        "\n",
        "\n",
        "\n",
        "\n",
        "\n",
        "## Who reported watching more TV in 2012, men or women?\n",
        "\n",
        "\n"
      ]
    },
    {
      "cell_type": "code",
      "metadata": {
        "colab_type": "code",
        "id": "53NdzlVOH1XT",
        "outputId": "5a1a0c89-2bed-4332-fac8-50f9a2434faa",
        "colab": {
          "base_uri": "https://localhost:8080/",
          "height": 300
        }
      },
      "source": [
        "dd_tv = pd.melt(df,id_vars=['gndr'],value_vars=['tvtot'],value_name='Hours of TV')\n",
        "\n",
        "sns.boxplot(y='gndr',x='Hours of TV',data=dd_tv,orient ='h')\n"
      ],
      "execution_count": 0,
      "outputs": [
        {
          "output_type": "execute_result",
          "data": {
            "text/plain": [
              "<matplotlib.axes._subplots.AxesSubplot at 0x7ff078bd9630>"
            ]
          },
          "metadata": {
            "tags": []
          },
          "execution_count": 2
        },
        {
          "output_type": "display_data",
          "data": {
            "image/png": "[encoded data removed]",
            "text/plain": [
              "<Figure size 432x288 with 1 Axes>"
            ]
          },
          "metadata": {
            "tags": []
          }
        }
      ]
    },
    {
      "cell_type": "code",
      "metadata": {
        "id": "SeEBU8yfk0Xr",
        "colab_type": "code",
        "outputId": "e72a4905-b5a7-44e3-8662-8e82ab4bd33f",
        "colab": {
          "base_uri": "https://localhost:8080/",
          "height": 301
        }
      },
      "source": [
        "pd.DataFrame(dd_tv[dd_tv['gndr']=='Female']['Hours of TV']).describe(),pd.DataFrame(dd_tv[dd_tv['gndr']=='Male']['Hours of TV']).describe()"
      ],
      "execution_count": 0,
      "outputs": [
        {
          "output_type": "execute_result",
          "data": {
            "text/plain": [
              "(       Hours of TV\n",
              " count  4064.000000\n",
              " mean      3.863435\n",
              " std       2.026116\n",
              " min       0.000000\n",
              " 25%       2.000000\n",
              " 50%       4.000000\n",
              " 75%       5.000000\n",
              " max       7.000000,        Hours of TV\n",
              " count  4109.000000\n",
              " mean      3.781455\n",
              " std       1.996208\n",
              " min       0.000000\n",
              " 25%       2.000000\n",
              " 50%       4.000000\n",
              " 75%       5.000000\n",
              " max       7.000000)"
            ]
          },
          "metadata": {
            "tags": []
          },
          "execution_count": 9
        }
      ]
    },
    {
      "cell_type": "markdown",
      "metadata": {
        "colab_type": "text",
        "id": "gO460vJnH3-g"
      },
      "source": [
        "\n",
        "\n",
        "\n",
        "\n",
        "\n",
        "## Who was more likely to believe people were fair in 2012, people living with a partner or people living alone?\n",
        "\n"
      ]
    },
    {
      "cell_type": "code",
      "metadata": {
        "colab_type": "code",
        "id": "JaWEMCojH3-h",
        "outputId": "7fc23666-5ac0-463f-d5a8-12665c4b30cc",
        "colab": {
          "base_uri": "https://localhost:8080/",
          "height": 308
        }
      },
      "source": [
        "dd_partner_fair = pd.melt(df[df['year']==2012],id_vars=['partner'],value_vars=['pplfair'],value_name='Fair Index')\n",
        "\n",
        "sns.boxplot(y='partner',x='Fair Index',data=dd_partner_fair,orient ='h')"
      ],
      "execution_count": 0,
      "outputs": [
        {
          "output_type": "execute_result",
          "data": {
            "text/plain": [
              "<matplotlib.axes._subplots.AxesSubplot at 0x7fa5383f8e80>"
            ]
          },
          "metadata": {
            "tags": []
          },
          "execution_count": 131
        },
        {
          "output_type": "display_data",
          "data": {
            "image/png": "[encoded data removed]",
            "text/plain": [
              "<Figure size 432x288 with 1 Axes>"
            ]
          },
          "metadata": {
            "tags": []
          }
        }
      ]
    },
    {
      "cell_type": "markdown",
      "metadata": {
        "colab_type": "text",
        "id": "yXfHTNjSIADA"
      },
      "source": [
        "\n",
        "\n",
        "\n",
        "\n",
        "\n",
        "## Pick three or four of the countries in the sample and compare how often people met socially in 2014. Are there differences, and if so, which countries stand out?\n"
      ]
    },
    {
      "cell_type": "code",
      "metadata": {
        "colab_type": "code",
        "id": "5YB3hETKIADB",
        "outputId": "b28b786b-8cc1-481f-9c00-5797c4ce5975",
        "colab": {
          "base_uri": "https://localhost:8080/",
          "height": 308
        }
      },
      "source": [
        "dd_sclmeet =  pd.melt(df[df['year']==2014],id_vars=['cntry'],value_vars=['sclmeet'],value_name='How often do you Socialize')\n",
        "\n",
        "sns.boxplot(y='cntry',x='How often do you Socialize',data=dd_sclmeet,orient ='h')"
      ],
      "execution_count": 0,
      "outputs": [
        {
          "output_type": "execute_result",
          "data": {
            "text/plain": [
              "<matplotlib.axes._subplots.AxesSubplot at 0x7fa5383e3b70>"
            ]
          },
          "metadata": {
            "tags": []
          },
          "execution_count": 132
        },
        {
          "output_type": "display_data",
          "data": {
            "image/png": "[encoded data removed]",
            "text/plain": [
              "<Figure size 432x288 with 1 Axes>"
            ]
          },
          "metadata": {
            "tags": []
          }
        }
      ]
    },
    {
      "cell_type": "markdown",
      "metadata": {
        "colab_type": "text",
        "id": "MZzdXAA9IErk"
      },
      "source": [
        "## Pick three or four of the countries in the sample and compare how often people took part in social activities, relative to others their age, in 2014. Are there differences, and if so, which countries stand out?\n"
      ]
    },
    {
      "cell_type": "code",
      "metadata": {
        "colab_type": "code",
        "id": "rfZxTEzAIErl",
        "outputId": "437d998c-eabf-4730-8b71-ab6371815bef",
        "colab": {
          "base_uri": "https://localhost:8080/",
          "height": 308
        }
      },
      "source": [
        "dd_sclact = pd.melt(df[df['year']==2014],id_vars=['cntry'],value_vars=['sclact'],value_name='Age Relative Social Activity')\n",
        "\n",
        "sns.boxplot(y='cntry',x='Age Relative Social Activity',data=dd_sclact,orient ='h')"
      ],
      "execution_count": 0,
      "outputs": [
        {
          "output_type": "execute_result",
          "data": {
            "text/plain": [
              "<matplotlib.axes._subplots.AxesSubplot at 0x7fa538333160>"
            ]
          },
          "metadata": {
            "tags": []
          },
          "execution_count": 137
        },
        {
          "output_type": "display_data",
          "data": {
            "image/png": "[encoded data removed]",
            "text/plain": [
              "<Figure size 432x288 with 1 Axes>"
            ]
          },
          "metadata": {
            "tags": []
          }
        }
      ]
    },
    {
      "cell_type": "code",
      "metadata": {
        "id": "tLh29hCbxZCR",
        "colab_type": "code",
        "outputId": "f11a93ef-e624-44c4-95df-c7a7f658d6b9",
        "colab": {
          "base_uri": "https://localhost:8080/",
          "height": 254
        }
      },
      "source": [
        "df[df['year']==2014].groupby(['year','cntry'])['sclact'].describe()"
      ],
      "execution_count": 0,
      "outputs": [
        {
          "output_type": "execute_result",
          "data": {
            "text/html": [
              "<div>\n",
              "<style scoped>\n",
              "    .dataframe tbody tr th:only-of-type {\n",
              "        vertical-align: middle;\n",
              "    }\n",
              "\n",
              "    .dataframe tbody tr th {\n",
              "        vertical-align: top;\n",
              "    }\n",
              "\n",
              "    .dataframe thead th {\n",
              "        text-align: right;\n",
              "    }\n",
              "</style>\n",
              "<table border=\"1\" class=\"dataframe\">\n",
              "  <thead>\n",
              "    <tr style=\"text-align: right;\">\n",
              "      <th></th>\n",
              "      <th></th>\n",
              "      <th>count</th>\n",
              "      <th>mean</th>\n",
              "      <th>std</th>\n",
              "      <th>min</th>\n",
              "      <th>25%</th>\n",
              "      <th>50%</th>\n",
              "      <th>75%</th>\n",
              "      <th>max</th>\n",
              "    </tr>\n",
              "    <tr>\n",
              "      <th>year</th>\n",
              "      <th>cntry</th>\n",
              "      <th></th>\n",
              "      <th></th>\n",
              "      <th></th>\n",
              "      <th></th>\n",
              "      <th></th>\n",
              "      <th></th>\n",
              "      <th></th>\n",
              "      <th></th>\n",
              "    </tr>\n",
              "  </thead>\n",
              "  <tbody>\n",
              "    <tr>\n",
              "      <th rowspan=\"6\" valign=\"top\">2014</th>\n",
              "      <th>CH</th>\n",
              "      <td>743.0</td>\n",
              "      <td>2.784657</td>\n",
              "      <td>0.906360</td>\n",
              "      <td>1.0</td>\n",
              "      <td>2.00</td>\n",
              "      <td>3.0</td>\n",
              "      <td>3.0</td>\n",
              "      <td>5.0</td>\n",
              "    </tr>\n",
              "    <tr>\n",
              "      <th>CZ</th>\n",
              "      <td>622.0</td>\n",
              "      <td>2.729904</td>\n",
              "      <td>0.838509</td>\n",
              "      <td>1.0</td>\n",
              "      <td>2.00</td>\n",
              "      <td>3.0</td>\n",
              "      <td>3.0</td>\n",
              "      <td>5.0</td>\n",
              "    </tr>\n",
              "    <tr>\n",
              "      <th>DE</th>\n",
              "      <td>14.0</td>\n",
              "      <td>2.714286</td>\n",
              "      <td>0.726273</td>\n",
              "      <td>1.0</td>\n",
              "      <td>2.25</td>\n",
              "      <td>3.0</td>\n",
              "      <td>3.0</td>\n",
              "      <td>4.0</td>\n",
              "    </tr>\n",
              "    <tr>\n",
              "      <th>ES</th>\n",
              "      <td>1137.0</td>\n",
              "      <td>2.631486</td>\n",
              "      <td>0.949700</td>\n",
              "      <td>1.0</td>\n",
              "      <td>2.00</td>\n",
              "      <td>3.0</td>\n",
              "      <td>3.0</td>\n",
              "      <td>5.0</td>\n",
              "    </tr>\n",
              "    <tr>\n",
              "      <th>NO</th>\n",
              "      <td>713.0</td>\n",
              "      <td>2.858345</td>\n",
              "      <td>0.823371</td>\n",
              "      <td>1.0</td>\n",
              "      <td>2.00</td>\n",
              "      <td>3.0</td>\n",
              "      <td>3.0</td>\n",
              "      <td>5.0</td>\n",
              "    </tr>\n",
              "    <tr>\n",
              "      <th>SE</th>\n",
              "      <td>867.0</td>\n",
              "      <td>2.878893</td>\n",
              "      <td>0.859859</td>\n",
              "      <td>1.0</td>\n",
              "      <td>2.00</td>\n",
              "      <td>3.0</td>\n",
              "      <td>3.0</td>\n",
              "      <td>5.0</td>\n",
              "    </tr>\n",
              "  </tbody>\n",
              "</table>\n",
              "</div>"
            ],
            "text/plain": [
              "             count      mean       std  min   25%  50%  75%  max\n",
              "year cntry                                                      \n",
              "2014 CH      743.0  2.784657  0.906360  1.0  2.00  3.0  3.0  5.0\n",
              "     CZ      622.0  2.729904  0.838509  1.0  2.00  3.0  3.0  5.0\n",
              "     DE       14.0  2.714286  0.726273  1.0  2.25  3.0  3.0  4.0\n",
              "     ES     1137.0  2.631486  0.949700  1.0  2.00  3.0  3.0  5.0\n",
              "     NO      713.0  2.858345  0.823371  1.0  2.00  3.0  3.0  5.0\n",
              "     SE      867.0  2.878893  0.859859  1.0  2.00  3.0  3.0  5.0"
            ]
          },
          "metadata": {
            "tags": []
          },
          "execution_count": 140
        }
      ]
    },
    {
      "cell_type": "code",
      "metadata": {
        "id": "g_j3xbJ4y3iT",
        "colab_type": "code",
        "colab": {}
      },
      "source": [
        ""
      ],
      "execution_count": 0,
      "outputs": []
    }
  ]
}