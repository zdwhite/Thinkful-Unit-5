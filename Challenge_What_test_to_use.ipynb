{
  "nbformat": 4,
  "nbformat_minor": 0,
  "metadata": {
    "colab": {
      "name": "Challenge: What test to use",
      "version": "0.3.2",
      "provenance": [],
      "include_colab_link": true
    },
    "kernelspec": {
      "name": "python3",
      "display_name": "Python 3"
    }
  },
  "cells": [
    {
      "cell_type": "markdown",
      "metadata": {
        "id": "view-in-github",
        "colab_type": "text"
      },
      "source": [
        "<a href=\"https://colab.research.google.com/github/zdwhite/Thinkful-Unit-5/blob/master/Challenge_What_test_to_use.ipynb\" target=\"_parent\"><img src=\"https://colab.research.google.com/assets/colab-badge.svg\" alt=\"Open In Colab\"/></a>"
      ]
    },
    {
      "cell_type": "markdown",
      "metadata": {
        "id": "s0fNrJo6HXwg",
        "colab_type": "text"
      },
      "source": [
        "# Challenge: What test to use\n",
        "\n",
        "Using selected questions from the 2012 and 2014 editions of the [European Social Survey](http://www.europeansocialsurvey.org/data/round-index.html), address the following questions. Keep track of your code and results in a Jupyter notebook or other source that you can share with your mentor. For each question, explain why you chose the approach you did.\n",
        "\n",
        "Here is the [data file](https://raw.githubusercontent.com/Thinkful-Ed/data-201-resources/master/ESS_practice_data/ESSdata_Thinkful.csv). And here is the [codebook](https://thinkful-ed.github.io/data-201-resources/ESS_practice_data/ESS_codebook.html), with information about the variable coding and content.\n",
        "\n",
        "In this dataset, the same participants answered questions in 2012 and again 2014.\n",
        "\n",
        "This will guide one to choose the correct test depending on your question and data type.\n",
        "[[1]](https://stats.idre.ucla.edu/other/mult-pkg/whatstat/)\n",
        "\n",
        "This guide will help you better understand each of the statistical tests and their assumptions. [[2]](https://machinelearningmastery.com/nonparametric-statistical-significance-tests-in-python/)\n"
      ]
    },
    {
      "cell_type": "code",
      "metadata": {
        "id": "5VSmUj0pIL1l",
        "colab_type": "code",
        "colab": {}
      },
      "source": [
        "import pandas as pd\n",
        "import numpy as np\n",
        "from scipy import stats \n",
        "\n",
        "import matplotlib.pyplot as plt\n",
        "import seaborn as sns\n",
        "\n",
        "\n",
        "## importing data\n",
        "\n",
        "df = pd.read_csv('https://raw.githubusercontent.com/Thinkful-Ed/data-201-resources/master/ESS_practice_data/ESSdata_Thinkful.csv')\n",
        "\n",
        "# change some encoding for graphics later\n",
        "df['year']=np.where(df['year']==6,2012,2014)\n",
        "df['gndr']=np.where(df['gndr']==1,'Male','Female')\n",
        "\n",
        "df['partner']  = np.where(df['partner']==1,'Lives with Partner','Does not')\n"
      ],
      "execution_count": 0,
      "outputs": []
    },
    {
      "cell_type": "code",
      "metadata": {
        "id": "0U3ArBu4OUq3",
        "colab_type": "code",
        "outputId": "672e6fee-dc5c-42f6-9abc-6f4db22b9537",
        "colab": {
          "base_uri": "https://localhost:8080/",
          "height": 319
        }
      },
      "source": [
        "df.info()"
      ],
      "execution_count": 4,
      "outputs": [
        {
          "output_type": "stream",
          "text": [
            "<class 'pandas.core.frame.DataFrame'>\n",
            "RangeIndex: 8594 entries, 0 to 8593\n",
            "Data columns (total 13 columns):\n",
            "cntry      8594 non-null object\n",
            "idno       8594 non-null float64\n",
            "year       8594 non-null int64\n",
            "tvtot      8586 non-null float64\n",
            "ppltrst    8580 non-null float64\n",
            "pplfair    8555 non-null float64\n",
            "pplhlp     8569 non-null float64\n",
            "happy      8563 non-null float64\n",
            "sclmeet    8579 non-null float64\n",
            "sclact     8500 non-null float64\n",
            "gndr       8594 non-null object\n",
            "agea       8355 non-null float64\n",
            "partner    8594 non-null object\n",
            "dtypes: float64(9), int64(1), object(3)\n",
            "memory usage: 872.9+ KB\n"
          ],
          "name": "stdout"
        }
      ]
    },
    {
      "cell_type": "code",
      "metadata": {
        "id": "zXhM54UHO3hu",
        "colab_type": "code",
        "outputId": "56c3158c-009d-43e6-9853-9dcf699a8c4d",
        "colab": {
          "base_uri": "https://localhost:8080/",
          "height": 252
        }
      },
      "source": [
        "df.isnull().sum()"
      ],
      "execution_count": 5,
      "outputs": [
        {
          "output_type": "execute_result",
          "data": {
            "text/plain": [
              "cntry        0\n",
              "idno         0\n",
              "year         0\n",
              "tvtot        8\n",
              "ppltrst     14\n",
              "pplfair     39\n",
              "pplhlp      25\n",
              "happy       31\n",
              "sclmeet     15\n",
              "sclact      94\n",
              "gndr         0\n",
              "agea       239\n",
              "partner      0\n",
              "dtype: int64"
            ]
          },
          "metadata": {
            "tags": []
          },
          "execution_count": 5
        }
      ]
    },
    {
      "cell_type": "code",
      "metadata": {
        "id": "D6mKtOk-4rZs",
        "colab_type": "code",
        "outputId": "4c57f270-ed03-4264-aeda-e27fd1738728",
        "colab": {
          "base_uri": "https://localhost:8080/",
          "height": 252
        }
      },
      "source": [
        "df.fillna(inplace=True,method='ffill')\n",
        "\n",
        "df.isnull().sum()"
      ],
      "execution_count": 6,
      "outputs": [
        {
          "output_type": "execute_result",
          "data": {
            "text/plain": [
              "cntry      0\n",
              "idno       0\n",
              "year       0\n",
              "tvtot      0\n",
              "ppltrst    0\n",
              "pplfair    0\n",
              "pplhlp     0\n",
              "happy      0\n",
              "sclmeet    0\n",
              "sclact     0\n",
              "gndr       0\n",
              "agea       0\n",
              "partner    0\n",
              "dtype: int64"
            ]
          },
          "metadata": {
            "tags": []
          },
          "execution_count": 6
        }
      ]
    },
    {
      "cell_type": "code",
      "metadata": {
        "id": "Dc4FvpOo5drQ",
        "colab_type": "code",
        "outputId": "e3b9ec9c-7e76-45c6-ad79-b4670f25ca7a",
        "colab": {
          "base_uri": "https://localhost:8080/",
          "height": 510
        }
      },
      "source": [
        "df.groupby(['cntry','year']).describe()"
      ],
      "execution_count": 7,
      "outputs": [
        {
          "output_type": "execute_result",
          "data": {
            "text/html": [
              "<div>\n",
              "<style scoped>\n",
              "    .dataframe tbody tr th:only-of-type {\n",
              "        vertical-align: middle;\n",
              "    }\n",
              "\n",
              "    .dataframe tbody tr th {\n",
              "        vertical-align: top;\n",
              "    }\n",
              "\n",
              "    .dataframe thead tr th {\n",
              "        text-align: left;\n",
              "    }\n",
              "\n",
              "    .dataframe thead tr:last-of-type th {\n",
              "        text-align: right;\n",
              "    }\n",
              "</style>\n",
              "<table border=\"1\" class=\"dataframe\">\n",
              "  <thead>\n",
              "    <tr>\n",
              "      <th></th>\n",
              "      <th></th>\n",
              "      <th colspan=\"8\" halign=\"left\">idno</th>\n",
              "      <th colspan=\"2\" halign=\"left\">tvtot</th>\n",
              "      <th>...</th>\n",
              "      <th colspan=\"2\" halign=\"left\">sclact</th>\n",
              "      <th colspan=\"8\" halign=\"left\">agea</th>\n",
              "    </tr>\n",
              "    <tr>\n",
              "      <th></th>\n",
              "      <th></th>\n",
              "      <th>count</th>\n",
              "      <th>mean</th>\n",
              "      <th>std</th>\n",
              "      <th>min</th>\n",
              "      <th>25%</th>\n",
              "      <th>50%</th>\n",
              "      <th>75%</th>\n",
              "      <th>max</th>\n",
              "      <th>count</th>\n",
              "      <th>mean</th>\n",
              "      <th>...</th>\n",
              "      <th>75%</th>\n",
              "      <th>max</th>\n",
              "      <th>count</th>\n",
              "      <th>mean</th>\n",
              "      <th>std</th>\n",
              "      <th>min</th>\n",
              "      <th>25%</th>\n",
              "      <th>50%</th>\n",
              "      <th>75%</th>\n",
              "      <th>max</th>\n",
              "    </tr>\n",
              "    <tr>\n",
              "      <th>cntry</th>\n",
              "      <th>year</th>\n",
              "      <th></th>\n",
              "      <th></th>\n",
              "      <th></th>\n",
              "      <th></th>\n",
              "      <th></th>\n",
              "      <th></th>\n",
              "      <th></th>\n",
              "      <th></th>\n",
              "      <th></th>\n",
              "      <th></th>\n",
              "      <th></th>\n",
              "      <th></th>\n",
              "      <th></th>\n",
              "      <th></th>\n",
              "      <th></th>\n",
              "      <th></th>\n",
              "      <th></th>\n",
              "      <th></th>\n",
              "      <th></th>\n",
              "      <th></th>\n",
              "      <th></th>\n",
              "    </tr>\n",
              "  </thead>\n",
              "  <tbody>\n",
              "    <tr>\n",
              "      <th rowspan=\"2\" valign=\"top\">CH</th>\n",
              "      <th>2012</th>\n",
              "      <td>773.0</td>\n",
              "      <td>1.480680e+03</td>\n",
              "      <td>837.085069</td>\n",
              "      <td>5.0</td>\n",
              "      <td>761.00</td>\n",
              "      <td>1432.0</td>\n",
              "      <td>2243.00</td>\n",
              "      <td>2905.0</td>\n",
              "      <td>773.0</td>\n",
              "      <td>3.143596</td>\n",
              "      <td>...</td>\n",
              "      <td>3.0</td>\n",
              "      <td>5.0</td>\n",
              "      <td>773.0</td>\n",
              "      <td>47.316947</td>\n",
              "      <td>18.440822</td>\n",
              "      <td>16.0</td>\n",
              "      <td>32.00</td>\n",
              "      <td>47.0</td>\n",
              "      <td>60.00</td>\n",
              "      <td>94.0</td>\n",
              "    </tr>\n",
              "    <tr>\n",
              "      <th>2014</th>\n",
              "      <td>773.0</td>\n",
              "      <td>1.480680e+03</td>\n",
              "      <td>837.085069</td>\n",
              "      <td>5.0</td>\n",
              "      <td>761.00</td>\n",
              "      <td>1432.0</td>\n",
              "      <td>2243.00</td>\n",
              "      <td>2905.0</td>\n",
              "      <td>773.0</td>\n",
              "      <td>3.065977</td>\n",
              "      <td>...</td>\n",
              "      <td>3.0</td>\n",
              "      <td>5.0</td>\n",
              "      <td>773.0</td>\n",
              "      <td>46.157827</td>\n",
              "      <td>18.760515</td>\n",
              "      <td>16.0</td>\n",
              "      <td>32.00</td>\n",
              "      <td>45.0</td>\n",
              "      <td>60.00</td>\n",
              "      <td>92.0</td>\n",
              "    </tr>\n",
              "    <tr>\n",
              "      <th rowspan=\"2\" valign=\"top\">CZ</th>\n",
              "      <th>2012</th>\n",
              "      <td>658.0</td>\n",
              "      <td>1.445666e+03</td>\n",
              "      <td>368.654806</td>\n",
              "      <td>1001.0</td>\n",
              "      <td>1169.25</td>\n",
              "      <td>1333.5</td>\n",
              "      <td>1500.75</td>\n",
              "      <td>2151.0</td>\n",
              "      <td>658.0</td>\n",
              "      <td>5.141337</td>\n",
              "      <td>...</td>\n",
              "      <td>3.0</td>\n",
              "      <td>5.0</td>\n",
              "      <td>658.0</td>\n",
              "      <td>47.031915</td>\n",
              "      <td>17.419365</td>\n",
              "      <td>16.0</td>\n",
              "      <td>34.00</td>\n",
              "      <td>47.0</td>\n",
              "      <td>60.00</td>\n",
              "      <td>91.0</td>\n",
              "    </tr>\n",
              "    <tr>\n",
              "      <th>2014</th>\n",
              "      <td>658.0</td>\n",
              "      <td>1.445666e+03</td>\n",
              "      <td>368.654806</td>\n",
              "      <td>1001.0</td>\n",
              "      <td>1169.25</td>\n",
              "      <td>1333.5</td>\n",
              "      <td>1500.75</td>\n",
              "      <td>2151.0</td>\n",
              "      <td>658.0</td>\n",
              "      <td>4.686930</td>\n",
              "      <td>...</td>\n",
              "      <td>3.0</td>\n",
              "      <td>5.0</td>\n",
              "      <td>658.0</td>\n",
              "      <td>45.545593</td>\n",
              "      <td>16.320101</td>\n",
              "      <td>15.0</td>\n",
              "      <td>34.00</td>\n",
              "      <td>45.0</td>\n",
              "      <td>58.00</td>\n",
              "      <td>87.0</td>\n",
              "    </tr>\n",
              "    <tr>\n",
              "      <th rowspan=\"2\" valign=\"top\">DE</th>\n",
              "      <th>2012</th>\n",
              "      <td>14.0</td>\n",
              "      <td>1.100048e+07</td>\n",
              "      <td>506.292818</td>\n",
              "      <td>11000031.0</td>\n",
              "      <td>11000101.00</td>\n",
              "      <td>11000271.0</td>\n",
              "      <td>11000833.50</td>\n",
              "      <td>11001431.0</td>\n",
              "      <td>14.0</td>\n",
              "      <td>4.928571</td>\n",
              "      <td>...</td>\n",
              "      <td>3.0</td>\n",
              "      <td>5.0</td>\n",
              "      <td>14.0</td>\n",
              "      <td>52.071429</td>\n",
              "      <td>16.578319</td>\n",
              "      <td>26.0</td>\n",
              "      <td>38.00</td>\n",
              "      <td>54.0</td>\n",
              "      <td>61.25</td>\n",
              "      <td>75.0</td>\n",
              "    </tr>\n",
              "    <tr>\n",
              "      <th>2014</th>\n",
              "      <td>14.0</td>\n",
              "      <td>1.100048e+07</td>\n",
              "      <td>506.292818</td>\n",
              "      <td>11000031.0</td>\n",
              "      <td>11000101.00</td>\n",
              "      <td>11000271.0</td>\n",
              "      <td>11000833.50</td>\n",
              "      <td>11001431.0</td>\n",
              "      <td>14.0</td>\n",
              "      <td>3.071429</td>\n",
              "      <td>...</td>\n",
              "      <td>3.0</td>\n",
              "      <td>4.0</td>\n",
              "      <td>14.0</td>\n",
              "      <td>59.714286</td>\n",
              "      <td>15.162852</td>\n",
              "      <td>36.0</td>\n",
              "      <td>49.75</td>\n",
              "      <td>56.5</td>\n",
              "      <td>66.50</td>\n",
              "      <td>89.0</td>\n",
              "    </tr>\n",
              "    <tr>\n",
              "      <th rowspan=\"2\" valign=\"top\">ES</th>\n",
              "      <th>2012</th>\n",
              "      <td>1213.0</td>\n",
              "      <td>1.467607e+03</td>\n",
              "      <td>818.301231</td>\n",
              "      <td>1.0</td>\n",
              "      <td>807.00</td>\n",
              "      <td>1456.0</td>\n",
              "      <td>2175.00</td>\n",
              "      <td>2865.0</td>\n",
              "      <td>1213.0</td>\n",
              "      <td>3.977741</td>\n",
              "      <td>...</td>\n",
              "      <td>3.0</td>\n",
              "      <td>5.0</td>\n",
              "      <td>1213.0</td>\n",
              "      <td>47.830173</td>\n",
              "      <td>17.702926</td>\n",
              "      <td>16.0</td>\n",
              "      <td>35.00</td>\n",
              "      <td>46.0</td>\n",
              "      <td>61.00</td>\n",
              "      <td>103.0</td>\n",
              "    </tr>\n",
              "    <tr>\n",
              "      <th>2014</th>\n",
              "      <td>1213.0</td>\n",
              "      <td>1.467607e+03</td>\n",
              "      <td>818.301231</td>\n",
              "      <td>1.0</td>\n",
              "      <td>807.00</td>\n",
              "      <td>1456.0</td>\n",
              "      <td>2175.00</td>\n",
              "      <td>2865.0</td>\n",
              "      <td>1213.0</td>\n",
              "      <td>4.016488</td>\n",
              "      <td>...</td>\n",
              "      <td>3.0</td>\n",
              "      <td>5.0</td>\n",
              "      <td>1213.0</td>\n",
              "      <td>47.925804</td>\n",
              "      <td>18.633900</td>\n",
              "      <td>16.0</td>\n",
              "      <td>33.00</td>\n",
              "      <td>47.0</td>\n",
              "      <td>61.00</td>\n",
              "      <td>101.0</td>\n",
              "    </tr>\n",
              "    <tr>\n",
              "      <th rowspan=\"2\" valign=\"top\">NO</th>\n",
              "      <th>2012</th>\n",
              "      <td>731.0</td>\n",
              "      <td>1.430671e+04</td>\n",
              "      <td>4672.042957</td>\n",
              "      <td>6312.0</td>\n",
              "      <td>10347.00</td>\n",
              "      <td>14346.0</td>\n",
              "      <td>18558.00</td>\n",
              "      <td>22428.0</td>\n",
              "      <td>731.0</td>\n",
              "      <td>3.837209</td>\n",
              "      <td>...</td>\n",
              "      <td>3.0</td>\n",
              "      <td>5.0</td>\n",
              "      <td>731.0</td>\n",
              "      <td>46.392613</td>\n",
              "      <td>17.823961</td>\n",
              "      <td>15.0</td>\n",
              "      <td>32.00</td>\n",
              "      <td>46.0</td>\n",
              "      <td>60.00</td>\n",
              "      <td>93.0</td>\n",
              "    </tr>\n",
              "    <tr>\n",
              "      <th>2014</th>\n",
              "      <td>731.0</td>\n",
              "      <td>1.430671e+04</td>\n",
              "      <td>4672.042957</td>\n",
              "      <td>6312.0</td>\n",
              "      <td>10347.00</td>\n",
              "      <td>14346.0</td>\n",
              "      <td>18558.00</td>\n",
              "      <td>22428.0</td>\n",
              "      <td>731.0</td>\n",
              "      <td>3.705882</td>\n",
              "      <td>...</td>\n",
              "      <td>3.0</td>\n",
              "      <td>5.0</td>\n",
              "      <td>731.0</td>\n",
              "      <td>46.584131</td>\n",
              "      <td>18.537543</td>\n",
              "      <td>15.0</td>\n",
              "      <td>32.00</td>\n",
              "      <td>47.0</td>\n",
              "      <td>60.50</td>\n",
              "      <td>94.0</td>\n",
              "    </tr>\n",
              "    <tr>\n",
              "      <th rowspan=\"2\" valign=\"top\">SE</th>\n",
              "      <th>2012</th>\n",
              "      <td>908.0</td>\n",
              "      <td>1.765173e+03</td>\n",
              "      <td>1098.083963</td>\n",
              "      <td>7.0</td>\n",
              "      <td>788.50</td>\n",
              "      <td>1585.0</td>\n",
              "      <td>2733.75</td>\n",
              "      <td>3746.0</td>\n",
              "      <td>908.0</td>\n",
              "      <td>3.691630</td>\n",
              "      <td>...</td>\n",
              "      <td>3.0</td>\n",
              "      <td>5.0</td>\n",
              "      <td>908.0</td>\n",
              "      <td>49.591410</td>\n",
              "      <td>19.382684</td>\n",
              "      <td>15.0</td>\n",
              "      <td>33.00</td>\n",
              "      <td>51.0</td>\n",
              "      <td>67.00</td>\n",
              "      <td>96.0</td>\n",
              "    </tr>\n",
              "    <tr>\n",
              "      <th>2014</th>\n",
              "      <td>908.0</td>\n",
              "      <td>1.765173e+03</td>\n",
              "      <td>1098.083963</td>\n",
              "      <td>7.0</td>\n",
              "      <td>788.50</td>\n",
              "      <td>1585.0</td>\n",
              "      <td>2733.75</td>\n",
              "      <td>3746.0</td>\n",
              "      <td>908.0</td>\n",
              "      <td>3.585903</td>\n",
              "      <td>...</td>\n",
              "      <td>3.0</td>\n",
              "      <td>5.0</td>\n",
              "      <td>908.0</td>\n",
              "      <td>50.101322</td>\n",
              "      <td>19.882807</td>\n",
              "      <td>15.0</td>\n",
              "      <td>33.00</td>\n",
              "      <td>52.0</td>\n",
              "      <td>67.00</td>\n",
              "      <td>114.0</td>\n",
              "    </tr>\n",
              "  </tbody>\n",
              "</table>\n",
              "<p>12 rows × 72 columns</p>\n",
              "</div>"
            ],
            "text/plain": [
              "              idno                                                      \\\n",
              "             count          mean          std         min          25%   \n",
              "cntry year                                                               \n",
              "CH    2012   773.0  1.480680e+03   837.085069         5.0       761.00   \n",
              "      2014   773.0  1.480680e+03   837.085069         5.0       761.00   \n",
              "CZ    2012   658.0  1.445666e+03   368.654806      1001.0      1169.25   \n",
              "      2014   658.0  1.445666e+03   368.654806      1001.0      1169.25   \n",
              "DE    2012    14.0  1.100048e+07   506.292818  11000031.0  11000101.00   \n",
              "      2014    14.0  1.100048e+07   506.292818  11000031.0  11000101.00   \n",
              "ES    2012  1213.0  1.467607e+03   818.301231         1.0       807.00   \n",
              "      2014  1213.0  1.467607e+03   818.301231         1.0       807.00   \n",
              "NO    2012   731.0  1.430671e+04  4672.042957      6312.0     10347.00   \n",
              "      2014   731.0  1.430671e+04  4672.042957      6312.0     10347.00   \n",
              "SE    2012   908.0  1.765173e+03  1098.083963         7.0       788.50   \n",
              "      2014   908.0  1.765173e+03  1098.083963         7.0       788.50   \n",
              "\n",
              "                                                  tvtot            ... sclact  \\\n",
              "                   50%          75%         max   count      mean  ...    75%   \n",
              "cntry year                                                         ...          \n",
              "CH    2012      1432.0      2243.00      2905.0   773.0  3.143596  ...    3.0   \n",
              "      2014      1432.0      2243.00      2905.0   773.0  3.065977  ...    3.0   \n",
              "CZ    2012      1333.5      1500.75      2151.0   658.0  5.141337  ...    3.0   \n",
              "      2014      1333.5      1500.75      2151.0   658.0  4.686930  ...    3.0   \n",
              "DE    2012  11000271.0  11000833.50  11001431.0    14.0  4.928571  ...    3.0   \n",
              "      2014  11000271.0  11000833.50  11001431.0    14.0  3.071429  ...    3.0   \n",
              "ES    2012      1456.0      2175.00      2865.0  1213.0  3.977741  ...    3.0   \n",
              "      2014      1456.0      2175.00      2865.0  1213.0  4.016488  ...    3.0   \n",
              "NO    2012     14346.0     18558.00     22428.0   731.0  3.837209  ...    3.0   \n",
              "      2014     14346.0     18558.00     22428.0   731.0  3.705882  ...    3.0   \n",
              "SE    2012      1585.0      2733.75      3746.0   908.0  3.691630  ...    3.0   \n",
              "      2014      1585.0      2733.75      3746.0   908.0  3.585903  ...    3.0   \n",
              "\n",
              "                   agea                                                         \n",
              "            max   count       mean        std   min    25%   50%    75%    max  \n",
              "cntry year                                                                      \n",
              "CH    2012  5.0   773.0  47.316947  18.440822  16.0  32.00  47.0  60.00   94.0  \n",
              "      2014  5.0   773.0  46.157827  18.760515  16.0  32.00  45.0  60.00   92.0  \n",
              "CZ    2012  5.0   658.0  47.031915  17.419365  16.0  34.00  47.0  60.00   91.0  \n",
              "      2014  5.0   658.0  45.545593  16.320101  15.0  34.00  45.0  58.00   87.0  \n",
              "DE    2012  5.0    14.0  52.071429  16.578319  26.0  38.00  54.0  61.25   75.0  \n",
              "      2014  4.0    14.0  59.714286  15.162852  36.0  49.75  56.5  66.50   89.0  \n",
              "ES    2012  5.0  1213.0  47.830173  17.702926  16.0  35.00  46.0  61.00  103.0  \n",
              "      2014  5.0  1213.0  47.925804  18.633900  16.0  33.00  47.0  61.00  101.0  \n",
              "NO    2012  5.0   731.0  46.392613  17.823961  15.0  32.00  46.0  60.00   93.0  \n",
              "      2014  5.0   731.0  46.584131  18.537543  15.0  32.00  47.0  60.50   94.0  \n",
              "SE    2012  5.0   908.0  49.591410  19.382684  15.0  33.00  51.0  67.00   96.0  \n",
              "      2014  5.0   908.0  50.101322  19.882807  15.0  33.00  52.0  67.00  114.0  \n",
              "\n",
              "[12 rows x 72 columns]"
            ]
          },
          "metadata": {
            "tags": []
          },
          "execution_count": 7
        }
      ]
    },
    {
      "cell_type": "code",
      "metadata": {
        "id": "wJwD1HLD65w_",
        "colab_type": "code",
        "colab": {}
      },
      "source": [
        ""
      ],
      "execution_count": 0,
      "outputs": []
    },
    {
      "cell_type": "markdown",
      "metadata": {
        "id": "0xF2_XSj5Wki",
        "colab_type": "text"
      },
      "source": [
        "# Quick Summary\n",
        "\n",
        "\n",
        "So what can we do here we have a few issues.\n",
        "\n",
        "\n",
        "1.   Ordinal Data\n",
        "2.   Missing Data\n",
        "3.   Data is not typically normally distributed\n",
        "\n",
        "Because our data is ordinal it cuts down the types of tests of significance at our disposal. I'll be comparing the Wilcoxon signed ranks test with the Kruskal-Wallace Test. \n",
        "\n",
        "Because there is missing data we have to deal with that first. I'll be imputing data with a forward fill method. Some may find this fairly unsatisfactory, however in our case we have only a few missing values in the features we are testing. The majority of missing data is in the age feature which is unused in this analysis anyway."
      ]
    },
    {
      "cell_type": "markdown",
      "metadata": {
        "id": "vKkSvjccHr3p",
        "colab_type": "text"
      },
      "source": [
        "## Did people become less trusting from 2012 to 2014? Compute results for each country in the sample.\n",
        "\n",
        "**ppltrst**: Most people can be trusted or you can't be too careful\n",
        "\n",
        "Survey Question:\n",
        "\n",
        "All rounds: Using this card, generally speaking, would you say that most people can be trusted, or that you can't be too careful in dealing with people? Please tell me on a score of 0 to 10, where 0 means you can't be too careful and 10 means that most people can be trusted.\n",
        "\n",
        "\n",
        "\n"
      ]
    },
    {
      "cell_type": "code",
      "metadata": {
        "id": "SizyVQJ8HSKj",
        "colab_type": "code",
        "colab": {}
      },
      "source": [
        "dd = pd.melt(df,id_vars=['cntry','year'],value_vars=['ppltrst'],value_name='Trust index')\n"
      ],
      "execution_count": 0,
      "outputs": []
    },
    {
      "cell_type": "code",
      "metadata": {
        "id": "t2IP7b05X_bo",
        "colab_type": "code",
        "outputId": "b6aee168-881a-4fe3-f2eb-e3b961fdf5e8",
        "colab": {
          "base_uri": "https://localhost:8080/",
          "height": 402
        }
      },
      "source": [
        "df_year_cntry = df.groupby(['cntry','year'])['ppltrst'].describe().reset_index()\n",
        "\n",
        "df_year_cntry"
      ],
      "execution_count": 9,
      "outputs": [
        {
          "output_type": "execute_result",
          "data": {
            "text/html": [
              "<div>\n",
              "<style scoped>\n",
              "    .dataframe tbody tr th:only-of-type {\n",
              "        vertical-align: middle;\n",
              "    }\n",
              "\n",
              "    .dataframe tbody tr th {\n",
              "        vertical-align: top;\n",
              "    }\n",
              "\n",
              "    .dataframe thead th {\n",
              "        text-align: right;\n",
              "    }\n",
              "</style>\n",
              "<table border=\"1\" class=\"dataframe\">\n",
              "  <thead>\n",
              "    <tr style=\"text-align: right;\">\n",
              "      <th></th>\n",
              "      <th>cntry</th>\n",
              "      <th>year</th>\n",
              "      <th>count</th>\n",
              "      <th>mean</th>\n",
              "      <th>std</th>\n",
              "      <th>min</th>\n",
              "      <th>25%</th>\n",
              "      <th>50%</th>\n",
              "      <th>75%</th>\n",
              "      <th>max</th>\n",
              "    </tr>\n",
              "  </thead>\n",
              "  <tbody>\n",
              "    <tr>\n",
              "      <th>0</th>\n",
              "      <td>CH</td>\n",
              "      <td>2012</td>\n",
              "      <td>773.0</td>\n",
              "      <td>5.677878</td>\n",
              "      <td>2.130701</td>\n",
              "      <td>0.0</td>\n",
              "      <td>4.00</td>\n",
              "      <td>6.0</td>\n",
              "      <td>7.0</td>\n",
              "      <td>10.0</td>\n",
              "    </tr>\n",
              "    <tr>\n",
              "      <th>1</th>\n",
              "      <td>CH</td>\n",
              "      <td>2014</td>\n",
              "      <td>773.0</td>\n",
              "      <td>5.751617</td>\n",
              "      <td>2.143888</td>\n",
              "      <td>0.0</td>\n",
              "      <td>5.00</td>\n",
              "      <td>6.0</td>\n",
              "      <td>7.0</td>\n",
              "      <td>10.0</td>\n",
              "    </tr>\n",
              "    <tr>\n",
              "      <th>2</th>\n",
              "      <td>CZ</td>\n",
              "      <td>2012</td>\n",
              "      <td>658.0</td>\n",
              "      <td>4.351064</td>\n",
              "      <td>2.428241</td>\n",
              "      <td>0.0</td>\n",
              "      <td>3.00</td>\n",
              "      <td>4.0</td>\n",
              "      <td>6.0</td>\n",
              "      <td>10.0</td>\n",
              "    </tr>\n",
              "    <tr>\n",
              "      <th>3</th>\n",
              "      <td>CZ</td>\n",
              "      <td>2014</td>\n",
              "      <td>658.0</td>\n",
              "      <td>4.424012</td>\n",
              "      <td>2.303693</td>\n",
              "      <td>0.0</td>\n",
              "      <td>3.00</td>\n",
              "      <td>5.0</td>\n",
              "      <td>6.0</td>\n",
              "      <td>10.0</td>\n",
              "    </tr>\n",
              "    <tr>\n",
              "      <th>4</th>\n",
              "      <td>DE</td>\n",
              "      <td>2012</td>\n",
              "      <td>14.0</td>\n",
              "      <td>5.214286</td>\n",
              "      <td>1.528125</td>\n",
              "      <td>3.0</td>\n",
              "      <td>4.25</td>\n",
              "      <td>5.0</td>\n",
              "      <td>6.5</td>\n",
              "      <td>8.0</td>\n",
              "    </tr>\n",
              "    <tr>\n",
              "      <th>5</th>\n",
              "      <td>DE</td>\n",
              "      <td>2014</td>\n",
              "      <td>14.0</td>\n",
              "      <td>5.357143</td>\n",
              "      <td>2.530039</td>\n",
              "      <td>2.0</td>\n",
              "      <td>3.25</td>\n",
              "      <td>5.5</td>\n",
              "      <td>7.0</td>\n",
              "      <td>10.0</td>\n",
              "    </tr>\n",
              "    <tr>\n",
              "      <th>6</th>\n",
              "      <td>ES</td>\n",
              "      <td>2012</td>\n",
              "      <td>1213.0</td>\n",
              "      <td>5.114592</td>\n",
              "      <td>2.183623</td>\n",
              "      <td>0.0</td>\n",
              "      <td>4.00</td>\n",
              "      <td>5.0</td>\n",
              "      <td>7.0</td>\n",
              "      <td>10.0</td>\n",
              "    </tr>\n",
              "    <tr>\n",
              "      <th>7</th>\n",
              "      <td>ES</td>\n",
              "      <td>2014</td>\n",
              "      <td>1213.0</td>\n",
              "      <td>4.893652</td>\n",
              "      <td>2.148236</td>\n",
              "      <td>0.0</td>\n",
              "      <td>3.00</td>\n",
              "      <td>5.0</td>\n",
              "      <td>6.0</td>\n",
              "      <td>10.0</td>\n",
              "    </tr>\n",
              "    <tr>\n",
              "      <th>8</th>\n",
              "      <td>NO</td>\n",
              "      <td>2012</td>\n",
              "      <td>731.0</td>\n",
              "      <td>6.651163</td>\n",
              "      <td>1.749382</td>\n",
              "      <td>0.0</td>\n",
              "      <td>5.00</td>\n",
              "      <td>7.0</td>\n",
              "      <td>8.0</td>\n",
              "      <td>10.0</td>\n",
              "    </tr>\n",
              "    <tr>\n",
              "      <th>9</th>\n",
              "      <td>NO</td>\n",
              "      <td>2014</td>\n",
              "      <td>731.0</td>\n",
              "      <td>6.599179</td>\n",
              "      <td>1.810002</td>\n",
              "      <td>0.0</td>\n",
              "      <td>5.00</td>\n",
              "      <td>7.0</td>\n",
              "      <td>8.0</td>\n",
              "      <td>10.0</td>\n",
              "    </tr>\n",
              "    <tr>\n",
              "      <th>10</th>\n",
              "      <td>SE</td>\n",
              "      <td>2012</td>\n",
              "      <td>908.0</td>\n",
              "      <td>6.059471</td>\n",
              "      <td>2.053525</td>\n",
              "      <td>0.0</td>\n",
              "      <td>5.00</td>\n",
              "      <td>7.0</td>\n",
              "      <td>8.0</td>\n",
              "      <td>10.0</td>\n",
              "    </tr>\n",
              "    <tr>\n",
              "      <th>11</th>\n",
              "      <td>SE</td>\n",
              "      <td>2014</td>\n",
              "      <td>908.0</td>\n",
              "      <td>6.257709</td>\n",
              "      <td>2.005422</td>\n",
              "      <td>0.0</td>\n",
              "      <td>5.00</td>\n",
              "      <td>7.0</td>\n",
              "      <td>8.0</td>\n",
              "      <td>10.0</td>\n",
              "    </tr>\n",
              "  </tbody>\n",
              "</table>\n",
              "</div>"
            ],
            "text/plain": [
              "   cntry  year   count      mean       std  min   25%  50%  75%   max\n",
              "0     CH  2012   773.0  5.677878  2.130701  0.0  4.00  6.0  7.0  10.0\n",
              "1     CH  2014   773.0  5.751617  2.143888  0.0  5.00  6.0  7.0  10.0\n",
              "2     CZ  2012   658.0  4.351064  2.428241  0.0  3.00  4.0  6.0  10.0\n",
              "3     CZ  2014   658.0  4.424012  2.303693  0.0  3.00  5.0  6.0  10.0\n",
              "4     DE  2012    14.0  5.214286  1.528125  3.0  4.25  5.0  6.5   8.0\n",
              "5     DE  2014    14.0  5.357143  2.530039  2.0  3.25  5.5  7.0  10.0\n",
              "6     ES  2012  1213.0  5.114592  2.183623  0.0  4.00  5.0  7.0  10.0\n",
              "7     ES  2014  1213.0  4.893652  2.148236  0.0  3.00  5.0  6.0  10.0\n",
              "8     NO  2012   731.0  6.651163  1.749382  0.0  5.00  7.0  8.0  10.0\n",
              "9     NO  2014   731.0  6.599179  1.810002  0.0  5.00  7.0  8.0  10.0\n",
              "10    SE  2012   908.0  6.059471  2.053525  0.0  5.00  7.0  8.0  10.0\n",
              "11    SE  2014   908.0  6.257709  2.005422  0.0  5.00  7.0  8.0  10.0"
            ]
          },
          "metadata": {
            "tags": []
          },
          "execution_count": 9
        }
      ]
    },
    {
      "cell_type": "markdown",
      "metadata": {
        "id": "USvbzsvnruY3",
        "colab_type": "text"
      },
      "source": [
        "## Check for Outliers"
      ]
    },
    {
      "cell_type": "code",
      "metadata": {
        "id": "CGaY3AQ2Tqo4",
        "colab_type": "code",
        "outputId": "e463af51-5b7d-4495-8dae-b031dc81b658",
        "colab": {
          "base_uri": "https://localhost:8080/",
          "height": 308
        }
      },
      "source": [
        "sns.set()\n",
        "g = sns.boxplot(y='cntry',x='Trust index',data=dd,orient ='h',hue='year')\n",
        "\n",
        "g.legend(loc='center right', bbox_to_anchor=(1.25, 0.5), ncol=1)"
      ],
      "execution_count": 10,
      "outputs": [
        {
          "output_type": "execute_result",
          "data": {
            "text/plain": [
              "<matplotlib.legend.Legend at 0x7fae4831e3c8>"
            ]
          },
          "metadata": {
            "tags": []
          },
          "execution_count": 10
        },
        {
          "output_type": "display_data",
          "data": {
            "image/png": "[encoded data removed]",
            "text/plain": [
              "<Figure size 432x288 with 1 Axes>"
            ]
          },
          "metadata": {
            "tags": []
          }
        }
      ]
    },
    {
      "cell_type": "markdown",
      "metadata": {
        "id": "0Ku_CBVAz6v3",
        "colab_type": "text"
      },
      "source": [
        "Looking by country we can observe that outliers exist in six of the twelve groups."
      ]
    },
    {
      "cell_type": "markdown",
      "metadata": {
        "id": "XXkhTMTEryWU",
        "colab_type": "text"
      },
      "source": [
        "## Check for Normality"
      ]
    },
    {
      "cell_type": "code",
      "metadata": {
        "id": "FE3-xLoyrswH",
        "colab_type": "code",
        "colab": {}
      },
      "source": [
        "def shapiro(df):\n",
        "  cntry_list = df['cntry'].unique()\n",
        "  results = []\n",
        "  for x in cntry_list:\n",
        "    pop_1 = df.loc[(df['cntry']==x) & (df['year']==2012),['ppltrst']]\n",
        "    pop_2 = df.loc[(df['cntry']==x) & (df['year']==2014),['ppltrst']]\n",
        "    normal_1 = stats.shapiro(pop_1)\n",
        "    normal_2 = stats.shapiro(pop_2)\n",
        "    results.extend([normal_1,normal_2,x])\n",
        "  return results"
      ],
      "execution_count": 0,
      "outputs": []
    },
    {
      "cell_type": "code",
      "metadata": {
        "id": "LAsYYLzJstFi",
        "colab_type": "code",
        "outputId": "d93aadf7-0a5b-4aca-90ac-2706988bc0a2",
        "colab": {
          "base_uri": "https://localhost:8080/",
          "height": 319
        }
      },
      "source": [
        "shapiro(df)"
      ],
      "execution_count": 12,
      "outputs": [
        {
          "output_type": "execute_result",
          "data": {
            "text/plain": [
              "[(0.9519361853599548, 3.4958809444132896e-15),\n",
              " (0.9538647532463074, 7.692136586977955e-15),\n",
              " 'CH',\n",
              " (0.9672042727470398, 5.764026062005101e-11),\n",
              " (0.972077488899231, 7.064237528275896e-10),\n",
              " 'CZ',\n",
              " (0.9013110399246216, 0.1178363636136055),\n",
              " (0.9425466060638428, 0.4519253373146057),\n",
              " 'DE',\n",
              " (0.9496549367904663, 5.989953442559737e-20),\n",
              " (0.9663659930229187, 3.734396740272391e-16),\n",
              " 'ES',\n",
              " (0.9209728240966797, 4.0887095653856325e-19),\n",
              " (0.9294818639755249, 4.779899979174929e-18),\n",
              " 'NO',\n",
              " (0.9354179501533508, 2.1889822721658554e-19),\n",
              " (0.9398238658905029, 1.0416553104982269e-18),\n",
              " 'SE']"
            ]
          },
          "metadata": {
            "tags": []
          },
          "execution_count": 12
        }
      ]
    },
    {
      "cell_type": "markdown",
      "metadata": {
        "id": "GZxHmz5KrnJ_",
        "colab_type": "text"
      },
      "source": [
        "Intrupting the results above suggest that checking for normality on data that is essentially categorical is a bad idea as groups with low samples size such as Germany appear to be more normal looking than other countries with higher sample sizes such as Spain, this effect is shown in the QQ plots below. \n",
        "\n",
        "This rules our using any type of paired T-Tests as they rely on normality and the same sample size for each group which we don't have.\n",
        "\n"
      ]
    },
    {
      "cell_type": "code",
      "metadata": {
        "id": "kjuWo5Tcu6XF",
        "colab_type": "code",
        "outputId": "7374c9e1-1a68-4f85-eb81-661279e21ee9",
        "colab": {
          "base_uri": "https://localhost:8080/",
          "height": 585
        }
      },
      "source": [
        "DE = df.loc[(df['cntry']=='DE') & (df['year']==2014),['ppltrst']]['ppltrst']\n",
        "ES = df.loc[(df['cntry']=='ES') & (df['year']==2014),['ppltrst']]['ppltrst']\n",
        "stats.probplot(DE, plot= plt)\n",
        "plt.title('Germany')\n",
        "\n",
        "plt.show() \n",
        "stats.probplot(ES, plot= plt)\n",
        "plt.title('Spain')\n",
        "\n",
        "plt.show() "
      ],
      "execution_count": 13,
      "outputs": [
        {
          "output_type": "display_data",
          "data": {
            "image/png": "[encoded data removed]",
            "text/plain": [
              "<Figure size 432x288 with 1 Axes>"
            ]
          },
          "metadata": {
            "tags": []
          }
        },
        {
          "output_type": "display_data",
          "data": {
            "image/png": "[encoded data removed]",
            "text/plain": [
              "<Figure size 432x288 with 1 Axes>"
            ]
          },
          "metadata": {
            "tags": []
          }
        }
      ]
    },
    {
      "cell_type": "code",
      "metadata": {
        "id": "RUPjsquymeQN",
        "colab_type": "code",
        "colab": {}
      },
      "source": [
        "# Country wise pair wilcox rank\n",
        "\n",
        "\n",
        "\n",
        "def w_test(df,feature):\n",
        "  cntry_list = df['cntry'].unique()\n",
        "  results = pd.DataFrame(columns=['cntry','w stat','w pval','k stat','k pval'])\n",
        "  for x in cntry_list:\n",
        "    pop_1 = df.loc[(df['cntry']==x) & (df['year']==2012),[feature]][feature]\n",
        "    pop_2 = df.loc[(df['cntry']==x) & (df['year']==2014),[feature]][feature]\n",
        "    wilcoxon = stats.wilcoxon(pop_1,pop_2)\n",
        "    kruskal = stats.kruskal(pop_1,pop_2)\n",
        "    results = results.append({'cntry':x,'w stat':wilcoxon[0],'w pval':wilcoxon[1],'k stat':kruskal[0],'k pval':kruskal[1]},ignore_index=True)\n",
        "    #print(x,wilcoxon,kruskal)\n",
        "  print(results)\n",
        "  "
      ],
      "execution_count": 0,
      "outputs": []
    },
    {
      "cell_type": "code",
      "metadata": {
        "id": "MXG7dDtYm1y1",
        "colab_type": "code",
        "outputId": "31630753-b29f-4667-c915-1b438bef416c",
        "colab": {
          "base_uri": "https://localhost:8080/",
          "height": 134
        }
      },
      "source": [
        "#make list of countries seperate data from df first by country then slice by year and run t test\n",
        "\n",
        "w_test(df,'ppltrst')\n"
      ],
      "execution_count": 42,
      "outputs": [
        {
          "output_type": "stream",
          "text": [
            "  cntry    w stat    w pval    k stat    k pval\n",
            "0    CH  106278.5  0.441129  0.301636  0.582859\n",
            "1    CZ   84794.0  0.564112  0.824109  0.363981\n",
            "2    DE      44.0  0.915713  0.034936  0.851730\n",
            "3    ES  243539.5  0.006621  8.303805  0.003956\n",
            "4    NO   85778.5  0.681353  0.269158  0.603897\n",
            "5    SE  131441.5  0.038526  4.234252  0.039616\n"
          ],
          "name": "stdout"
        }
      ]
    },
    {
      "cell_type": "code",
      "metadata": {
        "id": "bu2Luurc2uFN",
        "colab_type": "code",
        "colab": {}
      },
      "source": [
        ""
      ],
      "execution_count": 0,
      "outputs": []
    },
    {
      "cell_type": "markdown",
      "metadata": {
        "colab_type": "text",
        "id": "0cBqCdijH1XT"
      },
      "source": [
        "## Did people become happier from 2012 to 2014? Compute results for each country in the sample."
      ]
    },
    {
      "cell_type": "code",
      "metadata": {
        "id": "japMC_7v-uOq",
        "colab_type": "code",
        "colab": {
          "base_uri": "https://localhost:8080/",
          "height": 432
        },
        "outputId": "48d38d1d-320a-4108-90a0-c94a472195ee"
      },
      "source": [
        "# Summary Stats\n",
        "df.groupby(['cntry','year']).describe()['happy']"
      ],
      "execution_count": 43,
      "outputs": [
        {
          "output_type": "execute_result",
          "data": {
            "text/html": [
              "<div>\n",
              "<style scoped>\n",
              "    .dataframe tbody tr th:only-of-type {\n",
              "        vertical-align: middle;\n",
              "    }\n",
              "\n",
              "    .dataframe tbody tr th {\n",
              "        vertical-align: top;\n",
              "    }\n",
              "\n",
              "    .dataframe thead th {\n",
              "        text-align: right;\n",
              "    }\n",
              "</style>\n",
              "<table border=\"1\" class=\"dataframe\">\n",
              "  <thead>\n",
              "    <tr style=\"text-align: right;\">\n",
              "      <th></th>\n",
              "      <th></th>\n",
              "      <th>count</th>\n",
              "      <th>mean</th>\n",
              "      <th>std</th>\n",
              "      <th>min</th>\n",
              "      <th>25%</th>\n",
              "      <th>50%</th>\n",
              "      <th>75%</th>\n",
              "      <th>max</th>\n",
              "    </tr>\n",
              "    <tr>\n",
              "      <th>cntry</th>\n",
              "      <th>year</th>\n",
              "      <th></th>\n",
              "      <th></th>\n",
              "      <th></th>\n",
              "      <th></th>\n",
              "      <th></th>\n",
              "      <th></th>\n",
              "      <th></th>\n",
              "      <th></th>\n",
              "    </tr>\n",
              "  </thead>\n",
              "  <tbody>\n",
              "    <tr>\n",
              "      <th rowspan=\"2\" valign=\"top\">CH</th>\n",
              "      <th>2012</th>\n",
              "      <td>773.0</td>\n",
              "      <td>8.087969</td>\n",
              "      <td>1.436036</td>\n",
              "      <td>0.0</td>\n",
              "      <td>7.00</td>\n",
              "      <td>8.0</td>\n",
              "      <td>9.00</td>\n",
              "      <td>10.0</td>\n",
              "    </tr>\n",
              "    <tr>\n",
              "      <th>2014</th>\n",
              "      <td>773.0</td>\n",
              "      <td>8.116429</td>\n",
              "      <td>1.405725</td>\n",
              "      <td>0.0</td>\n",
              "      <td>7.00</td>\n",
              "      <td>8.0</td>\n",
              "      <td>9.00</td>\n",
              "      <td>10.0</td>\n",
              "    </tr>\n",
              "    <tr>\n",
              "      <th rowspan=\"2\" valign=\"top\">CZ</th>\n",
              "      <th>2012</th>\n",
              "      <td>658.0</td>\n",
              "      <td>6.781155</td>\n",
              "      <td>2.049794</td>\n",
              "      <td>0.0</td>\n",
              "      <td>5.00</td>\n",
              "      <td>7.0</td>\n",
              "      <td>8.00</td>\n",
              "      <td>10.0</td>\n",
              "    </tr>\n",
              "    <tr>\n",
              "      <th>2014</th>\n",
              "      <td>658.0</td>\n",
              "      <td>6.917933</td>\n",
              "      <td>1.899118</td>\n",
              "      <td>0.0</td>\n",
              "      <td>6.00</td>\n",
              "      <td>7.0</td>\n",
              "      <td>8.00</td>\n",
              "      <td>10.0</td>\n",
              "    </tr>\n",
              "    <tr>\n",
              "      <th rowspan=\"2\" valign=\"top\">DE</th>\n",
              "      <th>2012</th>\n",
              "      <td>14.0</td>\n",
              "      <td>7.428571</td>\n",
              "      <td>1.650841</td>\n",
              "      <td>4.0</td>\n",
              "      <td>6.25</td>\n",
              "      <td>8.0</td>\n",
              "      <td>8.00</td>\n",
              "      <td>10.0</td>\n",
              "    </tr>\n",
              "    <tr>\n",
              "      <th>2014</th>\n",
              "      <td>14.0</td>\n",
              "      <td>7.857143</td>\n",
              "      <td>1.292412</td>\n",
              "      <td>5.0</td>\n",
              "      <td>7.25</td>\n",
              "      <td>8.0</td>\n",
              "      <td>8.75</td>\n",
              "      <td>10.0</td>\n",
              "    </tr>\n",
              "    <tr>\n",
              "      <th rowspan=\"2\" valign=\"top\">ES</th>\n",
              "      <th>2012</th>\n",
              "      <td>1213.0</td>\n",
              "      <td>7.549876</td>\n",
              "      <td>1.912749</td>\n",
              "      <td>0.0</td>\n",
              "      <td>7.00</td>\n",
              "      <td>8.0</td>\n",
              "      <td>9.00</td>\n",
              "      <td>10.0</td>\n",
              "    </tr>\n",
              "    <tr>\n",
              "      <th>2014</th>\n",
              "      <td>1213.0</td>\n",
              "      <td>7.419621</td>\n",
              "      <td>1.871581</td>\n",
              "      <td>0.0</td>\n",
              "      <td>7.00</td>\n",
              "      <td>8.0</td>\n",
              "      <td>9.00</td>\n",
              "      <td>10.0</td>\n",
              "    </tr>\n",
              "    <tr>\n",
              "      <th rowspan=\"2\" valign=\"top\">NO</th>\n",
              "      <th>2012</th>\n",
              "      <td>731.0</td>\n",
              "      <td>8.251710</td>\n",
              "      <td>1.424677</td>\n",
              "      <td>0.0</td>\n",
              "      <td>8.00</td>\n",
              "      <td>8.0</td>\n",
              "      <td>9.00</td>\n",
              "      <td>10.0</td>\n",
              "    </tr>\n",
              "    <tr>\n",
              "      <th>2014</th>\n",
              "      <td>731.0</td>\n",
              "      <td>7.915185</td>\n",
              "      <td>1.581027</td>\n",
              "      <td>0.0</td>\n",
              "      <td>7.00</td>\n",
              "      <td>8.0</td>\n",
              "      <td>9.00</td>\n",
              "      <td>10.0</td>\n",
              "    </tr>\n",
              "    <tr>\n",
              "      <th rowspan=\"2\" valign=\"top\">SE</th>\n",
              "      <th>2012</th>\n",
              "      <td>908.0</td>\n",
              "      <td>7.907489</td>\n",
              "      <td>1.520978</td>\n",
              "      <td>1.0</td>\n",
              "      <td>7.00</td>\n",
              "      <td>8.0</td>\n",
              "      <td>9.00</td>\n",
              "      <td>10.0</td>\n",
              "    </tr>\n",
              "    <tr>\n",
              "      <th>2014</th>\n",
              "      <td>908.0</td>\n",
              "      <td>7.946035</td>\n",
              "      <td>1.408885</td>\n",
              "      <td>3.0</td>\n",
              "      <td>7.00</td>\n",
              "      <td>8.0</td>\n",
              "      <td>9.00</td>\n",
              "      <td>10.0</td>\n",
              "    </tr>\n",
              "  </tbody>\n",
              "</table>\n",
              "</div>"
            ],
            "text/plain": [
              "             count      mean       std  min   25%  50%   75%   max\n",
              "cntry year                                                        \n",
              "CH    2012   773.0  8.087969  1.436036  0.0  7.00  8.0  9.00  10.0\n",
              "      2014   773.0  8.116429  1.405725  0.0  7.00  8.0  9.00  10.0\n",
              "CZ    2012   658.0  6.781155  2.049794  0.0  5.00  7.0  8.00  10.0\n",
              "      2014   658.0  6.917933  1.899118  0.0  6.00  7.0  8.00  10.0\n",
              "DE    2012    14.0  7.428571  1.650841  4.0  6.25  8.0  8.00  10.0\n",
              "      2014    14.0  7.857143  1.292412  5.0  7.25  8.0  8.75  10.0\n",
              "ES    2012  1213.0  7.549876  1.912749  0.0  7.00  8.0  9.00  10.0\n",
              "      2014  1213.0  7.419621  1.871581  0.0  7.00  8.0  9.00  10.0\n",
              "NO    2012   731.0  8.251710  1.424677  0.0  8.00  8.0  9.00  10.0\n",
              "      2014   731.0  7.915185  1.581027  0.0  7.00  8.0  9.00  10.0\n",
              "SE    2012   908.0  7.907489  1.520978  1.0  7.00  8.0  9.00  10.0\n",
              "      2014   908.0  7.946035  1.408885  3.0  7.00  8.0  9.00  10.0"
            ]
          },
          "metadata": {
            "tags": []
          },
          "execution_count": 43
        }
      ]
    },
    {
      "cell_type": "code",
      "metadata": {
        "colab_type": "code",
        "id": "FjwCmQvzH18D",
        "colab": {}
      },
      "source": [
        "\n",
        "dd_happy = pd.melt(df,id_vars=['cntry','year'],value_vars=['happy'],value_name='happy')"
      ],
      "execution_count": 0,
      "outputs": []
    },
    {
      "cell_type": "code",
      "metadata": {
        "id": "8FU8dCBgg86y",
        "colab_type": "code",
        "colab": {
          "base_uri": "https://localhost:8080/",
          "height": 308
        },
        "outputId": "7b2083ba-98b2-413c-a647-b3f1f0b3618e"
      },
      "source": [
        "sns.set()\n",
        "g = sns.boxplot(y='cntry',x='happy',data=dd_happy,orient ='h',hue='year')\n",
        "\n",
        "g.legend(loc='center right', bbox_to_anchor=(1.25, 0.5), ncol=1)\n"
      ],
      "execution_count": 45,
      "outputs": [
        {
          "output_type": "execute_result",
          "data": {
            "text/plain": [
              "<matplotlib.legend.Legend at 0x7fae4563cda0>"
            ]
          },
          "metadata": {
            "tags": []
          },
          "execution_count": 45
        },
        {
          "output_type": "display_data",
          "data": {
            "image/png": "[encoded data removed]",
            "text/plain": [
              "<Figure size 432x288 with 1 Axes>"
            ]
          },
          "metadata": {
            "tags": []
          }
        }
      ]
    },
    {
      "cell_type": "code",
      "metadata": {
        "id": "Bq5AbIHO-bKZ",
        "colab_type": "code",
        "colab": {
          "base_uri": "https://localhost:8080/",
          "height": 134
        },
        "outputId": "466d6466-5e46-4d3f-a001-7b84c019b81e"
      },
      "source": [
        "w_test(df,'happy')"
      ],
      "execution_count": 46,
      "outputs": [
        {
          "output_type": "stream",
          "text": [
            "  cntry    w stat    w pval     k stat    k pval\n",
            "0    CH   93043.5  0.918282   0.238172  0.625529\n",
            "1    CZ   78569.0  0.254530   1.304042  0.253476\n",
            "2    DE      23.5  0.393351   0.390567  0.532001\n",
            "3    ES  232447.5  0.055803   4.218321  0.039990\n",
            "4    NO   68447.5  0.000010  19.128339  0.000012\n",
            "5    SE  126903.5  0.693804   0.049858  0.823310\n"
          ],
          "name": "stdout"
        }
      ]
    },
    {
      "cell_type": "markdown",
      "metadata": {
        "colab_type": "text",
        "id": "tRBJy9tmH18D"
      },
      "source": [
        "## Who reported watching more TV in 2012, men or women?\n",
        "\n",
        "\n"
      ]
    },
    {
      "cell_type": "code",
      "metadata": {
        "id": "SeEBU8yfk0Xr",
        "colab_type": "code",
        "outputId": "535a60da-0b57-486b-bb78-776d17afcdb4",
        "colab": {
          "base_uri": "https://localhost:8080/",
          "height": 136
        }
      },
      "source": [
        "df.groupby(['gndr']).describe()['tvtot']"
      ],
      "execution_count": 193,
      "outputs": [
        {
          "output_type": "execute_result",
          "data": {
            "text/html": [
              "<div>\n",
              "<style scoped>\n",
              "    .dataframe tbody tr th:only-of-type {\n",
              "        vertical-align: middle;\n",
              "    }\n",
              "\n",
              "    .dataframe tbody tr th {\n",
              "        vertical-align: top;\n",
              "    }\n",
              "\n",
              "    .dataframe thead th {\n",
              "        text-align: right;\n",
              "    }\n",
              "</style>\n",
              "<table border=\"1\" class=\"dataframe\">\n",
              "  <thead>\n",
              "    <tr style=\"text-align: right;\">\n",
              "      <th></th>\n",
              "      <th>count</th>\n",
              "      <th>mean</th>\n",
              "      <th>std</th>\n",
              "      <th>min</th>\n",
              "      <th>25%</th>\n",
              "      <th>50%</th>\n",
              "      <th>75%</th>\n",
              "      <th>max</th>\n",
              "    </tr>\n",
              "    <tr>\n",
              "      <th>gndr</th>\n",
              "      <th></th>\n",
              "      <th></th>\n",
              "      <th></th>\n",
              "      <th></th>\n",
              "      <th></th>\n",
              "      <th></th>\n",
              "      <th></th>\n",
              "      <th></th>\n",
              "    </tr>\n",
              "  </thead>\n",
              "  <tbody>\n",
              "    <tr>\n",
              "      <th>Female</th>\n",
              "      <td>4278.0</td>\n",
              "      <td>3.898784</td>\n",
              "      <td>2.035181</td>\n",
              "      <td>0.0</td>\n",
              "      <td>2.0</td>\n",
              "      <td>4.0</td>\n",
              "      <td>5.0</td>\n",
              "      <td>7.0</td>\n",
              "    </tr>\n",
              "    <tr>\n",
              "      <th>Male</th>\n",
              "      <td>4316.0</td>\n",
              "      <td>3.827386</td>\n",
              "      <td>2.003959</td>\n",
              "      <td>0.0</td>\n",
              "      <td>2.0</td>\n",
              "      <td>4.0</td>\n",
              "      <td>5.0</td>\n",
              "      <td>7.0</td>\n",
              "    </tr>\n",
              "  </tbody>\n",
              "</table>\n",
              "</div>"
            ],
            "text/plain": [
              "         count      mean       std  min  25%  50%  75%  max\n",
              "gndr                                                       \n",
              "Female  4278.0  3.898784  2.035181  0.0  2.0  4.0  5.0  7.0\n",
              "Male    4316.0  3.827386  2.003959  0.0  2.0  4.0  5.0  7.0"
            ]
          },
          "metadata": {
            "tags": []
          },
          "execution_count": 193
        }
      ]
    },
    {
      "cell_type": "code",
      "metadata": {
        "colab_type": "code",
        "id": "53NdzlVOH1XT",
        "outputId": "f6b1a927-c5fe-4578-e957-6671b740c196",
        "colab": {
          "base_uri": "https://localhost:8080/",
          "height": 308
        }
      },
      "source": [
        "dd_tv = pd.melt(df,id_vars=['gndr'],value_vars=['tvtot'],value_name='Hours of TV')\n",
        "\n",
        "sns.boxplot(y='gndr',x='Hours of TV',data=dd_tv,orient ='h')\n"
      ],
      "execution_count": 50,
      "outputs": [
        {
          "output_type": "execute_result",
          "data": {
            "text/plain": [
              "<matplotlib.axes._subplots.AxesSubplot at 0x7fae4552bcc0>"
            ]
          },
          "metadata": {
            "tags": []
          },
          "execution_count": 50
        },
        {
          "output_type": "display_data",
          "data": {
            "image/png": "[encoded data removed]",
            "text/plain": [
              "<Figure size 432x288 with 1 Axes>"
            ]
          },
          "metadata": {
            "tags": []
          }
        }
      ]
    },
    {
      "cell_type": "code",
      "metadata": {
        "id": "GicLIuuS_WM_",
        "colab_type": "code",
        "colab": {
          "base_uri": "https://localhost:8080/",
          "height": 34
        },
        "outputId": "e654e8de-3eb8-42d3-b51a-f9f6ba02abdc"
      },
      "source": [
        "pop_1 = dd_tv[dd_tv['gndr']=='Female']['Hours of TV']\n",
        "pop_2 = dd_tv[dd_tv['gndr']=='Male']['Hours of TV']\n",
        "#stats.wilcoxon(pop_1,pop_2)\n",
        "stats.kruskal(pop_1,pop_2)\n"
      ],
      "execution_count": 76,
      "outputs": [
        {
          "output_type": "execute_result",
          "data": {
            "text/plain": [
              "KruskalResult(statistic=2.7896270689476346, pvalue=0.09487630499527318)"
            ]
          },
          "metadata": {
            "tags": []
          },
          "execution_count": 76
        }
      ]
    },
    {
      "cell_type": "code",
      "metadata": {
        "id": "4pkq-Gfw9tFL",
        "colab_type": "code",
        "colab": {
          "base_uri": "https://localhost:8080/",
          "height": 308
        },
        "outputId": "0b6e45af-d9a0-4bae-e441-c1cf2684e99b"
      },
      "source": [
        "sns.distplot(pop_2)\n",
        "sns.distplot(pop_1)\n",
        "\n",
        "plt.legend('MF',loc='upper left')"
      ],
      "execution_count": 77,
      "outputs": [
        {
          "output_type": "execute_result",
          "data": {
            "text/plain": [
              "<matplotlib.legend.Legend at 0x7fae44d13fd0>"
            ]
          },
          "metadata": {
            "tags": []
          },
          "execution_count": 77
        },
        {
          "output_type": "display_data",
          "data": {
            "image/png": "[encoded data removed]",
            "text/plain": [
              "<Figure size 432x288 with 1 Axes>"
            ]
          },
          "metadata": {
            "tags": []
          }
        }
      ]
    },
    {
      "cell_type": "markdown",
      "metadata": {
        "id": "G5RpYwTs_X3f",
        "colab_type": "text"
      },
      "source": [
        "Because these distributions are so close in shape we don't need to use mean ranks to evaluate the Kruskal Statistic and can look at the median.\n",
        "\n",
        "\n",
        "\n"
      ]
    },
    {
      "cell_type": "markdown",
      "metadata": {
        "colab_type": "text",
        "id": "gO460vJnH3-g"
      },
      "source": [
        "\n",
        "\n",
        "\n",
        "\n",
        "\n",
        "## Who was more likely to believe people were fair in 2012, people living with a partner or people living alone?\n",
        "\n"
      ]
    },
    {
      "cell_type": "code",
      "metadata": {
        "id": "QjhaMccZ_46H",
        "colab_type": "code",
        "colab": {
          "base_uri": "https://localhost:8080/",
          "height": 195
        },
        "outputId": "0270e6d1-13cb-4158-c82b-84c16e5a1454"
      },
      "source": [
        "df.groupby(['year','partner']).describe()['pplfair']"
      ],
      "execution_count": 69,
      "outputs": [
        {
          "output_type": "execute_result",
          "data": {
            "text/html": [
              "<div>\n",
              "<style scoped>\n",
              "    .dataframe tbody tr th:only-of-type {\n",
              "        vertical-align: middle;\n",
              "    }\n",
              "\n",
              "    .dataframe tbody tr th {\n",
              "        vertical-align: top;\n",
              "    }\n",
              "\n",
              "    .dataframe thead th {\n",
              "        text-align: right;\n",
              "    }\n",
              "</style>\n",
              "<table border=\"1\" class=\"dataframe\">\n",
              "  <thead>\n",
              "    <tr style=\"text-align: right;\">\n",
              "      <th></th>\n",
              "      <th></th>\n",
              "      <th>count</th>\n",
              "      <th>mean</th>\n",
              "      <th>std</th>\n",
              "      <th>min</th>\n",
              "      <th>25%</th>\n",
              "      <th>50%</th>\n",
              "      <th>75%</th>\n",
              "      <th>max</th>\n",
              "    </tr>\n",
              "    <tr>\n",
              "      <th>year</th>\n",
              "      <th>partner</th>\n",
              "      <th></th>\n",
              "      <th></th>\n",
              "      <th></th>\n",
              "      <th></th>\n",
              "      <th></th>\n",
              "      <th></th>\n",
              "      <th></th>\n",
              "      <th></th>\n",
              "    </tr>\n",
              "  </thead>\n",
              "  <tbody>\n",
              "    <tr>\n",
              "      <th rowspan=\"2\" valign=\"top\">2012</th>\n",
              "      <th>Does not</th>\n",
              "      <td>1623.0</td>\n",
              "      <td>5.860136</td>\n",
              "      <td>2.160520</td>\n",
              "      <td>0.0</td>\n",
              "      <td>5.0</td>\n",
              "      <td>6.0</td>\n",
              "      <td>7.0</td>\n",
              "      <td>10.0</td>\n",
              "    </tr>\n",
              "    <tr>\n",
              "      <th>Lives with Partner</th>\n",
              "      <td>2674.0</td>\n",
              "      <td>6.077412</td>\n",
              "      <td>2.119245</td>\n",
              "      <td>0.0</td>\n",
              "      <td>5.0</td>\n",
              "      <td>7.0</td>\n",
              "      <td>8.0</td>\n",
              "      <td>10.0</td>\n",
              "    </tr>\n",
              "    <tr>\n",
              "      <th rowspan=\"2\" valign=\"top\">2014</th>\n",
              "      <th>Does not</th>\n",
              "      <td>1695.0</td>\n",
              "      <td>5.951032</td>\n",
              "      <td>2.158005</td>\n",
              "      <td>0.0</td>\n",
              "      <td>5.0</td>\n",
              "      <td>6.0</td>\n",
              "      <td>8.0</td>\n",
              "      <td>10.0</td>\n",
              "    </tr>\n",
              "    <tr>\n",
              "      <th>Lives with Partner</th>\n",
              "      <td>2602.0</td>\n",
              "      <td>6.046503</td>\n",
              "      <td>2.100820</td>\n",
              "      <td>0.0</td>\n",
              "      <td>5.0</td>\n",
              "      <td>6.0</td>\n",
              "      <td>8.0</td>\n",
              "      <td>10.0</td>\n",
              "    </tr>\n",
              "  </tbody>\n",
              "</table>\n",
              "</div>"
            ],
            "text/plain": [
              "                          count      mean       std  min  25%  50%  75%   max\n",
              "year partner                                                                 \n",
              "2012 Does not            1623.0  5.860136  2.160520  0.0  5.0  6.0  7.0  10.0\n",
              "     Lives with Partner  2674.0  6.077412  2.119245  0.0  5.0  7.0  8.0  10.0\n",
              "2014 Does not            1695.0  5.951032  2.158005  0.0  5.0  6.0  8.0  10.0\n",
              "     Lives with Partner  2602.0  6.046503  2.100820  0.0  5.0  6.0  8.0  10.0"
            ]
          },
          "metadata": {
            "tags": []
          },
          "execution_count": 69
        }
      ]
    },
    {
      "cell_type": "code",
      "metadata": {
        "colab_type": "code",
        "id": "JaWEMCojH3-h",
        "outputId": "00e637d1-d130-4c5d-fa89-da2c28379f1a",
        "colab": {
          "base_uri": "https://localhost:8080/",
          "height": 308
        }
      },
      "source": [
        "dd_partner_fair = pd.melt(df[df['year']==2012],id_vars=['partner'],value_vars=['pplfair'],value_name='Fair Index')\n",
        "\n",
        "sns.boxplot(y='partner',x='Fair Index',data=dd_partner_fair,orient ='h')"
      ],
      "execution_count": 67,
      "outputs": [
        {
          "output_type": "execute_result",
          "data": {
            "text/plain": [
              "<matplotlib.axes._subplots.AxesSubplot at 0x7fae44fc6240>"
            ]
          },
          "metadata": {
            "tags": []
          },
          "execution_count": 67
        },
        {
          "output_type": "display_data",
          "data": {
            "image/png": "[encoded data removed]",
            "text/plain": [
              "<Figure size 432x288 with 1 Axes>"
            ]
          },
          "metadata": {
            "tags": []
          }
        }
      ]
    },
    {
      "cell_type": "code",
      "metadata": {
        "id": "yMJREdFVANJJ",
        "colab_type": "code",
        "colab": {
          "base_uri": "https://localhost:8080/",
          "height": 34
        },
        "outputId": "1bb8ecb9-fac6-4d53-ad52-03996efeb89e"
      },
      "source": [
        "pop_1 = dd_partner_fair[dd_partner_fair['partner']=='Lives with Partner']['Fair Index']\n",
        "pop_2 = dd_partner_fair[dd_partner_fair['partner']=='Does not']['Fair Index']\n",
        "#stats.wilcoxon(pop_1,pop_2)\n",
        "stats.kruskal(pop_1,pop_2)\n"
      ],
      "execution_count": 81,
      "outputs": [
        {
          "output_type": "execute_result",
          "data": {
            "text/plain": [
              "KruskalResult(statistic=13.118432261868266, pvalue=0.000292404618674735)"
            ]
          },
          "metadata": {
            "tags": []
          },
          "execution_count": 81
        }
      ]
    },
    {
      "cell_type": "code",
      "metadata": {
        "id": "5M2qsVGpB2OY",
        "colab_type": "code",
        "colab": {
          "base_uri": "https://localhost:8080/",
          "height": 308
        },
        "outputId": "6c46aa39-0e13-4dbf-e43a-d3470a271c57"
      },
      "source": [
        "sns.distplot(pop_2)\n",
        "sns.distplot(pop_1)\n",
        "\n",
        "plt.legend('PN',loc='upper left')"
      ],
      "execution_count": 82,
      "outputs": [
        {
          "output_type": "execute_result",
          "data": {
            "text/plain": [
              "<matplotlib.legend.Legend at 0x7fae44a2fc50>"
            ]
          },
          "metadata": {
            "tags": []
          },
          "execution_count": 82
        },
        {
          "output_type": "display_data",
          "data": {
            "image/png": "[encoded data removed]",
            "text/plain": [
              "<Figure size 432x288 with 1 Axes>"
            ]
          },
          "metadata": {
            "tags": []
          }
        }
      ]
    },
    {
      "cell_type": "markdown",
      "metadata": {
        "colab_type": "text",
        "id": "yXfHTNjSIADA"
      },
      "source": [
        "\n",
        "## Pick three or four of the countries in the sample and compare how often people met socially in 2014. Are there differences, and if so, which countries stand out?\n"
      ]
    },
    {
      "cell_type": "code",
      "metadata": {
        "colab_type": "code",
        "id": "5YB3hETKIADB",
        "outputId": "499b2a59-19f8-4c27-8492-a074ff75505f",
        "colab": {
          "base_uri": "https://localhost:8080/",
          "height": 308
        }
      },
      "source": [
        "dd_sclmeet =  pd.melt(df[df['year']==2014],id_vars=['cntry'],value_vars=['sclmeet'],value_name='How often do you Socialize')\n",
        "\n",
        "sns.boxplot(y='cntry',x='How often do you Socialize',data=dd_sclmeet,orient ='h')"
      ],
      "execution_count": 85,
      "outputs": [
        {
          "output_type": "execute_result",
          "data": {
            "text/plain": [
              "<matplotlib.axes._subplots.AxesSubplot at 0x7fae453b1898>"
            ]
          },
          "metadata": {
            "tags": []
          },
          "execution_count": 85
        },
        {
          "output_type": "display_data",
          "data": {
            "image/png": "[encoded data removed]",
            "text/plain": [
              "<Figure size 432x288 with 1 Axes>"
            ]
          },
          "metadata": {
            "tags": []
          }
        }
      ]
    },
    {
      "cell_type": "code",
      "metadata": {
        "id": "lLuJy5FcC36l",
        "colab_type": "code",
        "colab": {
          "base_uri": "https://localhost:8080/",
          "height": 432
        },
        "outputId": "64bceace-3a05-4178-9303-5159a1c20438"
      },
      "source": [
        "df.groupby(['cntry','year']).describe()['sclmeet']"
      ],
      "execution_count": 86,
      "outputs": [
        {
          "output_type": "execute_result",
          "data": {
            "text/html": [
              "<div>\n",
              "<style scoped>\n",
              "    .dataframe tbody tr th:only-of-type {\n",
              "        vertical-align: middle;\n",
              "    }\n",
              "\n",
              "    .dataframe tbody tr th {\n",
              "        vertical-align: top;\n",
              "    }\n",
              "\n",
              "    .dataframe thead th {\n",
              "        text-align: right;\n",
              "    }\n",
              "</style>\n",
              "<table border=\"1\" class=\"dataframe\">\n",
              "  <thead>\n",
              "    <tr style=\"text-align: right;\">\n",
              "      <th></th>\n",
              "      <th></th>\n",
              "      <th>count</th>\n",
              "      <th>mean</th>\n",
              "      <th>std</th>\n",
              "      <th>min</th>\n",
              "      <th>25%</th>\n",
              "      <th>50%</th>\n",
              "      <th>75%</th>\n",
              "      <th>max</th>\n",
              "    </tr>\n",
              "    <tr>\n",
              "      <th>cntry</th>\n",
              "      <th>year</th>\n",
              "      <th></th>\n",
              "      <th></th>\n",
              "      <th></th>\n",
              "      <th></th>\n",
              "      <th></th>\n",
              "      <th></th>\n",
              "      <th></th>\n",
              "      <th></th>\n",
              "    </tr>\n",
              "  </thead>\n",
              "  <tbody>\n",
              "    <tr>\n",
              "      <th rowspan=\"2\" valign=\"top\">CH</th>\n",
              "      <th>2012</th>\n",
              "      <td>773.0</td>\n",
              "      <td>5.080207</td>\n",
              "      <td>1.339431</td>\n",
              "      <td>1.0</td>\n",
              "      <td>4.0</td>\n",
              "      <td>5.0</td>\n",
              "      <td>6.0</td>\n",
              "      <td>7.0</td>\n",
              "    </tr>\n",
              "    <tr>\n",
              "      <th>2014</th>\n",
              "      <td>773.0</td>\n",
              "      <td>5.161708</td>\n",
              "      <td>1.308000</td>\n",
              "      <td>1.0</td>\n",
              "      <td>4.0</td>\n",
              "      <td>6.0</td>\n",
              "      <td>6.0</td>\n",
              "      <td>7.0</td>\n",
              "    </tr>\n",
              "    <tr>\n",
              "      <th rowspan=\"2\" valign=\"top\">CZ</th>\n",
              "      <th>2012</th>\n",
              "      <td>658.0</td>\n",
              "      <td>4.655015</td>\n",
              "      <td>1.667437</td>\n",
              "      <td>1.0</td>\n",
              "      <td>4.0</td>\n",
              "      <td>5.0</td>\n",
              "      <td>6.0</td>\n",
              "      <td>7.0</td>\n",
              "    </tr>\n",
              "    <tr>\n",
              "      <th>2014</th>\n",
              "      <td>658.0</td>\n",
              "      <td>4.448328</td>\n",
              "      <td>1.485979</td>\n",
              "      <td>1.0</td>\n",
              "      <td>4.0</td>\n",
              "      <td>4.0</td>\n",
              "      <td>6.0</td>\n",
              "      <td>7.0</td>\n",
              "    </tr>\n",
              "    <tr>\n",
              "      <th rowspan=\"2\" valign=\"top\">DE</th>\n",
              "      <th>2012</th>\n",
              "      <td>14.0</td>\n",
              "      <td>5.000000</td>\n",
              "      <td>1.037749</td>\n",
              "      <td>3.0</td>\n",
              "      <td>4.0</td>\n",
              "      <td>5.0</td>\n",
              "      <td>6.0</td>\n",
              "      <td>6.0</td>\n",
              "    </tr>\n",
              "    <tr>\n",
              "      <th>2014</th>\n",
              "      <td>14.0</td>\n",
              "      <td>4.428571</td>\n",
              "      <td>0.755929</td>\n",
              "      <td>3.0</td>\n",
              "      <td>4.0</td>\n",
              "      <td>4.0</td>\n",
              "      <td>5.0</td>\n",
              "      <td>6.0</td>\n",
              "    </tr>\n",
              "    <tr>\n",
              "      <th rowspan=\"2\" valign=\"top\">ES</th>\n",
              "      <th>2012</th>\n",
              "      <td>1213.0</td>\n",
              "      <td>5.226711</td>\n",
              "      <td>1.523917</td>\n",
              "      <td>1.0</td>\n",
              "      <td>4.0</td>\n",
              "      <td>6.0</td>\n",
              "      <td>6.0</td>\n",
              "      <td>7.0</td>\n",
              "    </tr>\n",
              "    <tr>\n",
              "      <th>2014</th>\n",
              "      <td>1213.0</td>\n",
              "      <td>5.257214</td>\n",
              "      <td>1.471890</td>\n",
              "      <td>1.0</td>\n",
              "      <td>4.0</td>\n",
              "      <td>6.0</td>\n",
              "      <td>6.0</td>\n",
              "      <td>7.0</td>\n",
              "    </tr>\n",
              "    <tr>\n",
              "      <th rowspan=\"2\" valign=\"top\">NO</th>\n",
              "      <th>2012</th>\n",
              "      <td>731.0</td>\n",
              "      <td>5.530780</td>\n",
              "      <td>1.294910</td>\n",
              "      <td>1.0</td>\n",
              "      <td>5.0</td>\n",
              "      <td>6.0</td>\n",
              "      <td>6.0</td>\n",
              "      <td>7.0</td>\n",
              "    </tr>\n",
              "    <tr>\n",
              "      <th>2014</th>\n",
              "      <td>731.0</td>\n",
              "      <td>5.302326</td>\n",
              "      <td>1.347848</td>\n",
              "      <td>1.0</td>\n",
              "      <td>4.0</td>\n",
              "      <td>6.0</td>\n",
              "      <td>6.0</td>\n",
              "      <td>7.0</td>\n",
              "    </tr>\n",
              "    <tr>\n",
              "      <th rowspan=\"2\" valign=\"top\">SE</th>\n",
              "      <th>2012</th>\n",
              "      <td>908.0</td>\n",
              "      <td>5.529736</td>\n",
              "      <td>1.393874</td>\n",
              "      <td>1.0</td>\n",
              "      <td>4.0</td>\n",
              "      <td>6.0</td>\n",
              "      <td>7.0</td>\n",
              "      <td>7.0</td>\n",
              "    </tr>\n",
              "    <tr>\n",
              "      <th>2014</th>\n",
              "      <td>908.0</td>\n",
              "      <td>5.426211</td>\n",
              "      <td>1.373098</td>\n",
              "      <td>2.0</td>\n",
              "      <td>4.0</td>\n",
              "      <td>6.0</td>\n",
              "      <td>7.0</td>\n",
              "      <td>7.0</td>\n",
              "    </tr>\n",
              "  </tbody>\n",
              "</table>\n",
              "</div>"
            ],
            "text/plain": [
              "             count      mean       std  min  25%  50%  75%  max\n",
              "cntry year                                                     \n",
              "CH    2012   773.0  5.080207  1.339431  1.0  4.0  5.0  6.0  7.0\n",
              "      2014   773.0  5.161708  1.308000  1.0  4.0  6.0  6.0  7.0\n",
              "CZ    2012   658.0  4.655015  1.667437  1.0  4.0  5.0  6.0  7.0\n",
              "      2014   658.0  4.448328  1.485979  1.0  4.0  4.0  6.0  7.0\n",
              "DE    2012    14.0  5.000000  1.037749  3.0  4.0  5.0  6.0  6.0\n",
              "      2014    14.0  4.428571  0.755929  3.0  4.0  4.0  5.0  6.0\n",
              "ES    2012  1213.0  5.226711  1.523917  1.0  4.0  6.0  6.0  7.0\n",
              "      2014  1213.0  5.257214  1.471890  1.0  4.0  6.0  6.0  7.0\n",
              "NO    2012   731.0  5.530780  1.294910  1.0  5.0  6.0  6.0  7.0\n",
              "      2014   731.0  5.302326  1.347848  1.0  4.0  6.0  6.0  7.0\n",
              "SE    2012   908.0  5.529736  1.393874  1.0  4.0  6.0  7.0  7.0\n",
              "      2014   908.0  5.426211  1.373098  2.0  4.0  6.0  7.0  7.0"
            ]
          },
          "metadata": {
            "tags": []
          },
          "execution_count": 86
        }
      ]
    },
    {
      "cell_type": "code",
      "metadata": {
        "id": "L27N9l_2HAAL",
        "colab_type": "code",
        "colab": {
          "base_uri": "https://localhost:8080/",
          "height": 195
        },
        "outputId": "e5fc2a66-3083-4799-999c-d7df06c905c7"
      },
      "source": [
        "dd_sclmeet.head()"
      ],
      "execution_count": 88,
      "outputs": [
        {
          "output_type": "execute_result",
          "data": {
            "text/html": [
              "<div>\n",
              "<style scoped>\n",
              "    .dataframe tbody tr th:only-of-type {\n",
              "        vertical-align: middle;\n",
              "    }\n",
              "\n",
              "    .dataframe tbody tr th {\n",
              "        vertical-align: top;\n",
              "    }\n",
              "\n",
              "    .dataframe thead th {\n",
              "        text-align: right;\n",
              "    }\n",
              "</style>\n",
              "<table border=\"1\" class=\"dataframe\">\n",
              "  <thead>\n",
              "    <tr style=\"text-align: right;\">\n",
              "      <th></th>\n",
              "      <th>cntry</th>\n",
              "      <th>variable</th>\n",
              "      <th>How often do you Socialize</th>\n",
              "    </tr>\n",
              "  </thead>\n",
              "  <tbody>\n",
              "    <tr>\n",
              "      <th>0</th>\n",
              "      <td>CH</td>\n",
              "      <td>sclmeet</td>\n",
              "      <td>6.0</td>\n",
              "    </tr>\n",
              "    <tr>\n",
              "      <th>1</th>\n",
              "      <td>CH</td>\n",
              "      <td>sclmeet</td>\n",
              "      <td>5.0</td>\n",
              "    </tr>\n",
              "    <tr>\n",
              "      <th>2</th>\n",
              "      <td>CH</td>\n",
              "      <td>sclmeet</td>\n",
              "      <td>7.0</td>\n",
              "    </tr>\n",
              "    <tr>\n",
              "      <th>3</th>\n",
              "      <td>CH</td>\n",
              "      <td>sclmeet</td>\n",
              "      <td>6.0</td>\n",
              "    </tr>\n",
              "    <tr>\n",
              "      <th>4</th>\n",
              "      <td>CH</td>\n",
              "      <td>sclmeet</td>\n",
              "      <td>6.0</td>\n",
              "    </tr>\n",
              "  </tbody>\n",
              "</table>\n",
              "</div>"
            ],
            "text/plain": [
              "  cntry variable  How often do you Socialize\n",
              "0    CH  sclmeet                         6.0\n",
              "1    CH  sclmeet                         5.0\n",
              "2    CH  sclmeet                         7.0\n",
              "3    CH  sclmeet                         6.0\n",
              "4    CH  sclmeet                         6.0"
            ]
          },
          "metadata": {
            "tags": []
          },
          "execution_count": 88
        }
      ]
    },
    {
      "cell_type": "code",
      "metadata": {
        "id": "W7BAgr6DGurD",
        "colab_type": "code",
        "colab": {}
      },
      "source": [
        "from statsmodels.stats.multicomp import pairwise_tukeyhsd"
      ],
      "execution_count": 0,
      "outputs": []
    },
    {
      "cell_type": "code",
      "metadata": {
        "id": "Md7yJNuQFJ-0",
        "colab_type": "code",
        "colab": {
          "base_uri": "https://localhost:8080/",
          "height": 372
        },
        "outputId": "bc150ce9-1265-4145-99a6-906d5428964f"
      },
      "source": [
        "# Let's try a tukey's pair wise test here\n",
        "\n",
        "tukey = pairwise_tukeyhsd(endog=dd_sclmeet['How often do you Socialize'],      # Data\n",
        "                          groups=dd_sclmeet['cntry'],   # Groups\n",
        "                          alpha=0.05)                   # Significance level\n",
        "\n",
        "tukey.summary() "
      ],
      "execution_count": 93,
      "outputs": [
        {
          "output_type": "execute_result",
          "data": {
            "text/html": [
              "<table class=\"simpletable\">\n",
              "<caption>Multiple Comparison of Means - Tukey HSD,FWER=0.05</caption>\n",
              "<tr>\n",
              "  <th>group1</th> <th>group2</th> <th>meandiff</th>  <th>lower</th>   <th>upper</th>  <th>reject</th>\n",
              "</tr>\n",
              "<tr>\n",
              "    <td>CH</td>     <td>CZ</td>    <td>-0.7134</td> <td>-0.9255</td> <td>-0.5013</td>  <td>True</td> \n",
              "</tr>\n",
              "<tr>\n",
              "    <td>CH</td>     <td>DE</td>    <td>-0.7331</td> <td>-1.8114</td> <td>0.3452</td>   <td>False</td>\n",
              "</tr>\n",
              "<tr>\n",
              "    <td>CH</td>     <td>ES</td>    <td>0.0955</td>  <td>-0.0885</td> <td>0.2795</td>   <td>False</td>\n",
              "</tr>\n",
              "<tr>\n",
              "    <td>CH</td>     <td>NO</td>    <td>0.1406</td>  <td>-0.0657</td> <td>0.3469</td>   <td>False</td>\n",
              "</tr>\n",
              "<tr>\n",
              "    <td>CH</td>     <td>SE</td>    <td>0.2645</td>  <td>0.0688</td>  <td>0.4602</td>   <td>True</td> \n",
              "</tr>\n",
              "<tr>\n",
              "    <td>CZ</td>     <td>DE</td>    <td>-0.0198</td> <td>-1.0997</td> <td>1.0602</td>   <td>False</td>\n",
              "</tr>\n",
              "<tr>\n",
              "    <td>CZ</td>     <td>ES</td>    <td>0.8089</td>  <td>0.6153</td>  <td>1.0025</td>   <td>True</td> \n",
              "</tr>\n",
              "<tr>\n",
              "    <td>CZ</td>     <td>NO</td>     <td>0.854</td>  <td>0.6391</td>  <td>1.0689</td>   <td>True</td> \n",
              "</tr>\n",
              "<tr>\n",
              "    <td>CZ</td>     <td>SE</td>    <td>0.9779</td>  <td>0.7732</td>  <td>1.1826</td>   <td>True</td> \n",
              "</tr>\n",
              "<tr>\n",
              "    <td>DE</td>     <td>ES</td>    <td>0.8286</td>  <td>-0.2462</td> <td>1.9035</td>   <td>False</td>\n",
              "</tr>\n",
              "<tr>\n",
              "    <td>DE</td>     <td>NO</td>    <td>0.8738</td>  <td>-0.2051</td> <td>1.9526</td>   <td>False</td>\n",
              "</tr>\n",
              "<tr>\n",
              "    <td>DE</td>     <td>SE</td>    <td>0.9976</td>  <td>-0.0792</td> <td>2.0745</td>   <td>False</td>\n",
              "</tr>\n",
              "<tr>\n",
              "    <td>ES</td>     <td>NO</td>    <td>0.0451</td>  <td>-0.1421</td> <td>0.2323</td>   <td>False</td>\n",
              "</tr>\n",
              "<tr>\n",
              "    <td>ES</td>     <td>SE</td>     <td>0.169</td>  <td>-0.0065</td> <td>0.3445</td>   <td>False</td>\n",
              "</tr>\n",
              "<tr>\n",
              "    <td>NO</td>     <td>SE</td>    <td>0.1239</td>  <td>-0.0748</td> <td>0.3226</td>   <td>False</td>\n",
              "</tr>\n",
              "</table>"
            ],
            "text/plain": [
              "<class 'statsmodels.iolib.table.SimpleTable'>"
            ]
          },
          "metadata": {
            "tags": []
          },
          "execution_count": 93
        }
      ]
    },
    {
      "cell_type": "markdown",
      "metadata": {
        "colab_type": "text",
        "id": "MZzdXAA9IErk"
      },
      "source": [
        "## Pick three or four of the countries in the sample and compare how often people took part in social activities, relative to others their age, in 2014. Are there differences, and if so, which countries stand out?\n"
      ]
    },
    {
      "cell_type": "code",
      "metadata": {
        "colab_type": "code",
        "id": "rfZxTEzAIErl",
        "outputId": "0740a22f-c2b5-4956-bbdf-087315e47f0a",
        "colab": {
          "base_uri": "https://localhost:8080/",
          "height": 308
        }
      },
      "source": [
        "dd_sclact = pd.melt(df[df['year']==2014],id_vars=['cntry'],value_vars=['sclact'],value_name='Age Relative Social Activity')\n",
        "\n",
        "sns.boxplot(y='cntry',x='Age Relative Social Activity',data=dd_sclact,orient ='h')"
      ],
      "execution_count": 94,
      "outputs": [
        {
          "output_type": "execute_result",
          "data": {
            "text/plain": [
              "<matplotlib.axes._subplots.AxesSubplot at 0x7fae44884e10>"
            ]
          },
          "metadata": {
            "tags": []
          },
          "execution_count": 94
        },
        {
          "output_type": "display_data",
          "data": {
            "image/png": "[encoded data removed]",
            "text/plain": [
              "<Figure size 432x288 with 1 Axes>"
            ]
          },
          "metadata": {
            "tags": []
          }
        }
      ]
    },
    {
      "cell_type": "code",
      "metadata": {
        "id": "F0OYOVUcHkIk",
        "colab_type": "code",
        "colab": {
          "base_uri": "https://localhost:8080/",
          "height": 195
        },
        "outputId": "8373d70c-a302-462b-a382-c69bdcb4b1d3"
      },
      "source": [
        "dd_sclact.head()"
      ],
      "execution_count": 96,
      "outputs": [
        {
          "output_type": "execute_result",
          "data": {
            "text/html": [
              "<div>\n",
              "<style scoped>\n",
              "    .dataframe tbody tr th:only-of-type {\n",
              "        vertical-align: middle;\n",
              "    }\n",
              "\n",
              "    .dataframe tbody tr th {\n",
              "        vertical-align: top;\n",
              "    }\n",
              "\n",
              "    .dataframe thead th {\n",
              "        text-align: right;\n",
              "    }\n",
              "</style>\n",
              "<table border=\"1\" class=\"dataframe\">\n",
              "  <thead>\n",
              "    <tr style=\"text-align: right;\">\n",
              "      <th></th>\n",
              "      <th>cntry</th>\n",
              "      <th>variable</th>\n",
              "      <th>Age Relative Social Activity</th>\n",
              "    </tr>\n",
              "  </thead>\n",
              "  <tbody>\n",
              "    <tr>\n",
              "      <th>0</th>\n",
              "      <td>CH</td>\n",
              "      <td>sclact</td>\n",
              "      <td>4.0</td>\n",
              "    </tr>\n",
              "    <tr>\n",
              "      <th>1</th>\n",
              "      <td>CH</td>\n",
              "      <td>sclact</td>\n",
              "      <td>3.0</td>\n",
              "    </tr>\n",
              "    <tr>\n",
              "      <th>2</th>\n",
              "      <td>CH</td>\n",
              "      <td>sclact</td>\n",
              "      <td>5.0</td>\n",
              "    </tr>\n",
              "    <tr>\n",
              "      <th>3</th>\n",
              "      <td>CH</td>\n",
              "      <td>sclact</td>\n",
              "      <td>2.0</td>\n",
              "    </tr>\n",
              "    <tr>\n",
              "      <th>4</th>\n",
              "      <td>CH</td>\n",
              "      <td>sclact</td>\n",
              "      <td>2.0</td>\n",
              "    </tr>\n",
              "  </tbody>\n",
              "</table>\n",
              "</div>"
            ],
            "text/plain": [
              "  cntry variable  Age Relative Social Activity\n",
              "0    CH   sclact                           4.0\n",
              "1    CH   sclact                           3.0\n",
              "2    CH   sclact                           5.0\n",
              "3    CH   sclact                           2.0\n",
              "4    CH   sclact                           2.0"
            ]
          },
          "metadata": {
            "tags": []
          },
          "execution_count": 96
        }
      ]
    },
    {
      "cell_type": "code",
      "metadata": {
        "id": "tLh29hCbxZCR",
        "colab_type": "code",
        "outputId": "43b10903-b6b9-4c64-a74c-a14012a82407",
        "colab": {
          "base_uri": "https://localhost:8080/",
          "height": 254
        }
      },
      "source": [
        "df[df['year']==2014].groupby(['year','cntry'])['sclact'].describe()"
      ],
      "execution_count": 95,
      "outputs": [
        {
          "output_type": "execute_result",
          "data": {
            "text/html": [
              "<div>\n",
              "<style scoped>\n",
              "    .dataframe tbody tr th:only-of-type {\n",
              "        vertical-align: middle;\n",
              "    }\n",
              "\n",
              "    .dataframe tbody tr th {\n",
              "        vertical-align: top;\n",
              "    }\n",
              "\n",
              "    .dataframe thead th {\n",
              "        text-align: right;\n",
              "    }\n",
              "</style>\n",
              "<table border=\"1\" class=\"dataframe\">\n",
              "  <thead>\n",
              "    <tr style=\"text-align: right;\">\n",
              "      <th></th>\n",
              "      <th></th>\n",
              "      <th>count</th>\n",
              "      <th>mean</th>\n",
              "      <th>std</th>\n",
              "      <th>min</th>\n",
              "      <th>25%</th>\n",
              "      <th>50%</th>\n",
              "      <th>75%</th>\n",
              "      <th>max</th>\n",
              "    </tr>\n",
              "    <tr>\n",
              "      <th>year</th>\n",
              "      <th>cntry</th>\n",
              "      <th></th>\n",
              "      <th></th>\n",
              "      <th></th>\n",
              "      <th></th>\n",
              "      <th></th>\n",
              "      <th></th>\n",
              "      <th></th>\n",
              "      <th></th>\n",
              "    </tr>\n",
              "  </thead>\n",
              "  <tbody>\n",
              "    <tr>\n",
              "      <th rowspan=\"6\" valign=\"top\">2014</th>\n",
              "      <th>CH</th>\n",
              "      <td>773.0</td>\n",
              "      <td>2.782665</td>\n",
              "      <td>0.910138</td>\n",
              "      <td>1.0</td>\n",
              "      <td>2.00</td>\n",
              "      <td>3.0</td>\n",
              "      <td>3.0</td>\n",
              "      <td>5.0</td>\n",
              "    </tr>\n",
              "    <tr>\n",
              "      <th>CZ</th>\n",
              "      <td>658.0</td>\n",
              "      <td>2.703647</td>\n",
              "      <td>0.846886</td>\n",
              "      <td>1.0</td>\n",
              "      <td>2.00</td>\n",
              "      <td>3.0</td>\n",
              "      <td>3.0</td>\n",
              "      <td>5.0</td>\n",
              "    </tr>\n",
              "    <tr>\n",
              "      <th>DE</th>\n",
              "      <td>14.0</td>\n",
              "      <td>2.714286</td>\n",
              "      <td>0.726273</td>\n",
              "      <td>1.0</td>\n",
              "      <td>2.25</td>\n",
              "      <td>3.0</td>\n",
              "      <td>3.0</td>\n",
              "      <td>4.0</td>\n",
              "    </tr>\n",
              "    <tr>\n",
              "      <th>ES</th>\n",
              "      <td>1213.0</td>\n",
              "      <td>2.616653</td>\n",
              "      <td>0.952131</td>\n",
              "      <td>1.0</td>\n",
              "      <td>2.00</td>\n",
              "      <td>3.0</td>\n",
              "      <td>3.0</td>\n",
              "      <td>5.0</td>\n",
              "    </tr>\n",
              "    <tr>\n",
              "      <th>NO</th>\n",
              "      <td>731.0</td>\n",
              "      <td>2.859097</td>\n",
              "      <td>0.829662</td>\n",
              "      <td>1.0</td>\n",
              "      <td>2.00</td>\n",
              "      <td>3.0</td>\n",
              "      <td>3.0</td>\n",
              "      <td>5.0</td>\n",
              "    </tr>\n",
              "    <tr>\n",
              "      <th>SE</th>\n",
              "      <td>908.0</td>\n",
              "      <td>2.881057</td>\n",
              "      <td>0.860216</td>\n",
              "      <td>1.0</td>\n",
              "      <td>2.00</td>\n",
              "      <td>3.0</td>\n",
              "      <td>3.0</td>\n",
              "      <td>5.0</td>\n",
              "    </tr>\n",
              "  </tbody>\n",
              "</table>\n",
              "</div>"
            ],
            "text/plain": [
              "             count      mean       std  min   25%  50%  75%  max\n",
              "year cntry                                                      \n",
              "2014 CH      773.0  2.782665  0.910138  1.0  2.00  3.0  3.0  5.0\n",
              "     CZ      658.0  2.703647  0.846886  1.0  2.00  3.0  3.0  5.0\n",
              "     DE       14.0  2.714286  0.726273  1.0  2.25  3.0  3.0  4.0\n",
              "     ES     1213.0  2.616653  0.952131  1.0  2.00  3.0  3.0  5.0\n",
              "     NO      731.0  2.859097  0.829662  1.0  2.00  3.0  3.0  5.0\n",
              "     SE      908.0  2.881057  0.860216  1.0  2.00  3.0  3.0  5.0"
            ]
          },
          "metadata": {
            "tags": []
          },
          "execution_count": 95
        }
      ]
    },
    {
      "cell_type": "code",
      "metadata": {
        "id": "g_j3xbJ4y3iT",
        "colab_type": "code",
        "colab": {
          "base_uri": "https://localhost:8080/",
          "height": 372
        },
        "outputId": "1c030ba8-0d29-4a96-899d-19d0dd05fbaf"
      },
      "source": [
        "tukey = pairwise_tukeyhsd(endog=dd_sclact['Age Relative Social Activity'],      # Data\n",
        "                          groups=dd_sclact['cntry'],   # Groups\n",
        "                          alpha=0.05)                   # Significance level\n",
        "\n",
        "tukey.summary() "
      ],
      "execution_count": 97,
      "outputs": [
        {
          "output_type": "execute_result",
          "data": {
            "text/html": [
              "<table class=\"simpletable\">\n",
              "<caption>Multiple Comparison of Means - Tukey HSD,FWER=0.05</caption>\n",
              "<tr>\n",
              "  <th>group1</th> <th>group2</th> <th>meandiff</th>  <th>lower</th>   <th>upper</th>  <th>reject</th>\n",
              "</tr>\n",
              "<tr>\n",
              "    <td>CH</td>     <td>CZ</td>    <td>-0.079</td>  <td>-0.2134</td> <td>0.0554</td>   <td>False</td>\n",
              "</tr>\n",
              "<tr>\n",
              "    <td>CH</td>     <td>DE</td>    <td>-0.0684</td> <td>-0.7517</td>  <td>0.615</td>   <td>False</td>\n",
              "</tr>\n",
              "<tr>\n",
              "    <td>CH</td>     <td>ES</td>    <td>-0.166</td>  <td>-0.2826</td> <td>-0.0494</td>  <td>True</td> \n",
              "</tr>\n",
              "<tr>\n",
              "    <td>CH</td>     <td>NO</td>    <td>0.0764</td>  <td>-0.0543</td> <td>0.2072</td>   <td>False</td>\n",
              "</tr>\n",
              "<tr>\n",
              "    <td>CH</td>     <td>SE</td>    <td>0.0984</td>  <td>-0.0256</td> <td>0.2224</td>   <td>False</td>\n",
              "</tr>\n",
              "<tr>\n",
              "    <td>CZ</td>     <td>DE</td>    <td>0.0106</td>  <td>-0.6738</td>  <td>0.695</td>   <td>False</td>\n",
              "</tr>\n",
              "<tr>\n",
              "    <td>CZ</td>     <td>ES</td>    <td>-0.087</td>  <td>-0.2097</td> <td>0.0357</td>   <td>False</td>\n",
              "</tr>\n",
              "<tr>\n",
              "    <td>CZ</td>     <td>NO</td>    <td>0.1554</td>  <td>0.0193</td>  <td>0.2916</td>   <td>True</td> \n",
              "</tr>\n",
              "<tr>\n",
              "    <td>CZ</td>     <td>SE</td>    <td>0.1774</td>  <td>0.0477</td>  <td>0.3071</td>   <td>True</td> \n",
              "</tr>\n",
              "<tr>\n",
              "    <td>DE</td>     <td>ES</td>    <td>-0.0976</td> <td>-0.7788</td> <td>0.5835</td>   <td>False</td>\n",
              "</tr>\n",
              "<tr>\n",
              "    <td>DE</td>     <td>NO</td>    <td>0.1448</td>  <td>-0.5389</td> <td>0.8285</td>   <td>False</td>\n",
              "</tr>\n",
              "<tr>\n",
              "    <td>DE</td>     <td>SE</td>    <td>0.1668</td>  <td>-0.5157</td> <td>0.8492</td>   <td>False</td>\n",
              "</tr>\n",
              "<tr>\n",
              "    <td>ES</td>     <td>NO</td>    <td>0.2424</td>  <td>0.1238</td>  <td>0.3611</td>   <td>True</td> \n",
              "</tr>\n",
              "<tr>\n",
              "    <td>ES</td>     <td>SE</td>    <td>0.2644</td>  <td>0.1532</td>  <td>0.3756</td>   <td>True</td> \n",
              "</tr>\n",
              "<tr>\n",
              "    <td>NO</td>     <td>SE</td>     <td>0.022</td>  <td>-0.104</td>  <td>0.1479</td>   <td>False</td>\n",
              "</tr>\n",
              "</table>"
            ],
            "text/plain": [
              "<class 'statsmodels.iolib.table.SimpleTable'>"
            ]
          },
          "metadata": {
            "tags": []
          },
          "execution_count": 97
        }
      ]
    },
    {
      "cell_type": "code",
      "metadata": {
        "id": "CbtsERnUHo-Z",
        "colab_type": "code",
        "colab": {}
      },
      "source": [
        ""
      ],
      "execution_count": 0,
      "outputs": []
    }
  ]
}