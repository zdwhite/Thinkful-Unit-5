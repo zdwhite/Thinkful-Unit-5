{
  "nbformat": 4,
  "nbformat_minor": 0,
  "metadata": {
    "colab": {
      "name": "Challenge: What test to use",
      "version": "0.3.2",
      "provenance": [],
      "include_colab_link": true
    },
    "kernelspec": {
      "name": "python3",
      "display_name": "Python 3"
    }
  },
  "cells": [
    {
      "cell_type": "markdown",
      "metadata": {
        "id": "view-in-github",
        "colab_type": "text"
      },
      "source": [
        "<a href=\"https://colab.research.google.com/github/zdwhite/Thinkful-Unit-5/blob/master/Challenge_What_test_to_use.ipynb\" target=\"_parent\"><img src=\"https://colab.research.google.com/assets/colab-badge.svg\" alt=\"Open In Colab\"/></a>"
      ]
    },
    {
      "cell_type": "markdown",
      "metadata": {
        "id": "s0fNrJo6HXwg",
        "colab_type": "text"
      },
      "source": [
        "# Challenge: What test to use\n",
        "\n",
        "Using selected questions from the 2012 and 2014 editions of the [European Social Survey](http://www.europeansocialsurvey.org/data/round-index.html), address the following questions. Keep track of your code and results in a Jupyter notebook or other source that you can share with your mentor. For each question, explain why you chose the approach you did.\n",
        "\n",
        "Here is the [data file](https://raw.githubusercontent.com/Thinkful-Ed/data-201-resources/master/ESS_practice_data/ESSdata_Thinkful.csv). And here is the [codebook](https://thinkful-ed.github.io/data-201-resources/ESS_practice_data/ESS_codebook.html), with information about the variable coding and content.\n",
        "\n",
        "In this dataset, the same participants answered questions in 2012 and again 2014.\n",
        "\n",
        "This will guide one to choose the correct test depending on your question and data type.\n",
        "[REFERENCE](https://stats.idre.ucla.edu/other/mult-pkg/whatstat/)\n",
        "\n"
      ]
    },
    {
      "cell_type": "code",
      "metadata": {
        "id": "5VSmUj0pIL1l",
        "colab_type": "code",
        "colab": {}
      },
      "source": [
        "import pandas as pd\n",
        "import numpy as np\n",
        "from scipy import stats \n",
        "\n",
        "import matplotlib.pyplot as plt\n",
        "import seaborn as sns\n",
        "\n",
        "\n",
        "## importing data\n",
        "\n",
        "df = pd.read_csv('https://raw.githubusercontent.com/Thinkful-Ed/data-201-resources/master/ESS_practice_data/ESSdata_Thinkful.csv')\n",
        "\n",
        "# change some encoding for graphics later\n",
        "df['year']=np.where(df['year']==6,2012,2014)\n",
        "df['gndr']=np.where(df['gndr']==1,'Male','Female')\n",
        "\n",
        "df['partner']  = np.where(df['partner']==1,'Lives with Partner','Does not')\n"
      ],
      "execution_count": 0,
      "outputs": []
    },
    {
      "cell_type": "code",
      "metadata": {
        "id": "0U3ArBu4OUq3",
        "colab_type": "code",
        "outputId": "2d08af4e-4f44-400f-f408-ebcbdb70271c",
        "colab": {
          "base_uri": "https://localhost:8080/",
          "height": 319
        }
      },
      "source": [
        "df.info()"
      ],
      "execution_count": 0,
      "outputs": [
        {
          "output_type": "stream",
          "text": [
            "<class 'pandas.core.frame.DataFrame'>\n",
            "RangeIndex: 8594 entries, 0 to 8593\n",
            "Data columns (total 13 columns):\n",
            "cntry      8594 non-null object\n",
            "idno       8594 non-null float64\n",
            "year       8594 non-null int64\n",
            "tvtot      8586 non-null float64\n",
            "ppltrst    8580 non-null float64\n",
            "pplfair    8555 non-null float64\n",
            "pplhlp     8569 non-null float64\n",
            "happy      8563 non-null float64\n",
            "sclmeet    8579 non-null float64\n",
            "sclact     8500 non-null float64\n",
            "gndr       8594 non-null object\n",
            "agea       8355 non-null float64\n",
            "partner    8594 non-null object\n",
            "dtypes: float64(9), int64(1), object(3)\n",
            "memory usage: 872.9+ KB\n"
          ],
          "name": "stdout"
        }
      ]
    },
    {
      "cell_type": "code",
      "metadata": {
        "id": "zXhM54UHO3hu",
        "colab_type": "code",
        "outputId": "14bfd93b-3b2e-4396-95aa-e73a22f05553",
        "colab": {
          "base_uri": "https://localhost:8080/",
          "height": 252
        }
      },
      "source": [
        "df.isnull().sum()"
      ],
      "execution_count": 0,
      "outputs": [
        {
          "output_type": "execute_result",
          "data": {
            "text/plain": [
              "cntry        0\n",
              "idno         0\n",
              "year         0\n",
              "tvtot        8\n",
              "ppltrst     14\n",
              "pplfair     39\n",
              "pplhlp      25\n",
              "happy       31\n",
              "sclmeet     15\n",
              "sclact      94\n",
              "gndr         0\n",
              "agea       239\n",
              "partner      0\n",
              "dtype: int64"
            ]
          },
          "metadata": {
            "tags": []
          },
          "execution_count": 105
        }
      ]
    },
    {
      "cell_type": "code",
      "metadata": {
        "id": "D6mKtOk-4rZs",
        "colab_type": "code",
        "outputId": "477df399-a5b7-4f91-b6ec-0f246bd8186c",
        "colab": {
          "base_uri": "https://localhost:8080/",
          "height": 252
        }
      },
      "source": [
        "df.fillna(inplace=True,method='ffill')\n",
        "\n",
        "df.isnull().sum()"
      ],
      "execution_count": 0,
      "outputs": [
        {
          "output_type": "execute_result",
          "data": {
            "text/plain": [
              "cntry      0\n",
              "idno       0\n",
              "year       0\n",
              "tvtot      0\n",
              "ppltrst    0\n",
              "pplfair    0\n",
              "pplhlp     0\n",
              "happy      0\n",
              "sclmeet    0\n",
              "sclact     0\n",
              "gndr       0\n",
              "agea       0\n",
              "partner    0\n",
              "dtype: int64"
            ]
          },
          "metadata": {
            "tags": []
          },
          "execution_count": 114
        }
      ]
    },
    {
      "cell_type": "code",
      "metadata": {
        "id": "Dc4FvpOo5drQ",
        "colab_type": "code",
        "outputId": "2f8bbc28-724b-495d-8122-28fef64ca842",
        "colab": {
          "base_uri": "https://localhost:8080/",
          "height": 510
        }
      },
      "source": [
        "df.groupby(['cntry','year']).describe()"
      ],
      "execution_count": 0,
      "outputs": [
        {
          "output_type": "execute_result",
          "data": {
            "text/html": [
              "<div>\n",
              "<style scoped>\n",
              "    .dataframe tbody tr th:only-of-type {\n",
              "        vertical-align: middle;\n",
              "    }\n",
              "\n",
              "    .dataframe tbody tr th {\n",
              "        vertical-align: top;\n",
              "    }\n",
              "\n",
              "    .dataframe thead tr th {\n",
              "        text-align: left;\n",
              "    }\n",
              "\n",
              "    .dataframe thead tr:last-of-type th {\n",
              "        text-align: right;\n",
              "    }\n",
              "</style>\n",
              "<table border=\"1\" class=\"dataframe\">\n",
              "  <thead>\n",
              "    <tr>\n",
              "      <th></th>\n",
              "      <th></th>\n",
              "      <th colspan=\"8\" halign=\"left\">idno</th>\n",
              "      <th colspan=\"2\" halign=\"left\">tvtot</th>\n",
              "      <th>...</th>\n",
              "      <th colspan=\"2\" halign=\"left\">sclact</th>\n",
              "      <th colspan=\"8\" halign=\"left\">agea</th>\n",
              "    </tr>\n",
              "    <tr>\n",
              "      <th></th>\n",
              "      <th></th>\n",
              "      <th>count</th>\n",
              "      <th>mean</th>\n",
              "      <th>std</th>\n",
              "      <th>min</th>\n",
              "      <th>25%</th>\n",
              "      <th>50%</th>\n",
              "      <th>75%</th>\n",
              "      <th>max</th>\n",
              "      <th>count</th>\n",
              "      <th>mean</th>\n",
              "      <th>...</th>\n",
              "      <th>75%</th>\n",
              "      <th>max</th>\n",
              "      <th>count</th>\n",
              "      <th>mean</th>\n",
              "      <th>std</th>\n",
              "      <th>min</th>\n",
              "      <th>25%</th>\n",
              "      <th>50%</th>\n",
              "      <th>75%</th>\n",
              "      <th>max</th>\n",
              "    </tr>\n",
              "    <tr>\n",
              "      <th>cntry</th>\n",
              "      <th>year</th>\n",
              "      <th></th>\n",
              "      <th></th>\n",
              "      <th></th>\n",
              "      <th></th>\n",
              "      <th></th>\n",
              "      <th></th>\n",
              "      <th></th>\n",
              "      <th></th>\n",
              "      <th></th>\n",
              "      <th></th>\n",
              "      <th></th>\n",
              "      <th></th>\n",
              "      <th></th>\n",
              "      <th></th>\n",
              "      <th></th>\n",
              "      <th></th>\n",
              "      <th></th>\n",
              "      <th></th>\n",
              "      <th></th>\n",
              "      <th></th>\n",
              "      <th></th>\n",
              "    </tr>\n",
              "  </thead>\n",
              "  <tbody>\n",
              "    <tr>\n",
              "      <th rowspan=\"2\" valign=\"top\">CH</th>\n",
              "      <th>2012</th>\n",
              "      <td>773.0</td>\n",
              "      <td>1.480680e+03</td>\n",
              "      <td>837.085069</td>\n",
              "      <td>5.0</td>\n",
              "      <td>761.00</td>\n",
              "      <td>1432.0</td>\n",
              "      <td>2243.00</td>\n",
              "      <td>2905.0</td>\n",
              "      <td>773.0</td>\n",
              "      <td>3.143596</td>\n",
              "      <td>...</td>\n",
              "      <td>3.0</td>\n",
              "      <td>5.0</td>\n",
              "      <td>773.0</td>\n",
              "      <td>47.316947</td>\n",
              "      <td>18.440822</td>\n",
              "      <td>16.0</td>\n",
              "      <td>32.00</td>\n",
              "      <td>47.0</td>\n",
              "      <td>60.00</td>\n",
              "      <td>94.0</td>\n",
              "    </tr>\n",
              "    <tr>\n",
              "      <th>2014</th>\n",
              "      <td>773.0</td>\n",
              "      <td>1.480680e+03</td>\n",
              "      <td>837.085069</td>\n",
              "      <td>5.0</td>\n",
              "      <td>761.00</td>\n",
              "      <td>1432.0</td>\n",
              "      <td>2243.00</td>\n",
              "      <td>2905.0</td>\n",
              "      <td>773.0</td>\n",
              "      <td>3.065977</td>\n",
              "      <td>...</td>\n",
              "      <td>3.0</td>\n",
              "      <td>5.0</td>\n",
              "      <td>773.0</td>\n",
              "      <td>46.157827</td>\n",
              "      <td>18.760515</td>\n",
              "      <td>16.0</td>\n",
              "      <td>32.00</td>\n",
              "      <td>45.0</td>\n",
              "      <td>60.00</td>\n",
              "      <td>92.0</td>\n",
              "    </tr>\n",
              "    <tr>\n",
              "      <th rowspan=\"2\" valign=\"top\">CZ</th>\n",
              "      <th>2012</th>\n",
              "      <td>658.0</td>\n",
              "      <td>1.445666e+03</td>\n",
              "      <td>368.654806</td>\n",
              "      <td>1001.0</td>\n",
              "      <td>1169.25</td>\n",
              "      <td>1333.5</td>\n",
              "      <td>1500.75</td>\n",
              "      <td>2151.0</td>\n",
              "      <td>658.0</td>\n",
              "      <td>5.141337</td>\n",
              "      <td>...</td>\n",
              "      <td>3.0</td>\n",
              "      <td>5.0</td>\n",
              "      <td>658.0</td>\n",
              "      <td>47.031915</td>\n",
              "      <td>17.419365</td>\n",
              "      <td>16.0</td>\n",
              "      <td>34.00</td>\n",
              "      <td>47.0</td>\n",
              "      <td>60.00</td>\n",
              "      <td>91.0</td>\n",
              "    </tr>\n",
              "    <tr>\n",
              "      <th>2014</th>\n",
              "      <td>658.0</td>\n",
              "      <td>1.445666e+03</td>\n",
              "      <td>368.654806</td>\n",
              "      <td>1001.0</td>\n",
              "      <td>1169.25</td>\n",
              "      <td>1333.5</td>\n",
              "      <td>1500.75</td>\n",
              "      <td>2151.0</td>\n",
              "      <td>658.0</td>\n",
              "      <td>4.686930</td>\n",
              "      <td>...</td>\n",
              "      <td>3.0</td>\n",
              "      <td>5.0</td>\n",
              "      <td>658.0</td>\n",
              "      <td>45.545593</td>\n",
              "      <td>16.320101</td>\n",
              "      <td>15.0</td>\n",
              "      <td>34.00</td>\n",
              "      <td>45.0</td>\n",
              "      <td>58.00</td>\n",
              "      <td>87.0</td>\n",
              "    </tr>\n",
              "    <tr>\n",
              "      <th rowspan=\"2\" valign=\"top\">DE</th>\n",
              "      <th>2012</th>\n",
              "      <td>14.0</td>\n",
              "      <td>1.100048e+07</td>\n",
              "      <td>506.292818</td>\n",
              "      <td>11000031.0</td>\n",
              "      <td>11000101.00</td>\n",
              "      <td>11000271.0</td>\n",
              "      <td>11000833.50</td>\n",
              "      <td>11001431.0</td>\n",
              "      <td>14.0</td>\n",
              "      <td>4.928571</td>\n",
              "      <td>...</td>\n",
              "      <td>3.0</td>\n",
              "      <td>5.0</td>\n",
              "      <td>14.0</td>\n",
              "      <td>52.071429</td>\n",
              "      <td>16.578319</td>\n",
              "      <td>26.0</td>\n",
              "      <td>38.00</td>\n",
              "      <td>54.0</td>\n",
              "      <td>61.25</td>\n",
              "      <td>75.0</td>\n",
              "    </tr>\n",
              "    <tr>\n",
              "      <th>2014</th>\n",
              "      <td>14.0</td>\n",
              "      <td>1.100048e+07</td>\n",
              "      <td>506.292818</td>\n",
              "      <td>11000031.0</td>\n",
              "      <td>11000101.00</td>\n",
              "      <td>11000271.0</td>\n",
              "      <td>11000833.50</td>\n",
              "      <td>11001431.0</td>\n",
              "      <td>14.0</td>\n",
              "      <td>3.071429</td>\n",
              "      <td>...</td>\n",
              "      <td>3.0</td>\n",
              "      <td>4.0</td>\n",
              "      <td>14.0</td>\n",
              "      <td>59.714286</td>\n",
              "      <td>15.162852</td>\n",
              "      <td>36.0</td>\n",
              "      <td>49.75</td>\n",
              "      <td>56.5</td>\n",
              "      <td>66.50</td>\n",
              "      <td>89.0</td>\n",
              "    </tr>\n",
              "    <tr>\n",
              "      <th rowspan=\"2\" valign=\"top\">ES</th>\n",
              "      <th>2012</th>\n",
              "      <td>1213.0</td>\n",
              "      <td>1.467607e+03</td>\n",
              "      <td>818.301231</td>\n",
              "      <td>1.0</td>\n",
              "      <td>807.00</td>\n",
              "      <td>1456.0</td>\n",
              "      <td>2175.00</td>\n",
              "      <td>2865.0</td>\n",
              "      <td>1213.0</td>\n",
              "      <td>3.977741</td>\n",
              "      <td>...</td>\n",
              "      <td>3.0</td>\n",
              "      <td>5.0</td>\n",
              "      <td>1213.0</td>\n",
              "      <td>47.830173</td>\n",
              "      <td>17.702926</td>\n",
              "      <td>16.0</td>\n",
              "      <td>35.00</td>\n",
              "      <td>46.0</td>\n",
              "      <td>61.00</td>\n",
              "      <td>103.0</td>\n",
              "    </tr>\n",
              "    <tr>\n",
              "      <th>2014</th>\n",
              "      <td>1213.0</td>\n",
              "      <td>1.467607e+03</td>\n",
              "      <td>818.301231</td>\n",
              "      <td>1.0</td>\n",
              "      <td>807.00</td>\n",
              "      <td>1456.0</td>\n",
              "      <td>2175.00</td>\n",
              "      <td>2865.0</td>\n",
              "      <td>1213.0</td>\n",
              "      <td>4.016488</td>\n",
              "      <td>...</td>\n",
              "      <td>3.0</td>\n",
              "      <td>5.0</td>\n",
              "      <td>1213.0</td>\n",
              "      <td>47.925804</td>\n",
              "      <td>18.633900</td>\n",
              "      <td>16.0</td>\n",
              "      <td>33.00</td>\n",
              "      <td>47.0</td>\n",
              "      <td>61.00</td>\n",
              "      <td>101.0</td>\n",
              "    </tr>\n",
              "    <tr>\n",
              "      <th rowspan=\"2\" valign=\"top\">NO</th>\n",
              "      <th>2012</th>\n",
              "      <td>731.0</td>\n",
              "      <td>1.430671e+04</td>\n",
              "      <td>4672.042957</td>\n",
              "      <td>6312.0</td>\n",
              "      <td>10347.00</td>\n",
              "      <td>14346.0</td>\n",
              "      <td>18558.00</td>\n",
              "      <td>22428.0</td>\n",
              "      <td>731.0</td>\n",
              "      <td>3.837209</td>\n",
              "      <td>...</td>\n",
              "      <td>3.0</td>\n",
              "      <td>5.0</td>\n",
              "      <td>731.0</td>\n",
              "      <td>46.392613</td>\n",
              "      <td>17.823961</td>\n",
              "      <td>15.0</td>\n",
              "      <td>32.00</td>\n",
              "      <td>46.0</td>\n",
              "      <td>60.00</td>\n",
              "      <td>93.0</td>\n",
              "    </tr>\n",
              "    <tr>\n",
              "      <th>2014</th>\n",
              "      <td>731.0</td>\n",
              "      <td>1.430671e+04</td>\n",
              "      <td>4672.042957</td>\n",
              "      <td>6312.0</td>\n",
              "      <td>10347.00</td>\n",
              "      <td>14346.0</td>\n",
              "      <td>18558.00</td>\n",
              "      <td>22428.0</td>\n",
              "      <td>731.0</td>\n",
              "      <td>3.705882</td>\n",
              "      <td>...</td>\n",
              "      <td>3.0</td>\n",
              "      <td>5.0</td>\n",
              "      <td>731.0</td>\n",
              "      <td>46.584131</td>\n",
              "      <td>18.537543</td>\n",
              "      <td>15.0</td>\n",
              "      <td>32.00</td>\n",
              "      <td>47.0</td>\n",
              "      <td>60.50</td>\n",
              "      <td>94.0</td>\n",
              "    </tr>\n",
              "    <tr>\n",
              "      <th rowspan=\"2\" valign=\"top\">SE</th>\n",
              "      <th>2012</th>\n",
              "      <td>908.0</td>\n",
              "      <td>1.765173e+03</td>\n",
              "      <td>1098.083963</td>\n",
              "      <td>7.0</td>\n",
              "      <td>788.50</td>\n",
              "      <td>1585.0</td>\n",
              "      <td>2733.75</td>\n",
              "      <td>3746.0</td>\n",
              "      <td>908.0</td>\n",
              "      <td>3.691630</td>\n",
              "      <td>...</td>\n",
              "      <td>3.0</td>\n",
              "      <td>5.0</td>\n",
              "      <td>908.0</td>\n",
              "      <td>49.591410</td>\n",
              "      <td>19.382684</td>\n",
              "      <td>15.0</td>\n",
              "      <td>33.00</td>\n",
              "      <td>51.0</td>\n",
              "      <td>67.00</td>\n",
              "      <td>96.0</td>\n",
              "    </tr>\n",
              "    <tr>\n",
              "      <th>2014</th>\n",
              "      <td>908.0</td>\n",
              "      <td>1.765173e+03</td>\n",
              "      <td>1098.083963</td>\n",
              "      <td>7.0</td>\n",
              "      <td>788.50</td>\n",
              "      <td>1585.0</td>\n",
              "      <td>2733.75</td>\n",
              "      <td>3746.0</td>\n",
              "      <td>908.0</td>\n",
              "      <td>3.585903</td>\n",
              "      <td>...</td>\n",
              "      <td>3.0</td>\n",
              "      <td>5.0</td>\n",
              "      <td>908.0</td>\n",
              "      <td>50.101322</td>\n",
              "      <td>19.882807</td>\n",
              "      <td>15.0</td>\n",
              "      <td>33.00</td>\n",
              "      <td>52.0</td>\n",
              "      <td>67.00</td>\n",
              "      <td>114.0</td>\n",
              "    </tr>\n",
              "  </tbody>\n",
              "</table>\n",
              "<p>12 rows × 72 columns</p>\n",
              "</div>"
            ],
            "text/plain": [
              "              idno                                                      \\\n",
              "             count          mean          std         min          25%   \n",
              "cntry year                                                               \n",
              "CH    2012   773.0  1.480680e+03   837.085069         5.0       761.00   \n",
              "      2014   773.0  1.480680e+03   837.085069         5.0       761.00   \n",
              "CZ    2012   658.0  1.445666e+03   368.654806      1001.0      1169.25   \n",
              "      2014   658.0  1.445666e+03   368.654806      1001.0      1169.25   \n",
              "DE    2012    14.0  1.100048e+07   506.292818  11000031.0  11000101.00   \n",
              "      2014    14.0  1.100048e+07   506.292818  11000031.0  11000101.00   \n",
              "ES    2012  1213.0  1.467607e+03   818.301231         1.0       807.00   \n",
              "      2014  1213.0  1.467607e+03   818.301231         1.0       807.00   \n",
              "NO    2012   731.0  1.430671e+04  4672.042957      6312.0     10347.00   \n",
              "      2014   731.0  1.430671e+04  4672.042957      6312.0     10347.00   \n",
              "SE    2012   908.0  1.765173e+03  1098.083963         7.0       788.50   \n",
              "      2014   908.0  1.765173e+03  1098.083963         7.0       788.50   \n",
              "\n",
              "                                                  tvtot            ... sclact  \\\n",
              "                   50%          75%         max   count      mean  ...    75%   \n",
              "cntry year                                                         ...          \n",
              "CH    2012      1432.0      2243.00      2905.0   773.0  3.143596  ...    3.0   \n",
              "      2014      1432.0      2243.00      2905.0   773.0  3.065977  ...    3.0   \n",
              "CZ    2012      1333.5      1500.75      2151.0   658.0  5.141337  ...    3.0   \n",
              "      2014      1333.5      1500.75      2151.0   658.0  4.686930  ...    3.0   \n",
              "DE    2012  11000271.0  11000833.50  11001431.0    14.0  4.928571  ...    3.0   \n",
              "      2014  11000271.0  11000833.50  11001431.0    14.0  3.071429  ...    3.0   \n",
              "ES    2012      1456.0      2175.00      2865.0  1213.0  3.977741  ...    3.0   \n",
              "      2014      1456.0      2175.00      2865.0  1213.0  4.016488  ...    3.0   \n",
              "NO    2012     14346.0     18558.00     22428.0   731.0  3.837209  ...    3.0   \n",
              "      2014     14346.0     18558.00     22428.0   731.0  3.705882  ...    3.0   \n",
              "SE    2012      1585.0      2733.75      3746.0   908.0  3.691630  ...    3.0   \n",
              "      2014      1585.0      2733.75      3746.0   908.0  3.585903  ...    3.0   \n",
              "\n",
              "                   agea                                                         \n",
              "            max   count       mean        std   min    25%   50%    75%    max  \n",
              "cntry year                                                                      \n",
              "CH    2012  5.0   773.0  47.316947  18.440822  16.0  32.00  47.0  60.00   94.0  \n",
              "      2014  5.0   773.0  46.157827  18.760515  16.0  32.00  45.0  60.00   92.0  \n",
              "CZ    2012  5.0   658.0  47.031915  17.419365  16.0  34.00  47.0  60.00   91.0  \n",
              "      2014  5.0   658.0  45.545593  16.320101  15.0  34.00  45.0  58.00   87.0  \n",
              "DE    2012  5.0    14.0  52.071429  16.578319  26.0  38.00  54.0  61.25   75.0  \n",
              "      2014  4.0    14.0  59.714286  15.162852  36.0  49.75  56.5  66.50   89.0  \n",
              "ES    2012  5.0  1213.0  47.830173  17.702926  16.0  35.00  46.0  61.00  103.0  \n",
              "      2014  5.0  1213.0  47.925804  18.633900  16.0  33.00  47.0  61.00  101.0  \n",
              "NO    2012  5.0   731.0  46.392613  17.823961  15.0  32.00  46.0  60.00   93.0  \n",
              "      2014  5.0   731.0  46.584131  18.537543  15.0  32.00  47.0  60.50   94.0  \n",
              "SE    2012  5.0   908.0  49.591410  19.382684  15.0  33.00  51.0  67.00   96.0  \n",
              "      2014  5.0   908.0  50.101322  19.882807  15.0  33.00  52.0  67.00  114.0  \n",
              "\n",
              "[12 rows x 72 columns]"
            ]
          },
          "metadata": {
            "tags": []
          },
          "execution_count": 115
        }
      ]
    },
    {
      "cell_type": "code",
      "metadata": {
        "id": "wJwD1HLD65w_",
        "colab_type": "code",
        "outputId": "fba334c1-54b7-4bf5-9349-b5e165fa090f",
        "colab": {
          "base_uri": "https://localhost:8080/",
          "height": 252
        }
      },
      "source": [
        ""
      ],
      "execution_count": 0,
      "outputs": [
        {
          "output_type": "execute_result",
          "data": {
            "text/plain": [
              "cntry        0\n",
              "idno         0\n",
              "year         0\n",
              "tvtot        8\n",
              "ppltrst     14\n",
              "pplfair     39\n",
              "pplhlp      25\n",
              "happy       31\n",
              "sclmeet     15\n",
              "sclact      94\n",
              "gndr         0\n",
              "agea       239\n",
              "partner      0\n",
              "dtype: int64"
            ]
          },
          "metadata": {
            "tags": []
          },
          "execution_count": 108
        }
      ]
    },
    {
      "cell_type": "markdown",
      "metadata": {
        "id": "0xF2_XSj5Wki",
        "colab_type": "text"
      },
      "source": [
        "# Quick Summary\n",
        "\n",
        "\n",
        "So what can we do here we have a few issues.\n",
        "\n",
        "\n",
        "1.   Ordinal Data\n",
        "2.   Missing Data\n",
        "3.   Data is not typically normally distributed\n",
        "\n",
        "Because our data is ordinal it cuts down the types of tests of significance at our disposal. I'll be choosing the Wilcoxon signed ranks test as it works with ordinal data. However, because there is missing data we have to deal with that in order to use the test.\n",
        "\n",
        "As for missing data I'll be imputing data with a forward fill method. Some may find this fairly unsatisfactory, however in our case we have only a few missing values in the features we are testing. The majority of missing data is in the age feature which is unused in this analysis anyway."
      ]
    },
    {
      "cell_type": "markdown",
      "metadata": {
        "id": "vKkSvjccHr3p",
        "colab_type": "text"
      },
      "source": [
        "## Did people become less trusting from 2012 to 2014? Compute results for each country in the sample.\n",
        "\n",
        "**ppltrst**: Most people can be trusted or you can't be too careful\n",
        "\n",
        "Survey Question:\n",
        "\n",
        "All rounds: Using this card, generally speaking, would you say that most people can be trusted, or that you can't be too careful in dealing with people? Please tell me on a score of 0 to 10, where 0 means you can't be too careful and 10 means that most people can be trusted.\n",
        "\n",
        "\n",
        "\n"
      ]
    },
    {
      "cell_type": "code",
      "metadata": {
        "id": "SizyVQJ8HSKj",
        "colab_type": "code",
        "colab": {}
      },
      "source": [
        "dd = pd.melt(df,id_vars=['cntry','year'],value_vars=['ppltrst'],value_name='Trust index')\n"
      ],
      "execution_count": 0,
      "outputs": []
    },
    {
      "cell_type": "code",
      "metadata": {
        "id": "t2IP7b05X_bo",
        "colab_type": "code",
        "outputId": "7ad8ada3-f291-4523-d7b7-55228b20c7a7",
        "colab": {
          "base_uri": "https://localhost:8080/",
          "height": 402
        }
      },
      "source": [
        "df_year_cntry = df.groupby(['cntry','year'])['ppltrst'].describe().reset_index()\n",
        "\n",
        "df_year_cntry"
      ],
      "execution_count": 0,
      "outputs": [
        {
          "output_type": "execute_result",
          "data": {
            "text/html": [
              "<div>\n",
              "<style scoped>\n",
              "    .dataframe tbody tr th:only-of-type {\n",
              "        vertical-align: middle;\n",
              "    }\n",
              "\n",
              "    .dataframe tbody tr th {\n",
              "        vertical-align: top;\n",
              "    }\n",
              "\n",
              "    .dataframe thead th {\n",
              "        text-align: right;\n",
              "    }\n",
              "</style>\n",
              "<table border=\"1\" class=\"dataframe\">\n",
              "  <thead>\n",
              "    <tr style=\"text-align: right;\">\n",
              "      <th></th>\n",
              "      <th>cntry</th>\n",
              "      <th>year</th>\n",
              "      <th>count</th>\n",
              "      <th>mean</th>\n",
              "      <th>std</th>\n",
              "      <th>min</th>\n",
              "      <th>25%</th>\n",
              "      <th>50%</th>\n",
              "      <th>75%</th>\n",
              "      <th>max</th>\n",
              "    </tr>\n",
              "  </thead>\n",
              "  <tbody>\n",
              "    <tr>\n",
              "      <th>0</th>\n",
              "      <td>CH</td>\n",
              "      <td>2012</td>\n",
              "      <td>773.0</td>\n",
              "      <td>5.677878</td>\n",
              "      <td>2.130701</td>\n",
              "      <td>0.0</td>\n",
              "      <td>4.00</td>\n",
              "      <td>6.0</td>\n",
              "      <td>7.0</td>\n",
              "      <td>10.0</td>\n",
              "    </tr>\n",
              "    <tr>\n",
              "      <th>1</th>\n",
              "      <td>CH</td>\n",
              "      <td>2014</td>\n",
              "      <td>773.0</td>\n",
              "      <td>5.751617</td>\n",
              "      <td>2.143888</td>\n",
              "      <td>0.0</td>\n",
              "      <td>5.00</td>\n",
              "      <td>6.0</td>\n",
              "      <td>7.0</td>\n",
              "      <td>10.0</td>\n",
              "    </tr>\n",
              "    <tr>\n",
              "      <th>2</th>\n",
              "      <td>CZ</td>\n",
              "      <td>2012</td>\n",
              "      <td>658.0</td>\n",
              "      <td>4.351064</td>\n",
              "      <td>2.428241</td>\n",
              "      <td>0.0</td>\n",
              "      <td>3.00</td>\n",
              "      <td>4.0</td>\n",
              "      <td>6.0</td>\n",
              "      <td>10.0</td>\n",
              "    </tr>\n",
              "    <tr>\n",
              "      <th>3</th>\n",
              "      <td>CZ</td>\n",
              "      <td>2014</td>\n",
              "      <td>658.0</td>\n",
              "      <td>4.424012</td>\n",
              "      <td>2.303693</td>\n",
              "      <td>0.0</td>\n",
              "      <td>3.00</td>\n",
              "      <td>5.0</td>\n",
              "      <td>6.0</td>\n",
              "      <td>10.0</td>\n",
              "    </tr>\n",
              "    <tr>\n",
              "      <th>4</th>\n",
              "      <td>DE</td>\n",
              "      <td>2012</td>\n",
              "      <td>14.0</td>\n",
              "      <td>5.214286</td>\n",
              "      <td>1.528125</td>\n",
              "      <td>3.0</td>\n",
              "      <td>4.25</td>\n",
              "      <td>5.0</td>\n",
              "      <td>6.5</td>\n",
              "      <td>8.0</td>\n",
              "    </tr>\n",
              "    <tr>\n",
              "      <th>5</th>\n",
              "      <td>DE</td>\n",
              "      <td>2014</td>\n",
              "      <td>14.0</td>\n",
              "      <td>5.357143</td>\n",
              "      <td>2.530039</td>\n",
              "      <td>2.0</td>\n",
              "      <td>3.25</td>\n",
              "      <td>5.5</td>\n",
              "      <td>7.0</td>\n",
              "      <td>10.0</td>\n",
              "    </tr>\n",
              "    <tr>\n",
              "      <th>6</th>\n",
              "      <td>ES</td>\n",
              "      <td>2012</td>\n",
              "      <td>1213.0</td>\n",
              "      <td>5.114592</td>\n",
              "      <td>2.183623</td>\n",
              "      <td>0.0</td>\n",
              "      <td>4.00</td>\n",
              "      <td>5.0</td>\n",
              "      <td>7.0</td>\n",
              "      <td>10.0</td>\n",
              "    </tr>\n",
              "    <tr>\n",
              "      <th>7</th>\n",
              "      <td>ES</td>\n",
              "      <td>2014</td>\n",
              "      <td>1213.0</td>\n",
              "      <td>4.893652</td>\n",
              "      <td>2.148236</td>\n",
              "      <td>0.0</td>\n",
              "      <td>3.00</td>\n",
              "      <td>5.0</td>\n",
              "      <td>6.0</td>\n",
              "      <td>10.0</td>\n",
              "    </tr>\n",
              "    <tr>\n",
              "      <th>8</th>\n",
              "      <td>NO</td>\n",
              "      <td>2012</td>\n",
              "      <td>731.0</td>\n",
              "      <td>6.651163</td>\n",
              "      <td>1.749382</td>\n",
              "      <td>0.0</td>\n",
              "      <td>5.00</td>\n",
              "      <td>7.0</td>\n",
              "      <td>8.0</td>\n",
              "      <td>10.0</td>\n",
              "    </tr>\n",
              "    <tr>\n",
              "      <th>9</th>\n",
              "      <td>NO</td>\n",
              "      <td>2014</td>\n",
              "      <td>731.0</td>\n",
              "      <td>6.599179</td>\n",
              "      <td>1.810002</td>\n",
              "      <td>0.0</td>\n",
              "      <td>5.00</td>\n",
              "      <td>7.0</td>\n",
              "      <td>8.0</td>\n",
              "      <td>10.0</td>\n",
              "    </tr>\n",
              "    <tr>\n",
              "      <th>10</th>\n",
              "      <td>SE</td>\n",
              "      <td>2012</td>\n",
              "      <td>908.0</td>\n",
              "      <td>6.059471</td>\n",
              "      <td>2.053525</td>\n",
              "      <td>0.0</td>\n",
              "      <td>5.00</td>\n",
              "      <td>7.0</td>\n",
              "      <td>8.0</td>\n",
              "      <td>10.0</td>\n",
              "    </tr>\n",
              "    <tr>\n",
              "      <th>11</th>\n",
              "      <td>SE</td>\n",
              "      <td>2014</td>\n",
              "      <td>908.0</td>\n",
              "      <td>6.257709</td>\n",
              "      <td>2.005422</td>\n",
              "      <td>0.0</td>\n",
              "      <td>5.00</td>\n",
              "      <td>7.0</td>\n",
              "      <td>8.0</td>\n",
              "      <td>10.0</td>\n",
              "    </tr>\n",
              "  </tbody>\n",
              "</table>\n",
              "</div>"
            ],
            "text/plain": [
              "   cntry  year   count      mean       std  min   25%  50%  75%   max\n",
              "0     CH  2012   773.0  5.677878  2.130701  0.0  4.00  6.0  7.0  10.0\n",
              "1     CH  2014   773.0  5.751617  2.143888  0.0  5.00  6.0  7.0  10.0\n",
              "2     CZ  2012   658.0  4.351064  2.428241  0.0  3.00  4.0  6.0  10.0\n",
              "3     CZ  2014   658.0  4.424012  2.303693  0.0  3.00  5.0  6.0  10.0\n",
              "4     DE  2012    14.0  5.214286  1.528125  3.0  4.25  5.0  6.5   8.0\n",
              "5     DE  2014    14.0  5.357143  2.530039  2.0  3.25  5.5  7.0  10.0\n",
              "6     ES  2012  1213.0  5.114592  2.183623  0.0  4.00  5.0  7.0  10.0\n",
              "7     ES  2014  1213.0  4.893652  2.148236  0.0  3.00  5.0  6.0  10.0\n",
              "8     NO  2012   731.0  6.651163  1.749382  0.0  5.00  7.0  8.0  10.0\n",
              "9     NO  2014   731.0  6.599179  1.810002  0.0  5.00  7.0  8.0  10.0\n",
              "10    SE  2012   908.0  6.059471  2.053525  0.0  5.00  7.0  8.0  10.0\n",
              "11    SE  2014   908.0  6.257709  2.005422  0.0  5.00  7.0  8.0  10.0"
            ]
          },
          "metadata": {
            "tags": []
          },
          "execution_count": 117
        }
      ]
    },
    {
      "cell_type": "markdown",
      "metadata": {
        "id": "USvbzsvnruY3",
        "colab_type": "text"
      },
      "source": [
        "## Check for Outliers"
      ]
    },
    {
      "cell_type": "code",
      "metadata": {
        "id": "CGaY3AQ2Tqo4",
        "colab_type": "code",
        "outputId": "310cddb9-ecd7-4d1f-ed24-84c32d321c93",
        "colab": {
          "base_uri": "https://localhost:8080/",
          "height": 308
        }
      },
      "source": [
        "sns.set()\n",
        "g = sns.boxplot(y='cntry',x='Trust index',data=dd,orient ='h',hue='year')\n",
        "\n",
        "g.legend(loc='center right', bbox_to_anchor=(1.25, 0.5), ncol=1)"
      ],
      "execution_count": 0,
      "outputs": [
        {
          "output_type": "execute_result",
          "data": {
            "text/plain": [
              "<matplotlib.legend.Legend at 0x7fb3d3a65908>"
            ]
          },
          "metadata": {
            "tags": []
          },
          "execution_count": 118
        },
        {
          "output_type": "display_data",
          "data": {
            "image/png": "[encoded data removed]",
            "text/plain": [
              "<Figure size 432x288 with 1 Axes>"
            ]
          },
          "metadata": {
            "tags": []
          }
        }
      ]
    },
    {
      "cell_type": "markdown",
      "metadata": {
        "id": "0Ku_CBVAz6v3",
        "colab_type": "text"
      },
      "source": [
        "Looking by country we can observe that outliers exist in six of the twelve sets."
      ]
    },
    {
      "cell_type": "markdown",
      "metadata": {
        "id": "XXkhTMTEryWU",
        "colab_type": "text"
      },
      "source": [
        "## Check for Normality"
      ]
    },
    {
      "cell_type": "code",
      "metadata": {
        "id": "FE3-xLoyrswH",
        "colab_type": "code",
        "colab": {}
      },
      "source": [
        "def shapiro(df):\n",
        "  cntry_list = df['cntry'].unique()\n",
        "  results = []\n",
        "  for x in cntry_list:\n",
        "    pop_1 = df.loc[(df['cntry']==x) & (df['year']==2012),['ppltrst']]\n",
        "    pop_2 = df.loc[(df['cntry']==x) & (df['year']==2014),['ppltrst']]\n",
        "    normal_1 = stats.shapiro(pop_1)\n",
        "    normal_2 = stats.shapiro(pop_2)\n",
        "    results.extend([normal_1,normal_2,x])\n",
        "  return results"
      ],
      "execution_count": 0,
      "outputs": []
    },
    {
      "cell_type": "code",
      "metadata": {
        "id": "LAsYYLzJstFi",
        "colab_type": "code",
        "outputId": "1d82aa99-3a3a-44fb-bc3d-2b35da52c776",
        "colab": {
          "base_uri": "https://localhost:8080/",
          "height": 319
        }
      },
      "source": [
        "shapiro(df)"
      ],
      "execution_count": 0,
      "outputs": [
        {
          "output_type": "execute_result",
          "data": {
            "text/plain": [
              "[(0.9519361853599548, 3.4958809444132896e-15),\n",
              " (0.9538647532463074, 7.692136586977955e-15),\n",
              " 'CH',\n",
              " (0.9672042727470398, 5.764026062005101e-11),\n",
              " (0.972077488899231, 7.064237528275896e-10),\n",
              " 'CZ',\n",
              " (0.9013110399246216, 0.1178363636136055),\n",
              " (0.9425466060638428, 0.4519253373146057),\n",
              " 'DE',\n",
              " (0.9496549367904663, 5.989953442559737e-20),\n",
              " (0.9663659930229187, 3.734396740272391e-16),\n",
              " 'ES',\n",
              " (0.9209728240966797, 4.0887095653856325e-19),\n",
              " (0.9294818639755249, 4.779899979174929e-18),\n",
              " 'NO',\n",
              " (0.9354179501533508, 2.1889822721658554e-19),\n",
              " (0.9398238658905029, 1.0416553104982269e-18),\n",
              " 'SE']"
            ]
          },
          "metadata": {
            "tags": []
          },
          "execution_count": 120
        }
      ]
    },
    {
      "cell_type": "markdown",
      "metadata": {
        "id": "GZxHmz5KrnJ_",
        "colab_type": "text"
      },
      "source": [
        "Intrupting the results above suggest that checking for normality on data that is essentially categorical is a bad idea as groups with low samples size such as Germany appear to be more normal looking than other countries with higher sample sizes such as Spain, this effect is shown in the QQ plots below. \n",
        "\n",
        "This rules our using any type of paired T-Tests as they rely on normality and the same sample size for each group which we don't have.\n",
        "\n"
      ]
    },
    {
      "cell_type": "code",
      "metadata": {
        "id": "kjuWo5Tcu6XF",
        "colab_type": "code",
        "outputId": "61b43449-8287-408e-ddec-b3eb7b74f496",
        "colab": {
          "base_uri": "https://localhost:8080/",
          "height": 585
        }
      },
      "source": [
        "DE = df.loc[(df['cntry']=='DE') & (df['year']==2014),['ppltrst']]['ppltrst']\n",
        "ES = df.loc[(df['cntry']=='ES') & (df['year']==2014),['ppltrst']]['ppltrst']\n",
        "stats.probplot(DE, plot= plt)\n",
        "plt.title('Germany')\n",
        "\n",
        "plt.show() \n",
        "stats.probplot(ES, plot= plt)\n",
        "plt.title('Spain')\n",
        "\n",
        "plt.show() "
      ],
      "execution_count": 0,
      "outputs": [
        {
          "output_type": "display_data",
          "data": {
            "image/png": "[encoded data removed]",
            "text/plain": [
              "<Figure size 432x288 with 1 Axes>"
            ]
          },
          "metadata": {
            "tags": []
          }
        },
        {
          "output_type": "display_data",
          "data": {
            "image/png": "[encoded data removed]",
            "text/plain": [
              "<Figure size 432x288 with 1 Axes>"
            ]
          },
          "metadata": {
            "tags": []
          }
        }
      ]
    },
    {
      "cell_type": "code",
      "metadata": {
        "id": "RUPjsquymeQN",
        "colab_type": "code",
        "colab": {}
      },
      "source": [
        "# Country wise pair wilcox rank\n",
        "\n",
        "\n",
        "\n",
        "def w_test(df,feature):\n",
        "  cntry_list = df['cntry'].unique()\n",
        "  results = pd.DataFrame()\n",
        "  for x in cntry_list:\n",
        "    pop_1 = df.loc[(df['cntry']==x) & (df['year']==2012),[feature]][feature]\n",
        "    pop_2 = df.loc[(df['cntry']==x) & (df['year']==2014),[feature]][feature]\n",
        "    wilcoxon = stats.wilcoxon(pop_1,pop_2)\n",
        "    print(x,wilcoxon)\n",
        "  #print(results)\n",
        "  "
      ],
      "execution_count": 0,
      "outputs": []
    },
    {
      "cell_type": "code",
      "metadata": {
        "id": "MXG7dDtYm1y1",
        "colab_type": "code",
        "outputId": "3679f0b2-b248-412d-f1be-0ae6ab8ea16c",
        "colab": {
          "base_uri": "https://localhost:8080/",
          "height": 118
        }
      },
      "source": [
        "#make list of countries seperate data from df first by country then slice by year and run t test\n",
        "\n",
        "w_test(df,'ppltrst')\n"
      ],
      "execution_count": 184,
      "outputs": [
        {
          "output_type": "stream",
          "text": [
            "CH WilcoxonResult(statistic=106278.5, pvalue=0.4411286510952477)\n",
            "CZ WilcoxonResult(statistic=84794.0, pvalue=0.5641115093487992)\n",
            "DE WilcoxonResult(statistic=44.0, pvalue=0.9157134600899863)\n",
            "ES WilcoxonResult(statistic=243539.5, pvalue=0.006620811174635592)\n",
            "NO WilcoxonResult(statistic=85778.5, pvalue=0.6813525825832041)\n",
            "SE WilcoxonResult(statistic=131441.5, pvalue=0.038526003902573915)\n"
          ],
          "name": "stdout"
        }
      ]
    },
    {
      "cell_type": "markdown",
      "metadata": {
        "colab_type": "text",
        "id": "0cBqCdijH1XT"
      },
      "source": [
        "## Did people become happier from 2012 to 2014? Compute results for each country in the sample."
      ]
    },
    {
      "cell_type": "code",
      "metadata": {
        "id": "japMC_7v-uOq",
        "colab_type": "code",
        "colab": {
          "base_uri": "https://localhost:8080/",
          "height": 432
        },
        "outputId": "4c64e14e-a84a-44d6-b19d-be1ff62fcce9"
      },
      "source": [
        "# Summary Stats\n",
        "df.groupby(['cntry','year']).describe()['happy']"
      ],
      "execution_count": 188,
      "outputs": [
        {
          "output_type": "execute_result",
          "data": {
            "text/html": [
              "<div>\n",
              "<style scoped>\n",
              "    .dataframe tbody tr th:only-of-type {\n",
              "        vertical-align: middle;\n",
              "    }\n",
              "\n",
              "    .dataframe tbody tr th {\n",
              "        vertical-align: top;\n",
              "    }\n",
              "\n",
              "    .dataframe thead th {\n",
              "        text-align: right;\n",
              "    }\n",
              "</style>\n",
              "<table border=\"1\" class=\"dataframe\">\n",
              "  <thead>\n",
              "    <tr style=\"text-align: right;\">\n",
              "      <th></th>\n",
              "      <th></th>\n",
              "      <th>count</th>\n",
              "      <th>mean</th>\n",
              "      <th>std</th>\n",
              "      <th>min</th>\n",
              "      <th>25%</th>\n",
              "      <th>50%</th>\n",
              "      <th>75%</th>\n",
              "      <th>max</th>\n",
              "    </tr>\n",
              "    <tr>\n",
              "      <th>cntry</th>\n",
              "      <th>year</th>\n",
              "      <th></th>\n",
              "      <th></th>\n",
              "      <th></th>\n",
              "      <th></th>\n",
              "      <th></th>\n",
              "      <th></th>\n",
              "      <th></th>\n",
              "      <th></th>\n",
              "    </tr>\n",
              "  </thead>\n",
              "  <tbody>\n",
              "    <tr>\n",
              "      <th rowspan=\"2\" valign=\"top\">CH</th>\n",
              "      <th>2012</th>\n",
              "      <td>773.0</td>\n",
              "      <td>8.087969</td>\n",
              "      <td>1.436036</td>\n",
              "      <td>0.0</td>\n",
              "      <td>7.00</td>\n",
              "      <td>8.0</td>\n",
              "      <td>9.00</td>\n",
              "      <td>10.0</td>\n",
              "    </tr>\n",
              "    <tr>\n",
              "      <th>2014</th>\n",
              "      <td>773.0</td>\n",
              "      <td>8.116429</td>\n",
              "      <td>1.405725</td>\n",
              "      <td>0.0</td>\n",
              "      <td>7.00</td>\n",
              "      <td>8.0</td>\n",
              "      <td>9.00</td>\n",
              "      <td>10.0</td>\n",
              "    </tr>\n",
              "    <tr>\n",
              "      <th rowspan=\"2\" valign=\"top\">CZ</th>\n",
              "      <th>2012</th>\n",
              "      <td>658.0</td>\n",
              "      <td>6.781155</td>\n",
              "      <td>2.049794</td>\n",
              "      <td>0.0</td>\n",
              "      <td>5.00</td>\n",
              "      <td>7.0</td>\n",
              "      <td>8.00</td>\n",
              "      <td>10.0</td>\n",
              "    </tr>\n",
              "    <tr>\n",
              "      <th>2014</th>\n",
              "      <td>658.0</td>\n",
              "      <td>6.917933</td>\n",
              "      <td>1.899118</td>\n",
              "      <td>0.0</td>\n",
              "      <td>6.00</td>\n",
              "      <td>7.0</td>\n",
              "      <td>8.00</td>\n",
              "      <td>10.0</td>\n",
              "    </tr>\n",
              "    <tr>\n",
              "      <th rowspan=\"2\" valign=\"top\">DE</th>\n",
              "      <th>2012</th>\n",
              "      <td>14.0</td>\n",
              "      <td>7.428571</td>\n",
              "      <td>1.650841</td>\n",
              "      <td>4.0</td>\n",
              "      <td>6.25</td>\n",
              "      <td>8.0</td>\n",
              "      <td>8.00</td>\n",
              "      <td>10.0</td>\n",
              "    </tr>\n",
              "    <tr>\n",
              "      <th>2014</th>\n",
              "      <td>14.0</td>\n",
              "      <td>7.857143</td>\n",
              "      <td>1.292412</td>\n",
              "      <td>5.0</td>\n",
              "      <td>7.25</td>\n",
              "      <td>8.0</td>\n",
              "      <td>8.75</td>\n",
              "      <td>10.0</td>\n",
              "    </tr>\n",
              "    <tr>\n",
              "      <th rowspan=\"2\" valign=\"top\">ES</th>\n",
              "      <th>2012</th>\n",
              "      <td>1213.0</td>\n",
              "      <td>7.549876</td>\n",
              "      <td>1.912749</td>\n",
              "      <td>0.0</td>\n",
              "      <td>7.00</td>\n",
              "      <td>8.0</td>\n",
              "      <td>9.00</td>\n",
              "      <td>10.0</td>\n",
              "    </tr>\n",
              "    <tr>\n",
              "      <th>2014</th>\n",
              "      <td>1213.0</td>\n",
              "      <td>7.419621</td>\n",
              "      <td>1.871581</td>\n",
              "      <td>0.0</td>\n",
              "      <td>7.00</td>\n",
              "      <td>8.0</td>\n",
              "      <td>9.00</td>\n",
              "      <td>10.0</td>\n",
              "    </tr>\n",
              "    <tr>\n",
              "      <th rowspan=\"2\" valign=\"top\">NO</th>\n",
              "      <th>2012</th>\n",
              "      <td>731.0</td>\n",
              "      <td>8.251710</td>\n",
              "      <td>1.424677</td>\n",
              "      <td>0.0</td>\n",
              "      <td>8.00</td>\n",
              "      <td>8.0</td>\n",
              "      <td>9.00</td>\n",
              "      <td>10.0</td>\n",
              "    </tr>\n",
              "    <tr>\n",
              "      <th>2014</th>\n",
              "      <td>731.0</td>\n",
              "      <td>7.915185</td>\n",
              "      <td>1.581027</td>\n",
              "      <td>0.0</td>\n",
              "      <td>7.00</td>\n",
              "      <td>8.0</td>\n",
              "      <td>9.00</td>\n",
              "      <td>10.0</td>\n",
              "    </tr>\n",
              "    <tr>\n",
              "      <th rowspan=\"2\" valign=\"top\">SE</th>\n",
              "      <th>2012</th>\n",
              "      <td>908.0</td>\n",
              "      <td>7.907489</td>\n",
              "      <td>1.520978</td>\n",
              "      <td>1.0</td>\n",
              "      <td>7.00</td>\n",
              "      <td>8.0</td>\n",
              "      <td>9.00</td>\n",
              "      <td>10.0</td>\n",
              "    </tr>\n",
              "    <tr>\n",
              "      <th>2014</th>\n",
              "      <td>908.0</td>\n",
              "      <td>7.946035</td>\n",
              "      <td>1.408885</td>\n",
              "      <td>3.0</td>\n",
              "      <td>7.00</td>\n",
              "      <td>8.0</td>\n",
              "      <td>9.00</td>\n",
              "      <td>10.0</td>\n",
              "    </tr>\n",
              "  </tbody>\n",
              "</table>\n",
              "</div>"
            ],
            "text/plain": [
              "             count      mean       std  min   25%  50%   75%   max\n",
              "cntry year                                                        \n",
              "CH    2012   773.0  8.087969  1.436036  0.0  7.00  8.0  9.00  10.0\n",
              "      2014   773.0  8.116429  1.405725  0.0  7.00  8.0  9.00  10.0\n",
              "CZ    2012   658.0  6.781155  2.049794  0.0  5.00  7.0  8.00  10.0\n",
              "      2014   658.0  6.917933  1.899118  0.0  6.00  7.0  8.00  10.0\n",
              "DE    2012    14.0  7.428571  1.650841  4.0  6.25  8.0  8.00  10.0\n",
              "      2014    14.0  7.857143  1.292412  5.0  7.25  8.0  8.75  10.0\n",
              "ES    2012  1213.0  7.549876  1.912749  0.0  7.00  8.0  9.00  10.0\n",
              "      2014  1213.0  7.419621  1.871581  0.0  7.00  8.0  9.00  10.0\n",
              "NO    2012   731.0  8.251710  1.424677  0.0  8.00  8.0  9.00  10.0\n",
              "      2014   731.0  7.915185  1.581027  0.0  7.00  8.0  9.00  10.0\n",
              "SE    2012   908.0  7.907489  1.520978  1.0  7.00  8.0  9.00  10.0\n",
              "      2014   908.0  7.946035  1.408885  3.0  7.00  8.0  9.00  10.0"
            ]
          },
          "metadata": {
            "tags": []
          },
          "execution_count": 188
        }
      ]
    },
    {
      "cell_type": "code",
      "metadata": {
        "colab_type": "code",
        "id": "FjwCmQvzH18D",
        "colab": {}
      },
      "source": [
        "\n",
        "dd_happy = pd.melt(df,id_vars=['cntry','year'],value_vars=['happy'],value_name='happy')"
      ],
      "execution_count": 0,
      "outputs": []
    },
    {
      "cell_type": "code",
      "metadata": {
        "id": "8FU8dCBgg86y",
        "colab_type": "code",
        "colab": {
          "base_uri": "https://localhost:8080/",
          "height": 308
        },
        "outputId": "18f2550c-5c59-402a-b2fd-5751614625df"
      },
      "source": [
        "sns.set()\n",
        "g = sns.boxplot(y='cntry',x='happy',data=dd_happy,orient ='h',hue='year')\n",
        "\n",
        "g.legend(loc='center right', bbox_to_anchor=(1.25, 0.5), ncol=1)\n"
      ],
      "execution_count": 186,
      "outputs": [
        {
          "output_type": "execute_result",
          "data": {
            "text/plain": [
              "<matplotlib.legend.Legend at 0x7fb3d37a9198>"
            ]
          },
          "metadata": {
            "tags": []
          },
          "execution_count": 186
        },
        {
          "output_type": "display_data",
          "data": {
            "image/png": "[encoded data removed]",
            "text/plain": [
              "<Figure size 432x288 with 1 Axes>"
            ]
          },
          "metadata": {
            "tags": []
          }
        }
      ]
    },
    {
      "cell_type": "code",
      "metadata": {
        "id": "Bq5AbIHO-bKZ",
        "colab_type": "code",
        "colab": {
          "base_uri": "https://localhost:8080/",
          "height": 118
        },
        "outputId": "05aa64ce-338b-4d10-ab8e-27e3623a862d"
      },
      "source": [
        "w_test(df,'happy')"
      ],
      "execution_count": 187,
      "outputs": [
        {
          "output_type": "stream",
          "text": [
            "CH WilcoxonResult(statistic=93043.5, pvalue=0.9182815996614322)\n",
            "CZ WilcoxonResult(statistic=78569.0, pvalue=0.2545298863954758)\n",
            "DE WilcoxonResult(statistic=23.5, pvalue=0.393351316918508)\n",
            "ES WilcoxonResult(statistic=232447.5, pvalue=0.055803287639812287)\n",
            "NO WilcoxonResult(statistic=68447.5, pvalue=1.0142278074830803e-05)\n",
            "SE WilcoxonResult(statistic=126903.5, pvalue=0.6938040837018453)\n"
          ],
          "name": "stdout"
        }
      ]
    },
    {
      "cell_type": "markdown",
      "metadata": {
        "colab_type": "text",
        "id": "tRBJy9tmH18D"
      },
      "source": [
        "## Who reported watching more TV in 2012, men or women?\n",
        "\n",
        "\n"
      ]
    },
    {
      "cell_type": "code",
      "metadata": {
        "colab_type": "code",
        "id": "53NdzlVOH1XT",
        "outputId": "5a1a0c89-2bed-4332-fac8-50f9a2434faa",
        "colab": {
          "base_uri": "https://localhost:8080/",
          "height": 300
        }
      },
      "source": [
        "dd_tv = pd.melt(df,id_vars=['gndr'],value_vars=['tvtot'],value_name='Hours of TV')\n",
        "\n",
        "sns.boxplot(y='gndr',x='Hours of TV',data=dd_tv,orient ='h')\n"
      ],
      "execution_count": 0,
      "outputs": [
        {
          "output_type": "execute_result",
          "data": {
            "text/plain": [
              "<matplotlib.axes._subplots.AxesSubplot at 0x7ff078bd9630>"
            ]
          },
          "metadata": {
            "tags": []
          },
          "execution_count": 2
        },
        {
          "output_type": "display_data",
          "data": {
            "image/png": "[encoded data removed]",
            "text/plain": [
              "<Figure size 432x288 with 1 Axes>"
            ]
          },
          "metadata": {
            "tags": []
          }
        }
      ]
    },
    {
      "cell_type": "code",
      "metadata": {
        "id": "SeEBU8yfk0Xr",
        "colab_type": "code",
        "outputId": "e72a4905-b5a7-44e3-8662-8e82ab4bd33f",
        "colab": {
          "base_uri": "https://localhost:8080/",
          "height": 301
        }
      },
      "source": [
        "pd.DataFrame(dd_tv[dd_tv['gndr']=='Female']['Hours of TV']).describe(),pd.DataFrame(dd_tv[dd_tv['gndr']=='Male']['Hours of TV']).describe()"
      ],
      "execution_count": 0,
      "outputs": [
        {
          "output_type": "execute_result",
          "data": {
            "text/plain": [
              "(       Hours of TV\n",
              " count  4064.000000\n",
              " mean      3.863435\n",
              " std       2.026116\n",
              " min       0.000000\n",
              " 25%       2.000000\n",
              " 50%       4.000000\n",
              " 75%       5.000000\n",
              " max       7.000000,        Hours of TV\n",
              " count  4109.000000\n",
              " mean      3.781455\n",
              " std       1.996208\n",
              " min       0.000000\n",
              " 25%       2.000000\n",
              " 50%       4.000000\n",
              " 75%       5.000000\n",
              " max       7.000000)"
            ]
          },
          "metadata": {
            "tags": []
          },
          "execution_count": 9
        }
      ]
    },
    {
      "cell_type": "markdown",
      "metadata": {
        "colab_type": "text",
        "id": "gO460vJnH3-g"
      },
      "source": [
        "\n",
        "\n",
        "\n",
        "\n",
        "\n",
        "## Who was more likely to believe people were fair in 2012, people living with a partner or people living alone?\n",
        "\n"
      ]
    },
    {
      "cell_type": "code",
      "metadata": {
        "colab_type": "code",
        "id": "JaWEMCojH3-h",
        "outputId": "7fc23666-5ac0-463f-d5a8-12665c4b30cc",
        "colab": {
          "base_uri": "https://localhost:8080/",
          "height": 308
        }
      },
      "source": [
        "dd_partner_fair = pd.melt(df[df['year']==2012],id_vars=['partner'],value_vars=['pplfair'],value_name='Fair Index')\n",
        "\n",
        "sns.boxplot(y='partner',x='Fair Index',data=dd_partner_fair,orient ='h')"
      ],
      "execution_count": 0,
      "outputs": [
        {
          "output_type": "execute_result",
          "data": {
            "text/plain": [
              "<matplotlib.axes._subplots.AxesSubplot at 0x7fa5383f8e80>"
            ]
          },
          "metadata": {
            "tags": []
          },
          "execution_count": 131
        },
        {
          "output_type": "display_data",
          "data": {
            "image/png": "[encoded data removed]",
            "text/plain": [
              "<Figure size 432x288 with 1 Axes>"
            ]
          },
          "metadata": {
            "tags": []
          }
        }
      ]
    },
    {
      "cell_type": "markdown",
      "metadata": {
        "colab_type": "text",
        "id": "yXfHTNjSIADA"
      },
      "source": [
        "\n",
        "\n",
        "\n",
        "\n",
        "\n",
        "## Pick three or four of the countries in the sample and compare how often people met socially in 2014. Are there differences, and if so, which countries stand out?\n"
      ]
    },
    {
      "cell_type": "code",
      "metadata": {
        "colab_type": "code",
        "id": "5YB3hETKIADB",
        "outputId": "b28b786b-8cc1-481f-9c00-5797c4ce5975",
        "colab": {
          "base_uri": "https://localhost:8080/",
          "height": 308
        }
      },
      "source": [
        "dd_sclmeet =  pd.melt(df[df['year']==2014],id_vars=['cntry'],value_vars=['sclmeet'],value_name='How often do you Socialize')\n",
        "\n",
        "sns.boxplot(y='cntry',x='How often do you Socialize',data=dd_sclmeet,orient ='h')"
      ],
      "execution_count": 0,
      "outputs": [
        {
          "output_type": "execute_result",
          "data": {
            "text/plain": [
              "<matplotlib.axes._subplots.AxesSubplot at 0x7fa5383e3b70>"
            ]
          },
          "metadata": {
            "tags": []
          },
          "execution_count": 132
        },
        {
          "output_type": "display_data",
          "data": {
            "image/png": "[encoded data removed]",
            "text/plain": [
              "<Figure size 432x288 with 1 Axes>"
            ]
          },
          "metadata": {
            "tags": []
          }
        }
      ]
    },
    {
      "cell_type": "markdown",
      "metadata": {
        "colab_type": "text",
        "id": "MZzdXAA9IErk"
      },
      "source": [
        "## Pick three or four of the countries in the sample and compare how often people took part in social activities, relative to others their age, in 2014. Are there differences, and if so, which countries stand out?\n"
      ]
    },
    {
      "cell_type": "code",
      "metadata": {
        "colab_type": "code",
        "id": "rfZxTEzAIErl",
        "outputId": "437d998c-eabf-4730-8b71-ab6371815bef",
        "colab": {
          "base_uri": "https://localhost:8080/",
          "height": 308
        }
      },
      "source": [
        "dd_sclact = pd.melt(df[df['year']==2014],id_vars=['cntry'],value_vars=['sclact'],value_name='Age Relative Social Activity')\n",
        "\n",
        "sns.boxplot(y='cntry',x='Age Relative Social Activity',data=dd_sclact,orient ='h')"
      ],
      "execution_count": 0,
      "outputs": [
        {
          "output_type": "execute_result",
          "data": {
            "text/plain": [
              "<matplotlib.axes._subplots.AxesSubplot at 0x7fa538333160>"
            ]
          },
          "metadata": {
            "tags": []
          },
          "execution_count": 137
        },
        {
          "output_type": "display_data",
          "data": {
            "image/png": "[encoded data removed]",
            "text/plain": [
              "<Figure size 432x288 with 1 Axes>"
            ]
          },
          "metadata": {
            "tags": []
          }
        }
      ]
    },
    {
      "cell_type": "code",
      "metadata": {
        "id": "tLh29hCbxZCR",
        "colab_type": "code",
        "outputId": "f11a93ef-e624-44c4-95df-c7a7f658d6b9",
        "colab": {
          "base_uri": "https://localhost:8080/",
          "height": 254
        }
      },
      "source": [
        "df[df['year']==2014].groupby(['year','cntry'])['sclact'].describe()"
      ],
      "execution_count": 0,
      "outputs": [
        {
          "output_type": "execute_result",
          "data": {
            "text/html": [
              "<div>\n",
              "<style scoped>\n",
              "    .dataframe tbody tr th:only-of-type {\n",
              "        vertical-align: middle;\n",
              "    }\n",
              "\n",
              "    .dataframe tbody tr th {\n",
              "        vertical-align: top;\n",
              "    }\n",
              "\n",
              "    .dataframe thead th {\n",
              "        text-align: right;\n",
              "    }\n",
              "</style>\n",
              "<table border=\"1\" class=\"dataframe\">\n",
              "  <thead>\n",
              "    <tr style=\"text-align: right;\">\n",
              "      <th></th>\n",
              "      <th></th>\n",
              "      <th>count</th>\n",
              "      <th>mean</th>\n",
              "      <th>std</th>\n",
              "      <th>min</th>\n",
              "      <th>25%</th>\n",
              "      <th>50%</th>\n",
              "      <th>75%</th>\n",
              "      <th>max</th>\n",
              "    </tr>\n",
              "    <tr>\n",
              "      <th>year</th>\n",
              "      <th>cntry</th>\n",
              "      <th></th>\n",
              "      <th></th>\n",
              "      <th></th>\n",
              "      <th></th>\n",
              "      <th></th>\n",
              "      <th></th>\n",
              "      <th></th>\n",
              "      <th></th>\n",
              "    </tr>\n",
              "  </thead>\n",
              "  <tbody>\n",
              "    <tr>\n",
              "      <th rowspan=\"6\" valign=\"top\">2014</th>\n",
              "      <th>CH</th>\n",
              "      <td>743.0</td>\n",
              "      <td>2.784657</td>\n",
              "      <td>0.906360</td>\n",
              "      <td>1.0</td>\n",
              "      <td>2.00</td>\n",
              "      <td>3.0</td>\n",
              "      <td>3.0</td>\n",
              "      <td>5.0</td>\n",
              "    </tr>\n",
              "    <tr>\n",
              "      <th>CZ</th>\n",
              "      <td>622.0</td>\n",
              "      <td>2.729904</td>\n",
              "      <td>0.838509</td>\n",
              "      <td>1.0</td>\n",
              "      <td>2.00</td>\n",
              "      <td>3.0</td>\n",
              "      <td>3.0</td>\n",
              "      <td>5.0</td>\n",
              "    </tr>\n",
              "    <tr>\n",
              "      <th>DE</th>\n",
              "      <td>14.0</td>\n",
              "      <td>2.714286</td>\n",
              "      <td>0.726273</td>\n",
              "      <td>1.0</td>\n",
              "      <td>2.25</td>\n",
              "      <td>3.0</td>\n",
              "      <td>3.0</td>\n",
              "      <td>4.0</td>\n",
              "    </tr>\n",
              "    <tr>\n",
              "      <th>ES</th>\n",
              "      <td>1137.0</td>\n",
              "      <td>2.631486</td>\n",
              "      <td>0.949700</td>\n",
              "      <td>1.0</td>\n",
              "      <td>2.00</td>\n",
              "      <td>3.0</td>\n",
              "      <td>3.0</td>\n",
              "      <td>5.0</td>\n",
              "    </tr>\n",
              "    <tr>\n",
              "      <th>NO</th>\n",
              "      <td>713.0</td>\n",
              "      <td>2.858345</td>\n",
              "      <td>0.823371</td>\n",
              "      <td>1.0</td>\n",
              "      <td>2.00</td>\n",
              "      <td>3.0</td>\n",
              "      <td>3.0</td>\n",
              "      <td>5.0</td>\n",
              "    </tr>\n",
              "    <tr>\n",
              "      <th>SE</th>\n",
              "      <td>867.0</td>\n",
              "      <td>2.878893</td>\n",
              "      <td>0.859859</td>\n",
              "      <td>1.0</td>\n",
              "      <td>2.00</td>\n",
              "      <td>3.0</td>\n",
              "      <td>3.0</td>\n",
              "      <td>5.0</td>\n",
              "    </tr>\n",
              "  </tbody>\n",
              "</table>\n",
              "</div>"
            ],
            "text/plain": [
              "             count      mean       std  min   25%  50%  75%  max\n",
              "year cntry                                                      \n",
              "2014 CH      743.0  2.784657  0.906360  1.0  2.00  3.0  3.0  5.0\n",
              "     CZ      622.0  2.729904  0.838509  1.0  2.00  3.0  3.0  5.0\n",
              "     DE       14.0  2.714286  0.726273  1.0  2.25  3.0  3.0  4.0\n",
              "     ES     1137.0  2.631486  0.949700  1.0  2.00  3.0  3.0  5.0\n",
              "     NO      713.0  2.858345  0.823371  1.0  2.00  3.0  3.0  5.0\n",
              "     SE      867.0  2.878893  0.859859  1.0  2.00  3.0  3.0  5.0"
            ]
          },
          "metadata": {
            "tags": []
          },
          "execution_count": 140
        }
      ]
    },
    {
      "cell_type": "code",
      "metadata": {
        "id": "g_j3xbJ4y3iT",
        "colab_type": "code",
        "colab": {}
      },
      "source": [
        ""
      ],
      "execution_count": 0,
      "outputs": []
    }
  ]
}