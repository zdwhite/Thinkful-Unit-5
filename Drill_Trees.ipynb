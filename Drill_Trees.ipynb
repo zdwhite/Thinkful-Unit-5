{
  "nbformat": 4,
  "nbformat_minor": 0,
  "metadata": {
    "colab": {
      "name": "Drill : Trees",
      "version": "0.3.2",
      "provenance": [],
      "include_colab_link": true
    },
    "kernelspec": {
      "name": "python3",
      "display_name": "Python 3"
    }
  },
  "cells": [
    {
      "cell_type": "markdown",
      "metadata": {
        "id": "view-in-github",
        "colab_type": "text"
      },
      "source": [
        "<a href=\"https://colab.research.google.com/github/zdwhite/Thinkful-Unit-5/blob/master/Drill_Trees.ipynb\" target=\"_parent\"><img src=\"https://colab.research.google.com/assets/colab-badge.svg\" alt=\"Open In Colab\"/></a>"
      ]
    },
    {
      "metadata": {
        "id": "bSvKhL9NxcDg",
        "colab_type": "text"
      },
      "cell_type": "markdown",
      "source": [
        "![](https://tf-curricula-prod.s3.amazonaws.com/curricula/c3a4efdddb2b3127d6f003a66bbf8c24/DATA-201/v1/assets2/resources/binary_tree_basic.jpeg)"
      ]
    },
    {
      "metadata": {
        "id": "ZNKvfjTAxNOT",
        "colab_type": "code",
        "colab": {}
      },
      "cell_type": "code",
      "source": [
        "## Root\n",
        "root = Node('A')\n",
        "\n",
        "#First Branch\n",
        "root.left = Node('B')\n",
        "root.right = Node('C')\n",
        "\n",
        "#Children of B\n",
        "root.left.left = Node('D')\n",
        "root.left.right = Node('E')\n",
        "\n",
        "#Children of C\n",
        "root.right.left = Node('F')\n",
        "root.right.right = Node('G')"
      ],
      "execution_count": 0,
      "outputs": []
    },
    {
      "metadata": {
        "id": "Xc1Hza2x0qX8",
        "colab_type": "text"
      },
      "cell_type": "markdown",
      "source": [
        "# DRILL\n",
        "\n",
        "Implement a binary tree, which is filled with **15 pieces of random data**. \n",
        "\n",
        "Your job is to then write a program to :\n",
        " \n",
        "  * traverse the tree using a breadth first traversal.\n",
        "  \n",
        "  \n",
        "  [Reference](https://medium.com/@siddharthgupta555t/finally-understanding-recursion-and-binary-search-trees-857c85e72978)\n",
        "  "
      ]
    },
    {
      "metadata": {
        "id": "uAr3AVUjyJRu",
        "colab_type": "code",
        "colab": {}
      },
      "cell_type": "code",
      "source": [
        "from random import randint\n",
        "from numpy import random\n",
        "\n",
        "\n",
        "\n",
        "###############CLASS NODE######################\n",
        "class Node:\n",
        "\n",
        "  def __init__(self, data):\n",
        "\n",
        "      self.left = None\n",
        "      self.right = None\n",
        "      self.data = data\n",
        "      self.children = []\n",
        "  \n",
        "  #Insert data\n",
        "  def insert(self, data,rnd=False):\n",
        "    if rnd==True:\n",
        "      data = random.randint(1,data)\n",
        "      self.children.append(data)\n",
        "      #print(data)\n",
        "    # Compare the new value with the parent node\n",
        "    if self.data:\n",
        "        if data < self.data:\n",
        "            if self.left is None:\n",
        "                self.left = Node(data)\n",
        "                self.left.children.append(data)\n",
        "            else:\n",
        "                self.left.insert(data)\n",
        "        elif data > self.data:\n",
        "            if self.right is None:\n",
        "                self.right = Node(data)\n",
        "                self.right.children.append(data)\n",
        "            else:\n",
        "                self.right.insert(data)\n",
        "    else:\n",
        "        self.data = data\n",
        "        self.children.append(self.data)\n",
        "    print_tree_indented(self)\n",
        "    print('\\n\\n')\n",
        "# Print the tree\n",
        "  def print_tree(self):\n",
        "      if self.left:\n",
        "          self.left.print_tree()\n",
        "      print(self.data)\n",
        "      if self.right:\n",
        "          self.right.print_tree()\n",
        "      #print(self.data)    \n",
        "\n",
        "  #Try a new printing function\n",
        "  def print_tree_indented2(self, level=0):\n",
        "    if self == None:\n",
        "      return\n",
        "    if self.left:\n",
        "      self.left.print_tree_indented2(level+1)\n",
        "    print('  ' * level + str(self.data))\n",
        "    if self.right:\n",
        "      self.right.print_tree_indented2(level+1)\n",
        "      \n",
        "######################################################################\n",
        "\n",
        "######################################################################\n",
        "def traverse(rootnode):\n",
        "  thislevel = [rootnode]\n",
        "  while thislevel:\n",
        "    nextlevel = list()\n",
        "    for n in thislevel:\n",
        "      print(n.data),\n",
        "      if n.left: ##alternatively if n.left != None\n",
        "        nextlevel.append(n.left)\n",
        "      if n.right: \n",
        "        nextlevel.append(n.right)\n",
        "    #print(list(thislevel))\n",
        "    thislevel = nextlevel\n",
        "\n",
        "    \n",
        "def print_tree_indented(node, level=0):\n",
        "  if node == None:\n",
        "    return\n",
        "  print_tree_indented(node.right, level+1)\n",
        "  print('  ' * level + str(node.data))\n",
        "  print_tree_indented(node.left, level+1)  \n",
        "  \n",
        "  \n",
        "  \n"
      ],
      "execution_count": 0,
      "outputs": []
    },
    {
      "metadata": {
        "id": "nDBTQexCuRL-",
        "colab_type": "code",
        "colab": {
          "base_uri": "https://localhost:8080/",
          "height": 2990
        },
        "outputId": "f07970ef-5a2d-412d-b85e-e8aa1c86a51b"
      },
      "cell_type": "code",
      "source": [
        "\n",
        "\n",
        "root = Node(50)\n",
        "print('randomly generated data')\n",
        "for i in range(10):\n",
        "  root.insert(100,rnd=True)\n",
        "\n",
        "#print('\\n\\nPrint Tree')  \n",
        "#root.print_tree()\n",
        "#print('\\n\\nPrint tree_indented')\n",
        "#print_tree_indented(root)"
      ],
      "execution_count": 63,
      "outputs": [
        {
          "output_type": "stream",
          "text": [
            "randomly generated data\n",
            "50\n",
            "  16\n",
            "\n",
            "\n",
            "\n",
            "  36\n",
            "16\n",
            "\n",
            "\n",
            "\n",
            "50\n",
            "    36\n",
            "  16\n",
            "\n",
            "\n",
            "\n",
            "  71\n",
            "50\n",
            "    36\n",
            "  16\n",
            "\n",
            "\n",
            "\n",
            "  42\n",
            "36\n",
            "\n",
            "\n",
            "\n",
            "    42\n",
            "  36\n",
            "16\n",
            "\n",
            "\n",
            "\n",
            "  71\n",
            "50\n",
            "      42\n",
            "    36\n",
            "  16\n",
            "\n",
            "\n",
            "\n",
            "71\n",
            "  51\n",
            "\n",
            "\n",
            "\n",
            "  71\n",
            "    51\n",
            "50\n",
            "      42\n",
            "    36\n",
            "  16\n",
            "\n",
            "\n",
            "\n",
            "  42\n",
            "36\n",
            "  24\n",
            "\n",
            "\n",
            "\n",
            "    42\n",
            "  36\n",
            "    24\n",
            "16\n",
            "\n",
            "\n",
            "\n",
            "  71\n",
            "    51\n",
            "50\n",
            "      42\n",
            "    36\n",
            "      24\n",
            "  16\n",
            "\n",
            "\n",
            "\n",
            "  42\n",
            "36\n",
            "  24\n",
            "\n",
            "\n",
            "\n",
            "    42\n",
            "  36\n",
            "    24\n",
            "16\n",
            "\n",
            "\n",
            "\n",
            "  71\n",
            "    51\n",
            "50\n",
            "      42\n",
            "    36\n",
            "      24\n",
            "  16\n",
            "\n",
            "\n",
            "\n",
            "  85\n",
            "71\n",
            "  51\n",
            "\n",
            "\n",
            "\n",
            "    85\n",
            "  71\n",
            "    51\n",
            "50\n",
            "      42\n",
            "    36\n",
            "      24\n",
            "  16\n",
            "\n",
            "\n",
            "\n",
            "42\n",
            "  40\n",
            "\n",
            "\n",
            "\n",
            "  42\n",
            "    40\n",
            "36\n",
            "  24\n",
            "\n",
            "\n",
            "\n",
            "    42\n",
            "      40\n",
            "  36\n",
            "    24\n",
            "16\n",
            "\n",
            "\n",
            "\n",
            "    85\n",
            "  71\n",
            "    51\n",
            "50\n",
            "      42\n",
            "        40\n",
            "    36\n",
            "      24\n",
            "  16\n",
            "\n",
            "\n",
            "\n",
            "  64\n",
            "51\n",
            "\n",
            "\n",
            "\n",
            "  85\n",
            "71\n",
            "    64\n",
            "  51\n",
            "\n",
            "\n",
            "\n",
            "    85\n",
            "  71\n",
            "      64\n",
            "    51\n",
            "50\n",
            "      42\n",
            "        40\n",
            "    36\n",
            "      24\n",
            "  16\n",
            "\n",
            "\n",
            "\n"
          ],
          "name": "stdout"
        }
      ]
    },
    {
      "metadata": {
        "id": "qzqHxzbSG18b",
        "colab_type": "code",
        "colab": {
          "base_uri": "https://localhost:8080/",
          "height": 185
        },
        "outputId": "db38be62-df11-4369-d361-f2916f50a5bb"
      },
      "cell_type": "code",
      "source": [
        "traverse(root)"
      ],
      "execution_count": 64,
      "outputs": [
        {
          "output_type": "stream",
          "text": [
            "50\n",
            "16\n",
            "71\n",
            "36\n",
            "51\n",
            "85\n",
            "24\n",
            "42\n",
            "64\n",
            "40\n"
          ],
          "name": "stdout"
        }
      ]
    },
    {
      "metadata": {
        "id": "ijuXq5Q_kkNI",
        "colab_type": "code",
        "colab": {
          "base_uri": "https://localhost:8080/",
          "height": 185
        },
        "outputId": "218f07f8-926a-4beb-b2fd-de4e06f1e78b"
      },
      "cell_type": "code",
      "source": [
        "root.print_tree_indented2()"
      ],
      "execution_count": 65,
      "outputs": [
        {
          "output_type": "stream",
          "text": [
            "  16\n",
            "      24\n",
            "    36\n",
            "        40\n",
            "      42\n",
            "50\n",
            "    51\n",
            "      64\n",
            "  71\n",
            "    85\n"
          ],
          "name": "stdout"
        }
      ]
    },
    {
      "metadata": {
        "id": "REYKKaBCGATD",
        "colab_type": "code",
        "colab": {
          "base_uri": "https://localhost:8080/",
          "height": 185
        },
        "outputId": "c4020154-fa58-45d1-f87c-c99e89423edf"
      },
      "cell_type": "code",
      "source": [
        "print_tree_indented(root)"
      ],
      "execution_count": 66,
      "outputs": [
        {
          "output_type": "stream",
          "text": [
            "    85\n",
            "  71\n",
            "      64\n",
            "    51\n",
            "50\n",
            "      42\n",
            "        40\n",
            "    36\n",
            "      24\n",
            "  16\n"
          ],
          "name": "stdout"
        }
      ]
    },
    {
      "metadata": {
        "id": "YNUBGdxoGfHh",
        "colab_type": "code",
        "colab": {}
      },
      "cell_type": "code",
      "source": [
        ""
      ],
      "execution_count": 0,
      "outputs": []
    }
  ]
}