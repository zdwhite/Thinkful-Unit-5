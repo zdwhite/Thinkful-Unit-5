{
  "nbformat": 4,
  "nbformat_minor": 0,
  "metadata": {
    "colab": {
      "name": "Merge Sort and Quick sort Recursively",
      "version": "0.3.2",
      "provenance": [],
      "include_colab_link": true
    },
    "kernelspec": {
      "name": "python3",
      "display_name": "Python 3"
    }
  },
  "cells": [
    {
      "cell_type": "markdown",
      "metadata": {
        "id": "view-in-github",
        "colab_type": "text"
      },
      "source": [
        "<a href=\"https://colab.research.google.com/github/zdwhite/Thinkful-Unit-5/blob/master/Merge_Sort_and_Quick_sort_Recursively.ipynb\" target=\"_parent\"><img src=\"https://colab.research.google.com/assets/colab-badge.svg\" alt=\"Open In Colab\"/></a>"
      ]
    },
    {
      "metadata": {
        "id": "-Tzdh8jnhcqV",
        "colab_type": "code",
        "colab": {}
      },
      "cell_type": "code",
      "source": [
        "### Merge Sort with recursion\n",
        "\n",
        "def merge_sort(array):\n",
        "  \n",
        "  if len(array) <= 1:\n",
        "    return array\n",
        "  \n",
        "  midpoint = int(len(array) / 2)\n",
        "  \n",
        "  left, right = merge_sort(array[:midpoint]), merge_sort(array[midpoint:])\n",
        "  return merge(left, right)\n",
        "\n",
        "\n",
        "def merge(left, right):\n",
        "  \n",
        "  result = []\n",
        "  left_pointer = right_pointer = 0\n",
        "  \n",
        "  while left_pointer < len(left) and right_pointer < len(right):\n",
        "    \n",
        "    if left[left_pointer] < right[right_pointer]:\n",
        "      \n",
        "      result.append(left[left_pointer])\n",
        "      left_pointer += 1\n",
        "      \n",
        "    else:\n",
        "        \n",
        "        result.append(right[right_pointer])\n",
        "        right_pointer+= 1\n",
        "  \n",
        "  result.extend(left[left_pointer:])\n",
        "  result.extend(right[right_pointer:])\n",
        "  \n",
        "  return result"
      ],
      "execution_count": 0,
      "outputs": []
    },
    {
      "metadata": {
        "id": "XC6jJyT7j1dk",
        "colab_type": "code",
        "colab": {}
      },
      "cell_type": "code",
      "source": [
        "array = [9, 8 , 7 , 6, 5 , 4 , 3 ,2 ,1]"
      ],
      "execution_count": 0,
      "outputs": []
    },
    {
      "metadata": {
        "id": "FN5bgieQj8kE",
        "colab_type": "code",
        "colab": {
          "base_uri": "https://localhost:8080/",
          "height": 168
        },
        "outputId": "eecd5c21-0926-4cf2-a19e-a1a12dfba03e"
      },
      "cell_type": "code",
      "source": [
        "merge_sort(array)"
      ],
      "execution_count": 44,
      "outputs": [
        {
          "output_type": "stream",
          "text": [
            "[9] [8]\n",
            "[7] [6]\n",
            "[8, 9] [6, 7]\n",
            "[5] [4]\n",
            "[2] [1]\n",
            "[3] [1, 2]\n",
            "[4, 5] [1, 2, 3]\n",
            "[6, 7, 8, 9] [1, 2, 3, 4, 5]\n"
          ],
          "name": "stdout"
        },
        {
          "output_type": "execute_result",
          "data": {
            "text/plain": [
              "[1, 2, 3, 4, 5, 6, 7, 8, 9]"
            ]
          },
          "metadata": {
            "tags": []
          },
          "execution_count": 44
        }
      ]
    },
    {
      "metadata": {
        "id": "oq2b3z9rkXpN",
        "colab_type": "code",
        "colab": {}
      },
      "cell_type": "code",
      "source": [
        "import time\n",
        "import random\n",
        "\n",
        "\n",
        "short_list = list(random.sample(range(1000000), 10))\n",
        "long_list = list(random.sample(range(1000000), 10000))"
      ],
      "execution_count": 0,
      "outputs": []
    },
    {
      "metadata": {
        "id": "UGSo-lkJkY1q",
        "colab_type": "code",
        "colab": {
          "base_uri": "https://localhost:8080/",
          "height": 50
        },
        "outputId": "f4f02888-e9dd-4815-f507-10cce4d5cee5"
      },
      "cell_type": "code",
      "source": [
        "# Start the timer.\n",
        "start_time = time.time()\n",
        "\n",
        "# Run our insertion sort.\n",
        "merge_sort(short_list)\n",
        "\n",
        "# Print time to show runtime.\n",
        "print(\"--- %s seconds ---\" % (time.time() - start_time))\n",
        "print(merge_sort(short_list))"
      ],
      "execution_count": 50,
      "outputs": [
        {
          "output_type": "stream",
          "text": [
            "--- 8.296966552734375e-05 seconds ---\n",
            "[20838, 79421, 227177, 242823, 292171, 380151, 579782, 658043, 698255, 942709]\n"
          ],
          "name": "stdout"
        }
      ]
    },
    {
      "metadata": {
        "id": "oyueabVApQ3D",
        "colab_type": "code",
        "colab": {
          "base_uri": "https://localhost:8080/",
          "height": 34
        },
        "outputId": "42cb31dd-f793-401e-a1d4-ce047c71d67d"
      },
      "cell_type": "code",
      "source": [
        "# Test on the long list.\n",
        "start_time = time.time()\n",
        "\n",
        "merge_sort(long_list)\n",
        "\n",
        "print(\"--- %s seconds ---\" % (time.time() - start_time))"
      ],
      "execution_count": 51,
      "outputs": [
        {
          "output_type": "stream",
          "text": [
            "--- 0.0792226791381836 seconds ---\n"
          ],
          "name": "stdout"
        }
      ]
    },
    {
      "metadata": {
        "id": "HEtf_KX5pagx",
        "colab_type": "code",
        "colab": {}
      },
      "cell_type": "code",
      "source": [
        "# Recursive quick sort\n",
        "# Define a pivot value\n",
        "# Rearrange all elements smaller than the pivot to the left and all values larger to the right\n",
        "\n",
        "# This is similar in a way to merge sort as we are making smaller and smaller arrays\n",
        "\n",
        "def quick_sort(array):\n",
        "  \n",
        "  if len(array) <=1:\n",
        "    return array\n",
        "  \n",
        "  smaller, equal, larger = [] , [], []\n",
        "  \n",
        "  #define pivot to be a random value with in each array and avoid choosing\n",
        "  pivot = array[random.randint(0, len(array)-1)]\n",
        "  \n",
        "  for x in array:\n",
        "    if x < pivot:\n",
        "      smaller.append(x)\n",
        "    elif x == pivot:\n",
        "      equal.append(x)\n",
        "    else:\n",
        "      larger.append(x)\n",
        "  \n",
        "  # concat the arrays and resort\n",
        "  return quick_sort(smaller) + equal + quick_sort(larger)\n",
        "  \n",
        "  "
      ],
      "execution_count": 0,
      "outputs": []
    },
    {
      "metadata": {
        "id": "YuOhyRpMuu3B",
        "colab_type": "code",
        "colab": {
          "base_uri": "https://localhost:8080/",
          "height": 50
        },
        "outputId": "45f130e5-8ef1-46ae-de05-6df910c0c9cd"
      },
      "cell_type": "code",
      "source": [
        "# Start the timer.\n",
        "start_time = time.time()\n",
        "\n",
        "# Run our insertion sort.\n",
        "quick_sort(short_list)\n",
        "\n",
        "# Print time to show runtime.\n",
        "print(\"--- %s seconds ---\" % (time.time() - start_time))\n",
        "print(quick_sort(short_list))"
      ],
      "execution_count": 57,
      "outputs": [
        {
          "output_type": "stream",
          "text": [
            "--- 8.535385131835938e-05 seconds ---\n",
            "[20838, 79421, 227177, 242823, 292171, 380151, 579782, 658043, 698255, 942709]\n"
          ],
          "name": "stdout"
        }
      ]
    },
    {
      "metadata": {
        "id": "sYrLceDBuzPV",
        "colab_type": "code",
        "colab": {
          "base_uri": "https://localhost:8080/",
          "height": 34
        },
        "outputId": "b38a5dde-de15-4673-beb7-38f3aeda52d1"
      },
      "cell_type": "code",
      "source": [
        "# Start the timer.\n",
        "start_time = time.time()\n",
        "\n",
        "# Run our insertion sort.\n",
        "quick_sort(long_list)\n",
        "\n",
        "# Print time to show runtime.\n",
        "print(\"--- %s seconds ---\" % (time.time() - start_time))\n"
      ],
      "execution_count": 58,
      "outputs": [
        {
          "output_type": "stream",
          "text": [
            "--- 0.05205082893371582 seconds ---\n"
          ],
          "name": "stdout"
        }
      ]
    },
    {
      "metadata": {
        "id": "ZPq8UzWSvE-_",
        "colab_type": "code",
        "colab": {}
      },
      "cell_type": "code",
      "source": [
        ""
      ],
      "execution_count": 0,
      "outputs": []
    }
  ]
}