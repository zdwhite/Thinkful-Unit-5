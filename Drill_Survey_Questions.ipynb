{
  "nbformat": 4,
  "nbformat_minor": 0,
  "metadata": {
    "colab": {
      "name": "Drill Survey Questions",
      "version": "0.3.2",
      "provenance": [],
      "include_colab_link": true
    },
    "kernelspec": {
      "name": "python3",
      "display_name": "Python 3"
    }
  },
  "cells": [
    {
      "cell_type": "markdown",
      "metadata": {
        "id": "view-in-github",
        "colab_type": "text"
      },
      "source": [
        "<a href=\"https://colab.research.google.com/github/zdwhite/Thinkful-Unit-5/blob/master/Drill_Survey_Questions.ipynb\" target=\"_parent\"><img src=\"https://colab.research.google.com/assets/colab-badge.svg\" alt=\"Open In Colab\"/></a>"
      ]
    },
    {
      "metadata": {
        "id": "iUgr613inMAm",
        "colab_type": "text"
      },
      "cell_type": "markdown",
      "source": [
        "#DRILL: When to use surveys State whether a survey would be the best option for answering each of the following questions.\n",
        "\n",
        "  In short ... No for all of them... Probably\n",
        "\n",
        "\n",
        "#1 Popularity of various Uber drivers.\n",
        "  Google and facebook already did a great job defining what popularity is using network graphs.\n",
        "  Other than  \"it's interesting\" there I can't see much value in ever asking people about the topic of popularity.\n",
        "\n",
        "\n",
        "#2 A grocery store wants to know how much people like strawberry, chocolate, and vanilla ice cream.\n",
        "  This is a measurable thing ... why ask people. \n",
        "    Find all instances of ice cream purchased.\n",
        "    Normalize the size and price (and any other properties that could affect this)\n",
        "    What type of icecream is purchased most when we account for these properties.\n",
        "  \n",
        "\n",
        "#3 Trojan wants to know whether their condoms are more popular among straight people or LGBTQ people. (Question Fixed)\n",
        "  \n",
        "  This is a property that is derivative of a better question. What condom brand do people in general prefer? Then cross sectioned these results by what ever filled out cross sectional features on your survey.\n",
        "\n",
        "  LET US ASSUME THOUGH YOU CAN'T DO THAT! Getting good data on what people prefer by asking them is riddled with all the aformentioned biases.\n",
        "  How might we derive this popularity? What is the rise in Trojan condom sales during Pride Week as compared to a base line sales during the year. How does this compare with other anomolous holidays with in the year? The comparrison of these two metrics now needs to be normalized by survey population statistics.\n",
        "    \n",
        "  What is another way we could derive this property?\n",
        "  \n",
        "  We could purchase adspace in dating apps like tinder grindr ect ect. Then measure the effect in either sales from the locality of those ads versus other similar populations with no ads.\n",
        "\n",
        "#4 Recently, rental rates for HappyCars have increased by 30%, which is quite unusual. You want to find out why this is happening and how to keep the increase going.\n",
        "\n",
        "First let's define rental rate as the rate in which someone rents a car. NOT the rate it costs to rent a car.\n",
        "\n",
        "  You could survey not the user(Sellers). However, let's think about what Happycars is. They are a broker. They help increase the liquidity in a market by matching many buyers to many different sellers. Understanding this in the context of a market economy means Happycars does not set a price they run a marketplace. Imagine you were for instance TD Ameritrade and users started buying index funds like crazy (Thanks Vanguard). Would you survey users as to why they are doing this? Probably not, you don't really care so long as you can convince buyers (ie traders) to be on your platform and match to sellers (ie other traders). This is because other than providing a matching service you can't controll market effects.\n",
        "\n",
        "  Next let's make the following assumption. It's a 30% increase across the board (world) in rental rates. WOWZERS!! How can we keep this going? The folks up in marketing say if this trend continues EVERYONE WILL BE RENTING CARS! \n",
        "  \n",
        "  Then some intern points out that gas prices world wide have dropped a substantial amount. Then another intern SCREAMS out \"OH MY F***!\", \"peace in the middle east was achieved and aparently the one state solution WORKS?!\". \n",
        "  \n",
        "  Suddenly everyone in the marketing department feels like an asshole for not reading the headlines of the New York Times that morning because they were too busy fantisizing about the fat bonus check they were going to recieve with out all with out knowing it was because peace in the middle east was achieved not because of anything they did what so ever.\n",
        "\n",
        "  So what is my point here? Quite simply, large anomolous evenly distributed shifts in user activity could be largely attributed to market effects of which a marketplace has 0 control over.\n",
        "\n",
        "  \n",
        "  \n",
        "#5 Assessing the success rate of a new advertising campaign.\n",
        "  \n",
        "  Have a control group or population that did not recieve the advertising campaign and compare sale rates. Survey Bad\n",
        "  \n",
        "#6 Measuring the effect of nurse/patient ratio on patient recovery rates in hospital wards.\n",
        "\n",
        "  Why don't we survey cancer patients if their cancer is going into remission after using kemo... For the same reason the above question is ridiculous.\n",
        "  \n",
        "  There are measureable outcomes and metrics to judge the answer of these questions by. Perhaps a more grey line question is understanding quality of life impact.\n",
        "  \n",
        "  \n",
        "  "
      ]
    },
    {
      "metadata": {
        "id": "nEoQBB4MnL31",
        "colab_type": "text"
      },
      "cell_type": "markdown",
      "source": [
        ""
      ]
    },
    {
      "metadata": {
        "id": "jfZXAD8gnJqB",
        "colab_type": "code",
        "colab": {}
      },
      "cell_type": "code",
      "source": [
        ""
      ],
      "execution_count": 0,
      "outputs": []
    }
  ]
}